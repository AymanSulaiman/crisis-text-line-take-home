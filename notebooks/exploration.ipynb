{
 "cells": [
  {
   "cell_type": "code",
   "execution_count": 1,
   "metadata": {},
   "outputs": [
    {
     "name": "stderr",
     "output_type": "stream",
     "text": [
      "24/05/23 18:06:27 WARN Utils: Your hostname, Aymans-MacBook-Pro-2.local resolves to a loopback address: 127.0.0.1; using 192.168.50.146 instead (on interface en4)\n",
      "24/05/23 18:06:27 WARN Utils: Set SPARK_LOCAL_IP if you need to bind to another address\n",
      "Setting default log level to \"WARN\".\n",
      "To adjust logging level use sc.setLogLevel(newLevel). For SparkR, use setLogLevel(newLevel).\n",
      "24/05/23 18:06:28 WARN NativeCodeLoader: Unable to load native-hadoop library for your platform... using builtin-java classes where applicable\n"
     ]
    }
   ],
   "source": [
    "import pyspark\n",
    "import os\n",
    "from pyspark.sql import SparkSession\n",
    "from pyspark.sql import functions as F\n",
    "from pyspark.sql import types as T\n",
    "import sys\n",
    "\n",
    "os.environ['PYSPARK_PYTHON'] = sys.executable\n",
    "os.environ['PYSPARK_DRIVER_PYTHON'] = sys.executable\n",
    "\n",
    "spark = SparkSession.builder \\\n",
    "    .appName(\"Medallion Architecture\") \\\n",
    "    .getOrCreate()"
   ]
  },
  {
   "cell_type": "code",
   "execution_count": 2,
   "metadata": {},
   "outputs": [
    {
     "name": "stderr",
     "output_type": "stream",
     "text": [
      "                                                                                \r"
     ]
    },
    {
     "name": "stdout",
     "output_type": "stream",
     "text": [
      "root\n",
      " |-- YEAR: integer (nullable = true)\n",
      " |-- AGE: integer (nullable = true)\n",
      " |-- EDUC: integer (nullable = true)\n",
      " |-- ETHNIC: integer (nullable = true)\n",
      " |-- RACE: integer (nullable = true)\n",
      " |-- GENDER: integer (nullable = true)\n",
      " |-- SPHSERVICE: integer (nullable = true)\n",
      " |-- CMPSERVICE: integer (nullable = true)\n",
      " |-- OPISERVICE: integer (nullable = true)\n",
      " |-- RTCSERVICE: integer (nullable = true)\n",
      " |-- IJSSERVICE: integer (nullable = true)\n",
      " |-- MH1: integer (nullable = true)\n",
      " |-- MH2: integer (nullable = true)\n",
      " |-- MH3: integer (nullable = true)\n",
      " |-- SUB: integer (nullable = true)\n",
      " |-- MARSTAT: integer (nullable = true)\n",
      " |-- SMISED: integer (nullable = true)\n",
      " |-- SAP: integer (nullable = true)\n",
      " |-- EMPLOY: integer (nullable = true)\n",
      " |-- DETNLF: integer (nullable = true)\n",
      " |-- VETERAN: integer (nullable = true)\n",
      " |-- LIVARAG: integer (nullable = true)\n",
      " |-- NUMMHS: integer (nullable = true)\n",
      " |-- TRAUSTREFLG: integer (nullable = true)\n",
      " |-- ANXIETYFLG: integer (nullable = true)\n",
      " |-- ADHDFLG: integer (nullable = true)\n",
      " |-- CONDUCTFLG: integer (nullable = true)\n",
      " |-- DELIRDEMFLG: integer (nullable = true)\n",
      " |-- BIPOLARFLG: integer (nullable = true)\n",
      " |-- DEPRESSFLG: integer (nullable = true)\n",
      " |-- ODDFLG: integer (nullable = true)\n",
      " |-- PDDFLG: integer (nullable = true)\n",
      " |-- PERSONFLG: integer (nullable = true)\n",
      " |-- SCHIZOFLG: integer (nullable = true)\n",
      " |-- ALCSUBFLG: integer (nullable = true)\n",
      " |-- OTHERDISFLG: integer (nullable = true)\n",
      " |-- STATEFIP: integer (nullable = true)\n",
      " |-- DIVISION: integer (nullable = true)\n",
      " |-- REGION: integer (nullable = true)\n",
      " |-- CASEID: long (nullable = true)\n",
      "\n"
     ]
    },
    {
     "name": "stderr",
     "output_type": "stream",
     "text": [
      "24/05/23 18:06:45 WARN SparkStringUtils: Truncated the string representation of a plan since it was too large. This behavior can be adjusted by setting 'spark.sql.debug.maxToStringFields'.\n"
     ]
    },
    {
     "name": "stdout",
     "output_type": "stream",
     "text": [
      "+----+---+----+------+----+------+----------+----------+----------+----------+----------+---+---+---+---+-------+------+---+------+------+-------+-------+------+-----------+----------+-------+----------+-----------+----------+----------+------+------+---------+---------+---------+-----------+--------+--------+------+-----------+\n",
      "|YEAR|AGE|EDUC|ETHNIC|RACE|GENDER|SPHSERVICE|CMPSERVICE|OPISERVICE|RTCSERVICE|IJSSERVICE|MH1|MH2|MH3|SUB|MARSTAT|SMISED|SAP|EMPLOY|DETNLF|VETERAN|LIVARAG|NUMMHS|TRAUSTREFLG|ANXIETYFLG|ADHDFLG|CONDUCTFLG|DELIRDEMFLG|BIPOLARFLG|DEPRESSFLG|ODDFLG|PDDFLG|PERSONFLG|SCHIZOFLG|ALCSUBFLG|OTHERDISFLG|STATEFIP|DIVISION|REGION|     CASEID|\n",
      "+----+---+----+------+----+------+----------+----------+----------+----------+----------+---+---+---+---+-------+------+---+------+------+-------+-------+------+-----------+----------+-------+----------+-----------+----------+----------+------+------+---------+---------+---------+-----------+--------+--------+------+-----------+\n",
      "|2021| 11|   4|     2|   3|     1|         2|         1|         2|         2|         2|  7| -9| -9| -9|      4|     3|  1|     4|    -9|      2|      2|     1|          0|         0|      0|         0|          0|         0|         1|     0|     0|        0|        0|        0|          0|       1|       6|     3|20210000001|\n",
      "|2021|  7|  -9|     3|   3|     2|         2|         1|         1|         2|         2| 11| -9| -9| -9|      1|     1|  1|    -9|    -9|     -9|     -9|     1|          0|         0|      0|         0|          0|         0|         0|     0|     0|        0|        1|        0|          0|       1|       6|     3|20210000002|\n",
      "|2021|  5|   5|     4|   5|     2|         1|         2|         2|         2|         2| 13| -9| -9| -9|      1|     1|  2|    -9|    -9|     -9|      2|     1|          0|         0|      0|         0|          0|         0|         0|     0|     0|        0|        0|        0|          1|       1|       6|     3|20210000003|\n",
      "|2021| 14|  -9|     3|   3|     2|         2|         1|         2|         2|         2| 11| -9| -9| -9|      1|    -9| -9|    -9|    -9|     -9|     -9|     1|          0|         0|      0|         0|          0|         0|         0|     0|     0|        0|        1|        0|          0|       1|       6|     3|20210000004|\n",
      "|2021|  4|   4|     4|   5|     2|         1|         2|         2|         2|         2|  7|  2|  1| -9|      1|     1|  2|    -9|    -9|     -9|      2|     3|          1|         1|      0|         0|          0|         0|         1|     0|     0|        0|        0|        0|          0|       1|       6|     3|20210000005|\n",
      "+----+---+----+------+----+------+----------+----------+----------+----------+----------+---+---+---+---+-------+------+---+------+------+-------+-------+------+-----------+----------+-------+----------+-----------+----------+----------+------+------+---------+---------+---------+-----------+--------+--------+------+-----------+\n",
      "only showing top 5 rows\n",
      "\n"
     ]
    }
   ],
   "source": [
    "raw_path = os.path.join(\"..\",\"data\",\"*.csv\")\n",
    "\n",
    "df = spark.read.csv(raw_path, header=True, inferSchema=True)\n",
    "df.printSchema()\n",
    "df.show(5)"
   ]
  },
  {
   "cell_type": "code",
   "execution_count": 3,
   "metadata": {},
   "outputs": [
    {
     "name": "stdout",
     "output_type": "stream",
     "text": [
      "+----+---+----+------+----+------+----------+----------+----------+----------+----------+---+---+---+---+-------+------+---+------+------+-------+-------+------+-----------+----------+-------+----------+-----------+----------+----------+------+------+---------+---------+---------+-----------+--------+--------+------+-----------+\n",
      "|YEAR|AGE|EDUC|ETHNIC|RACE|GENDER|SPHSERVICE|CMPSERVICE|OPISERVICE|RTCSERVICE|IJSSERVICE|MH1|MH2|MH3|SUB|MARSTAT|SMISED|SAP|EMPLOY|DETNLF|VETERAN|LIVARAG|NUMMHS|TRAUSTREFLG|ANXIETYFLG|ADHDFLG|CONDUCTFLG|DELIRDEMFLG|BIPOLARFLG|DEPRESSFLG|ODDFLG|PDDFLG|PERSONFLG|SCHIZOFLG|ALCSUBFLG|OTHERDISFLG|STATEFIP|DIVISION|REGION|     CASEID|\n",
      "+----+---+----+------+----+------+----------+----------+----------+----------+----------+---+---+---+---+-------+------+---+------+------+-------+-------+------+-----------+----------+-------+----------+-----------+----------+----------+------+------+---------+---------+---------+-----------+--------+--------+------+-----------+\n",
      "|2021| 11|   4|     2|   3|     1|         2|         1|         2|         2|         2|  7| -9| -9| -9|      4|     3|  1|     4|    -9|      2|      2|     1|          0|         0|      0|         0|          0|         0|         1|     0|     0|        0|        0|        0|          0|       1|       6|     3|20210000001|\n",
      "|2021|  7|  -9|     3|   3|     2|         2|         1|         1|         2|         2| 11| -9| -9| -9|      1|     1|  1|    -9|    -9|     -9|     -9|     1|          0|         0|      0|         0|          0|         0|         0|     0|     0|        0|        1|        0|          0|       1|       6|     3|20210000002|\n",
      "|2021|  5|   5|     4|   5|     2|         1|         2|         2|         2|         2| 13| -9| -9| -9|      1|     1|  2|    -9|    -9|     -9|      2|     1|          0|         0|      0|         0|          0|         0|         0|     0|     0|        0|        0|        0|          1|       1|       6|     3|20210000003|\n",
      "|2021| 14|  -9|     3|   3|     2|         2|         1|         2|         2|         2| 11| -9| -9| -9|      1|    -9| -9|    -9|    -9|     -9|     -9|     1|          0|         0|      0|         0|          0|         0|         0|     0|     0|        0|        1|        0|          0|       1|       6|     3|20210000004|\n",
      "|2021|  4|   4|     4|   5|     2|         1|         2|         2|         2|         2|  7|  2|  1| -9|      1|     1|  2|    -9|    -9|     -9|      2|     3|          1|         1|      0|         0|          0|         0|         1|     0|     0|        0|        0|        0|          0|       1|       6|     3|20210000005|\n",
      "|2021|  8|   3|     3|  -9|     1|         2|         2|         1|         2|         1|  8| 12| -9| 11|      1|     3|  1|     4|    -9|      2|      3|     2|          0|         0|      0|         0|          0|         0|         0|     1|     0|        0|        0|        1|          0|       1|       6|     3|20210000006|\n",
      "|2021|  3|   3|     4|   5|     1|         1|         1|         2|         2|         2|  2|  3| -9| -9|      1|     2|  2|    -9|    -9|     -9|      2|     2|          0|         1|      1|         0|          0|         0|         0|     0|     0|        0|        0|        0|          0|       1|       6|     3|20210000007|\n",
      "|2021| 14|  -9|     4|  -9|     2|         2|         1|         2|         2|         2| -9| -9| -9| -9|     -9|     3|  2|     5|     5|     -9|      3|     0|          0|         0|      0|         0|          0|         0|         0|     0|     0|        0|        0|        0|          0|       1|       6|     3|20210000008|\n",
      "|2021|  3|   3|     4|   3|     1|         1|         1|         2|         2|         2|  7|  3| -9| -9|      1|     2|  2|    -9|    -9|     -9|      2|     2|          0|         0|      1|         0|          0|         0|         1|     0|     0|        0|        0|        0|          0|       1|       6|     3|20210000009|\n",
      "|2021|  3|   3|     4|   3|     2|         2|         1|         2|         1|         2| 13|  7|  2| -9|     -9|     2|  2|    -9|    -9|     -9|      2|     3|          0|         1|      0|         0|          0|         0|         1|     0|     0|        0|        0|        0|          1|       1|       6|     3|20210000010|\n",
      "|2021|  2|   2|     4|   3|     2|         2|         1|         2|         1|         2|  8|  3| 13| -9|      1|     2|  2|    -9|    -9|     -9|      3|     3|          0|         0|      1|         0|          0|         0|         0|     1|     0|        0|        0|        0|          1|       1|       6|     3|20210000011|\n",
      "|2021|  8|  -9|    -9|  -9|     2|         2|         1|         1|         2|         2|  7| -9| -9| -9|     -9|     1|  1|     5|     5|     -9|      2|     1|          0|         0|      0|         0|          0|         0|         1|     0|     0|        0|        0|        0|          0|       1|       6|     3|20210000012|\n",
      "|2021|  3|   3|     3|   4|     2|         2|         1|         2|         2|         2|  7|  2| -9| -9|      1|     2|  2|     5|     2|     -9|      2|     2|          0|         1|      0|         0|          0|         0|         1|     0|     0|        0|        0|        0|          0|       1|       6|     3|20210000013|\n",
      "|2021|  1|  -9|     4|   3|     1|         2|         1|         2|         2|         2|  4| -9| -9| -9|      1|     3|  1|    -9|    -9|      2|      2|     1|          0|         0|      0|         1|          0|         0|         0|     0|     0|        0|        0|        0|          0|       1|       6|     3|20210000014|\n",
      "|2021|  2|   2|     4|   3|     2|         2|         1|         2|         1|         2|  1|  3|  8| -9|      1|     2|  2|    -9|    -9|     -9|      3|     3|          1|         0|      1|         0|          0|         0|         0|     1|     0|        0|        0|        0|          0|       1|       6|     3|20210000015|\n",
      "|2021| 14|   2|     3|   3|     2|         2|         1|         1|         2|         2| 11| -9| -9| -9|     -9|     1|  2|     5|     5|     -9|      2|     1|          0|         0|      0|         0|          0|         0|         0|     0|     0|        0|        1|        0|          0|       1|       6|     3|20210000016|\n",
      "|2021| 11|   4|     4|  -9|     1|         2|         1|         2|         2|         2| -9| -9| -9| -9|      1|     3|  2|    -9|    -9|      2|     -9|     0|          0|         0|      0|         0|          0|         0|         0|     0|     0|        0|        0|        0|          0|       1|       6|     3|20210000017|\n",
      "|2021|  8|   2|     3|   3|     2|         2|         1|         1|         2|         2| 11| -9| -9| -9|     -9|     1|  2|     4|    -9|     -9|      3|     1|          0|         0|      0|         0|          0|         0|         0|     0|     0|        0|        1|        0|          0|       1|       6|     3|20210000018|\n",
      "|2021|  9|  -9|     4|   6|     1|         1|         2|         2|         2|         2| 11| 10| -9|  9|      1|     1|  1|    -9|    -9|     -9|      3|     2|          0|         0|      0|         0|          0|         0|         0|     0|     0|        1|        1|        0|          0|       1|       6|     3|20210000019|\n",
      "|2021| 10|   4|     4|   6|     1|         2|         1|         1|         2|         2|  7| -9| -9| -9|     -9|     1|  2|     5|     1|     -9|      2|     1|          0|         0|      0|         0|          0|         0|         1|     0|     0|        0|        0|        0|          0|       1|       6|     3|20210000020|\n",
      "+----+---+----+------+----+------+----------+----------+----------+----------+----------+---+---+---+---+-------+------+---+------+------+-------+-------+------+-----------+----------+-------+----------+-----------+----------+----------+------+------+---------+---------+---------+-----------+--------+--------+------+-----------+\n",
      "only showing top 20 rows\n",
      "\n"
     ]
    },
    {
     "name": "stderr",
     "output_type": "stream",
     "text": [
      "[Stage 6:>                                                          (0 + 1) / 1]\r"
     ]
    },
    {
     "name": "stdout",
     "output_type": "stream",
     "text": [
      "+-------+--------------------+------------------+-------------------+-----------------+-----------------+------------------+-------------------+-------------------+-------------------+-------------------+-------------------+-----------------+------------------+------------------+------------------+-----------------+-----------------+-------------------+------------------+------------------+------------------+------------------+------------------+-------------------+-------------------+-------------------+-------------------+--------------------+-------------------+-------------------+--------------------+--------------------+--------------------+-------------------+-------------------+-------------------+------------------+------------------+------------------+--------------------+\n",
      "|summary|                YEAR|               AGE|               EDUC|           ETHNIC|             RACE|            GENDER|         SPHSERVICE|         CMPSERVICE|         OPISERVICE|         RTCSERVICE|         IJSSERVICE|              MH1|               MH2|               MH3|               SUB|          MARSTAT|           SMISED|                SAP|            EMPLOY|            DETNLF|           VETERAN|           LIVARAG|            NUMMHS|        TRAUSTREFLG|         ANXIETYFLG|            ADHDFLG|         CONDUCTFLG|         DELIRDEMFLG|         BIPOLARFLG|         DEPRESSFLG|              ODDFLG|              PDDFLG|           PERSONFLG|          SCHIZOFLG|          ALCSUBFLG|        OTHERDISFLG|          STATEFIP|          DIVISION|            REGION|              CASEID|\n",
      "+-------+--------------------+------------------+-------------------+-----------------+-----------------+------------------+-------------------+-------------------+-------------------+-------------------+-------------------+-----------------+------------------+------------------+------------------+-----------------+-----------------+-------------------+------------------+------------------+------------------+------------------+------------------+-------------------+-------------------+-------------------+-------------------+--------------------+-------------------+-------------------+--------------------+--------------------+--------------------+-------------------+-------------------+-------------------+------------------+------------------+------------------+--------------------+\n",
      "|  count|             6509025|           6509025|            6509025|          6509025|          6509025|           6509025|            6509025|            6509025|            6509025|            6509025|            6509025|          6509025|           6509025|           6509025|           6509025|          6509025|          6509025|            6509025|           6509025|           6509025|           6509025|           6509025|           6509025|            6509025|            6509025|            6509025|            6509025|             6509025|            6509025|            6509025|             6509025|             6509025|             6509025|            6509025|            6509025|            6509025|           6509025|           6509025|           6509025|             6509025|\n",
      "|   mean|              2021.0|6.9043231513168255|-3.2387371380506296|2.005490223190109|3.033241844976782|1.5080628819216395| 1.9841718229688778| 1.0231933354073768| 1.9655180307342497|  1.988731952942261|  1.991363068969623|4.203177434408379|-4.120532030526846|-7.702714308210523|-6.709810609115805|-2.86747170275118|1.139726149461709|0.21049020398600404|-4.197848986599375|-6.966829133395555|-4.653131306148002|-2.434652348085927|1.2890933741996689|0.19811477141353737|0.23158998467512415|0.09782709391959625|0.01508751310680171|0.004545842119211...|0.10233698595411755|0.27505594155806745|0.023828607203075728|0.016540879778461443|0.024482007673960384|0.11046231962544313|0.05845898579280307|0.13074707809541367| 28.01132612027147| 5.474894934341164|2.7188904636255047|2.021325451277384E10|\n",
      "| stddev|5.695141942866576...| 4.073035463911821| 6.2680628457166625|4.417266841877915|4.432504830549413|0.6799480791766002|0.12481044922694498|0.15051713550513693|0.18246360781317136|0.10555131398935497|0.09253289019699651|6.319211941491739| 7.350499405198251| 4.400187282418498| 5.726267941616583|5.248652000191252|2.509229104297362|  3.652198099659696| 6.290527053992495|4.4903756719958885| 5.370182878005784| 5.438095466514698|0.8002754366922891|0.39857914291672325|0.42184842184509663| 0.2970807418430398| 0.1219011170499268| 0.06726944428085169| 0.3030909787065498|0.44654249652870853|  0.1525149443676293| 0.12754325373693676| 0.15454010043794839|0.31346516658862805|0.23460933747203852| 0.3371235635870789|16.119471801703114|2.5946590695992673| 1.106566506346111|  1878993.8122935637|\n",
      "|    min|                2021|                -9|                 -9|               -9|               -9|                -9|                  1|                  1|                  1|                  1|                  1|               -9|                -9|                -9|                -9|               -9|               -9|                 -9|                -9|                -9|                -9|                -9|                 0|                  0|                  0|                  0|                  0|                   0|                  0|                  0|                   0|                   0|                   0|                  0|                  0|                  0|                 1|                 0|                 0|         20210000001|\n",
      "|    max|                2021|                14|                  5|                4|                6|                 2|                  2|                  2|                  2|                  2|                  2|               13|                13|                13|                13|                4|                3|                  2|                 5|                 5|                 2|                 3|                 3|                  1|                  1|                  1|                  1|                   1|                  1|                  1|                   1|                   1|                   1|                  1|                  1|                  1|                99|                 9|                 4|         20216509025|\n",
      "+-------+--------------------+------------------+-------------------+-----------------+-----------------+------------------+-------------------+-------------------+-------------------+-------------------+-------------------+-----------------+------------------+------------------+------------------+-----------------+-----------------+-------------------+------------------+------------------+------------------+------------------+------------------+-------------------+-------------------+-------------------+-------------------+--------------------+-------------------+-------------------+--------------------+--------------------+--------------------+-------------------+-------------------+-------------------+------------------+------------------+------------------+--------------------+\n",
      "\n"
     ]
    },
    {
     "name": "stderr",
     "output_type": "stream",
     "text": [
      "                                                                                \r"
     ]
    }
   ],
   "source": [
    "df.show()\n",
    "df.describe().show()"
   ]
  },
  {
   "cell_type": "markdown",
   "metadata": {},
   "source": [
    "Bronze Layer\n",
    "Staging (Bronze) Layer:\n",
    "- i. Create a bronze table to store the raw data from the CSV file.\n",
    "- ii. Perform basic data validation and cleaning, such as handling null values, data types, and column names.\n",
    "- iii. Partition the bronze table by an appropriate column(s) to improve query performance.\n",
    "- iv. Prepare to discuss how you would handle logging and exception handling to capture any issues during the bronze layer processing"
   ]
  },
  {
   "cell_type": "code",
   "execution_count": 4,
   "metadata": {},
   "outputs": [
    {
     "name": "stderr",
     "output_type": "stream",
     "text": [
      "24/05/23 18:07:34 WARN MemoryManager: Total allocation exceeds 95.00% (946,339,828 bytes) of heap memory\n",
      "Scaling row group sizes to 88.13% for 8 writers\n",
      "24/05/23 18:07:35 WARN MemoryManager: Total allocation exceeds 95.00% (946,339,828 bytes) of heap memory\n",
      "Scaling row group sizes to 88.13% for 8 writers\n",
      "24/05/23 18:07:40 WARN MemoryManager: Total allocation exceeds 95.00% (946,339,828 bytes) of heap memory\n",
      "Scaling row group sizes to 88.13% for 8 writers\n",
      "24/05/23 18:07:45 WARN MemoryManager: Total allocation exceeds 95.00% (946,339,828 bytes) of heap memory\n",
      "Scaling row group sizes to 88.13% for 8 writers\n",
      "24/05/23 18:07:45 WARN MemoryManager: Total allocation exceeds 95.00% (946,339,828 bytes) of heap memory\n",
      "Scaling row group sizes to 88.13% for 8 writers\n",
      "24/05/23 18:07:47 WARN MemoryManager: Total allocation exceeds 95.00% (946,339,828 bytes) of heap memory\n",
      "Scaling row group sizes to 88.13% for 8 writers\n",
      "24/05/23 18:07:49 WARN MemoryManager: Total allocation exceeds 95.00% (946,339,828 bytes) of heap memory\n",
      "Scaling row group sizes to 88.13% for 8 writers\n",
      "                                                                                \r"
     ]
    }
   ],
   "source": [
    "bronze_path = os.path.join(\"..\",\"data\",\"medallion_layers\",\"bronze\")\n",
    "df.write.partitionBy(\"GENDER\", \"RACE\", \"ETHNIC\", \"MARSTAT\", \"EMPLOY\").mode(\"overwrite\").parquet(bronze_path)\n",
    "\n"
   ]
  },
  {
   "cell_type": "code",
   "execution_count": 5,
   "metadata": {},
   "outputs": [
    {
     "name": "stdout",
     "output_type": "stream",
     "text": [
      "+----+---+----+----------+----------+----------+----------+----------+---+---+---+---+------+---+------+-------+-------+------+-----------+----------+-------+----------+-----------+----------+----------+------+------+---------+---------+---------+-----------+--------+--------+------+-----------+------+----+------+-------+------+\n",
      "|YEAR|AGE|EDUC|SPHSERVICE|CMPSERVICE|OPISERVICE|RTCSERVICE|IJSSERVICE|MH1|MH2|MH3|SUB|SMISED|SAP|DETNLF|VETERAN|LIVARAG|NUMMHS|TRAUSTREFLG|ANXIETYFLG|ADHDFLG|CONDUCTFLG|DELIRDEMFLG|BIPOLARFLG|DEPRESSFLG|ODDFLG|PDDFLG|PERSONFLG|SCHIZOFLG|ALCSUBFLG|OTHERDISFLG|STATEFIP|DIVISION|REGION|     CASEID|GENDER|RACE|ETHNIC|MARSTAT|EMPLOY|\n",
      "+----+---+----+----------+----------+----------+----------+----------+---+---+---+---+------+---+------+-------+-------+------+-----------+----------+-------+----------+-----------+----------+----------+------+------+---------+---------+---------+-----------+--------+--------+------+-----------+------+----+------+-------+------+\n",
      "|2021|  6|  -9|         2|         1|         2|         2|         2|  7| -9| -9| 11|     1|  1|    -9|     -9|     -9|     1|          0|         0|      0|         0|          0|         0|         1|     0|     0|        0|        0|        0|          0|      48|       7|     3|20215547006|     1|   5|     4|      1|    -9|\n",
      "|2021|  1|   2|         2|         1|         2|         2|         2|  3|  8| 13| -9|     2|  2|    -9|     -9|      2|     3|          0|         0|      1|         0|          0|         0|         0|     1|     0|        0|        0|        0|          1|      48|       7|     3|20215673353|     1|   5|     4|      1|    -9|\n",
      "|2021| 12|  -9|         2|         1|         2|         2|         2| -9| -9| -9| -9|     1| -9|    -9|     -9|     -9|     0|          0|         0|      0|         0|          0|         0|         0|     0|     0|        0|        0|        0|          0|      48|       7|     3|20215547015|     1|   5|     4|      1|    -9|\n",
      "|2021|  2|   2|         2|         1|         2|         2|         2|  3| -9| -9| -9|     2|  2|    -9|     -9|      2|     1|          0|         0|      1|         0|          0|         0|         0|     0|     0|        0|        0|        0|          0|      48|       7|     3|20215673372|     1|   5|     4|      1|    -9|\n",
      "|2021|  7|  -9|         2|         1|         2|         2|         2| -9| -9| -9| -9|    -9| -9|    -9|     -9|     -9|     0|          0|         0|      0|         0|          0|         0|         0|     0|     0|        0|        0|        0|          0|      48|       7|     3|20215547018|     1|   5|     4|      1|    -9|\n",
      "+----+---+----+----------+----------+----------+----------+----------+---+---+---+---+------+---+------+-------+-------+------+-----------+----------+-------+----------+-----------+----------+----------+------+------+---------+---------+---------+-----------+--------+--------+------+-----------+------+----+------+-------+------+\n",
      "only showing top 5 rows\n",
      "\n",
      "root\n",
      " |-- YEAR: integer (nullable = true)\n",
      " |-- AGE: integer (nullable = true)\n",
      " |-- EDUC: integer (nullable = true)\n",
      " |-- SPHSERVICE: integer (nullable = true)\n",
      " |-- CMPSERVICE: integer (nullable = true)\n",
      " |-- OPISERVICE: integer (nullable = true)\n",
      " |-- RTCSERVICE: integer (nullable = true)\n",
      " |-- IJSSERVICE: integer (nullable = true)\n",
      " |-- MH1: integer (nullable = true)\n",
      " |-- MH2: integer (nullable = true)\n",
      " |-- MH3: integer (nullable = true)\n",
      " |-- SUB: integer (nullable = true)\n",
      " |-- SMISED: integer (nullable = true)\n",
      " |-- SAP: integer (nullable = true)\n",
      " |-- DETNLF: integer (nullable = true)\n",
      " |-- VETERAN: integer (nullable = true)\n",
      " |-- LIVARAG: integer (nullable = true)\n",
      " |-- NUMMHS: integer (nullable = true)\n",
      " |-- TRAUSTREFLG: integer (nullable = true)\n",
      " |-- ANXIETYFLG: integer (nullable = true)\n",
      " |-- ADHDFLG: integer (nullable = true)\n",
      " |-- CONDUCTFLG: integer (nullable = true)\n",
      " |-- DELIRDEMFLG: integer (nullable = true)\n",
      " |-- BIPOLARFLG: integer (nullable = true)\n",
      " |-- DEPRESSFLG: integer (nullable = true)\n",
      " |-- ODDFLG: integer (nullable = true)\n",
      " |-- PDDFLG: integer (nullable = true)\n",
      " |-- PERSONFLG: integer (nullable = true)\n",
      " |-- SCHIZOFLG: integer (nullable = true)\n",
      " |-- ALCSUBFLG: integer (nullable = true)\n",
      " |-- OTHERDISFLG: integer (nullable = true)\n",
      " |-- STATEFIP: integer (nullable = true)\n",
      " |-- DIVISION: integer (nullable = true)\n",
      " |-- REGION: integer (nullable = true)\n",
      " |-- CASEID: long (nullable = true)\n",
      " |-- GENDER: integer (nullable = true)\n",
      " |-- RACE: integer (nullable = true)\n",
      " |-- ETHNIC: integer (nullable = true)\n",
      " |-- MARSTAT: integer (nullable = true)\n",
      " |-- EMPLOY: integer (nullable = true)\n",
      "\n"
     ]
    }
   ],
   "source": [
    "bronze_cleaned_path = os.path.join(\"..\",\"data\",\"medallion_layers\",\"bronze_cleaned\")\n",
    "bronze_df = spark.read.parquet(bronze_path, header=True, inferSchema=True)\n",
    "cleaned_bronze_df = bronze_df.na.drop()\n",
    "cleaned_bronze_df.show(5)\n",
    "cleaned_bronze_df.printSchema()"
   ]
  },
  {
   "cell_type": "code",
   "execution_count": 6,
   "metadata": {},
   "outputs": [
    {
     "name": "stderr",
     "output_type": "stream",
     "text": [
      "                                                                                \r"
     ]
    }
   ],
   "source": [
    "cleaned_bronze_df.write.partitionBy(\"GENDER\", \"RACE\", \"ETHNIC\", \"MARSTAT\", \"EMPLOY\").mode(\"overwrite\").parquet(bronze_cleaned_path)"
   ]
  },
  {
   "cell_type": "markdown",
   "metadata": {},
   "source": [
    "Silver Layer\n",
    "- i. Create a silver table to store the transformed and enriched data.\n",
    "- ii. Perform more complex transformations (See Transformation Exercise\n",
    "for Senior Data Engineer for details), such as data aggregations, and data quality checks.\n",
    "- iii. Partition the silver table by an appropriate column(s) to improve query performance.\n",
    "- iv. Implement schema checks to ensure the transformed data matches the expected schema.\n",
    "- v. Prepare to discuss how you would handle monitoring to track the success and failure of the silver layer processing."
   ]
  },
  {
   "cell_type": "code",
   "execution_count": 7,
   "metadata": {},
   "outputs": [
    {
     "name": "stdout",
     "output_type": "stream",
     "text": [
      "root\n",
      " |-- YEAR: integer (nullable = true)\n",
      " |-- AGE: integer (nullable = true)\n",
      " |-- EDUC: integer (nullable = true)\n",
      " |-- SPHSERVICE: integer (nullable = true)\n",
      " |-- CMPSERVICE: integer (nullable = true)\n",
      " |-- OPISERVICE: integer (nullable = true)\n",
      " |-- RTCSERVICE: integer (nullable = true)\n",
      " |-- IJSSERVICE: integer (nullable = true)\n",
      " |-- MH1: integer (nullable = true)\n",
      " |-- MH2: integer (nullable = true)\n",
      " |-- MH3: integer (nullable = true)\n",
      " |-- SUB: integer (nullable = true)\n",
      " |-- SMISED: integer (nullable = true)\n",
      " |-- SAP: integer (nullable = true)\n",
      " |-- DETNLF: integer (nullable = true)\n",
      " |-- VETERAN: integer (nullable = true)\n",
      " |-- LIVARAG: integer (nullable = true)\n",
      " |-- NUMMHS: integer (nullable = true)\n",
      " |-- TRAUSTREFLG: integer (nullable = true)\n",
      " |-- ANXIETYFLG: integer (nullable = true)\n",
      " |-- ADHDFLG: integer (nullable = true)\n",
      " |-- CONDUCTFLG: integer (nullable = true)\n",
      " |-- DELIRDEMFLG: integer (nullable = true)\n",
      " |-- BIPOLARFLG: integer (nullable = true)\n",
      " |-- DEPRESSFLG: integer (nullable = true)\n",
      " |-- ODDFLG: integer (nullable = true)\n",
      " |-- PDDFLG: integer (nullable = true)\n",
      " |-- PERSONFLG: integer (nullable = true)\n",
      " |-- SCHIZOFLG: integer (nullable = true)\n",
      " |-- ALCSUBFLG: integer (nullable = true)\n",
      " |-- OTHERDISFLG: integer (nullable = true)\n",
      " |-- STATEFIP: integer (nullable = true)\n",
      " |-- DIVISION: integer (nullable = true)\n",
      " |-- REGION: integer (nullable = true)\n",
      " |-- CASEID: long (nullable = true)\n",
      " |-- GENDER: integer (nullable = true)\n",
      " |-- RACE: integer (nullable = true)\n",
      " |-- ETHNIC: integer (nullable = true)\n",
      " |-- MARSTAT: integer (nullable = true)\n",
      " |-- EMPLOY: integer (nullable = true)\n",
      "\n"
     ]
    }
   ],
   "source": [
    "\n",
    "bronze_cleaned_path = os.path.join(\"..\",\"data\",\"medallion_layers\",\"bronze_cleaned\")\n",
    "\n",
    "cleaned_bronze_df = spark.read.parquet(bronze_cleaned_path)\n",
    "\n",
    "cleaned_bronze_df.printSchema()"
   ]
  },
  {
   "cell_type": "markdown",
   "metadata": {},
   "source": [
    "1. Data Type Conversion\n",
    "    - a. Convert the categorical variables (GENDER, RACE, ETHNICITY, MARITAL, EMPLOY, INCOME) from numeric values to appropriate string or categorical data types.\n",
    "    \n",
    "    - b. Ensure that the CASEID variable is stored as an integer data type.\n",
    "    \n",
    "    - c. Convert the numeric variables (MENHLTH, PHYHLTH, POORHLTH) to float data types.\n",
    "    \n",
    "    - d. Validate the data types for all variables to ensure they are consistent with the expected formats.\n",
    "    \n",
    "    - e. Provide a summary of the data type conversions performed."
   ]
  },
  {
   "cell_type": "code",
   "execution_count": 8,
   "metadata": {},
   "outputs": [
    {
     "name": "stdout",
     "output_type": "stream",
     "text": [
      "root\n",
      " |-- YEAR: integer (nullable = true)\n",
      " |-- AGE: integer (nullable = true)\n",
      " |-- EDUC: integer (nullable = true)\n",
      " |-- SPHSERVICE: integer (nullable = true)\n",
      " |-- CMPSERVICE: integer (nullable = true)\n",
      " |-- OPISERVICE: integer (nullable = true)\n",
      " |-- RTCSERVICE: integer (nullable = true)\n",
      " |-- IJSSERVICE: integer (nullable = true)\n",
      " |-- MH1: integer (nullable = true)\n",
      " |-- MH2: integer (nullable = true)\n",
      " |-- MH3: integer (nullable = true)\n",
      " |-- SUB: integer (nullable = true)\n",
      " |-- SMISED: integer (nullable = true)\n",
      " |-- SAP: integer (nullable = true)\n",
      " |-- DETNLF: integer (nullable = true)\n",
      " |-- VETERAN: integer (nullable = true)\n",
      " |-- LIVARAG: integer (nullable = true)\n",
      " |-- NUMMHS: integer (nullable = true)\n",
      " |-- TRAUSTREFLG: integer (nullable = true)\n",
      " |-- ANXIETYFLG: integer (nullable = true)\n",
      " |-- ADHDFLG: integer (nullable = true)\n",
      " |-- CONDUCTFLG: integer (nullable = true)\n",
      " |-- DELIRDEMFLG: integer (nullable = true)\n",
      " |-- BIPOLARFLG: integer (nullable = true)\n",
      " |-- DEPRESSFLG: integer (nullable = true)\n",
      " |-- ODDFLG: integer (nullable = true)\n",
      " |-- PDDFLG: integer (nullable = true)\n",
      " |-- PERSONFLG: integer (nullable = true)\n",
      " |-- SCHIZOFLG: integer (nullable = true)\n",
      " |-- ALCSUBFLG: integer (nullable = true)\n",
      " |-- OTHERDISFLG: integer (nullable = true)\n",
      " |-- STATEFIP: integer (nullable = true)\n",
      " |-- DIVISION: integer (nullable = true)\n",
      " |-- REGION: integer (nullable = true)\n",
      " |-- CASEID: long (nullable = true)\n",
      " |-- GENDER: integer (nullable = true)\n",
      " |-- RACE: integer (nullable = true)\n",
      " |-- ETHNIC: integer (nullable = true)\n",
      " |-- MARSTAT: integer (nullable = true)\n",
      " |-- EMPLOY: integer (nullable = true)\n",
      "\n"
     ]
    }
   ],
   "source": [
    "gender = {\n",
    "    1: \"Male\",\n",
    "    2: \"Female\",\n",
    "    -9: \"Missing/unknown/not collected/invalid\"\n",
    "}\n",
    "\n",
    "race = {\n",
    "    1: \"American Indian/Alaska Native\",\n",
    "    2: \"Asian\",\n",
    "    3: \"Black or African American\",\n",
    "    4: \"Native Hawaiian or Other Pacific Islander\",\n",
    "    5: \"White\",\n",
    "    6: \"Some other race alone/two or more races\",\n",
    "    -9: \"Missing/unknown/not collected/invalid\"\n",
    "}\n",
    "\n",
    "marital_status = {\n",
    "    1: \"Never married\",\n",
    "    2: \"Now married\",\n",
    "    3: \"Separated\",\n",
    "    4: \"Divorced, widowed\",\n",
    "    -9: \"Missing/unknown/not collected/invalid\"\n",
    "}\n",
    "\n",
    "employment_status = {\n",
    "    1: \"Full-time\",\n",
    "    2: \"Part-time\",\n",
    "    3: \"Employed full-time/part-time not differentiated\",\n",
    "    4: \"Unemployed\",\n",
    "    5: \"Not in labor force\",\n",
    "    -9: \"Missing/unknown/not collected/invalid\"\n",
    "}\n",
    "\n",
    "ethnicity = {\n",
    "    1: \"Mexican\",\n",
    "    2: \"Puerto Rican\",\n",
    "    3: \"Other Hispanic or Latino origin\",\n",
    "    4: \"Not of Hispanic or Latino origin\",\n",
    "    -9: \"Missing/unknown/not collected/invalid\"\n",
    "}\n",
    "\n",
    "bronze_cleaned_path = os.path.join(\"..\",\"data\",\"medallion_layers\",\"bronze_cleaned\")\n",
    "\n",
    "cleaned_bronze_df = spark.read.parquet(bronze_cleaned_path)\n",
    "\n",
    "cleaned_bronze_df.printSchema()"
   ]
  },
  {
   "cell_type": "code",
   "execution_count": 12,
   "metadata": {},
   "outputs": [],
   "source": [
    "# cleaned_bronze_df.withColumn()"
   ]
  },
  {
   "cell_type": "code",
   "execution_count": 17,
   "metadata": {},
   "outputs": [
    {
     "name": "stdout",
     "output_type": "stream",
     "text": [
      "root\n",
      " |-- YEAR: integer (nullable = true)\n",
      " |-- AGE: integer (nullable = true)\n",
      " |-- EDUC: integer (nullable = true)\n",
      " |-- SPHSERVICE: integer (nullable = true)\n",
      " |-- CMPSERVICE: integer (nullable = true)\n",
      " |-- OPISERVICE: integer (nullable = true)\n",
      " |-- RTCSERVICE: integer (nullable = true)\n",
      " |-- IJSSERVICE: integer (nullable = true)\n",
      " |-- MH1: integer (nullable = true)\n",
      " |-- MH2: integer (nullable = true)\n",
      " |-- MH3: integer (nullable = true)\n",
      " |-- SUB: integer (nullable = true)\n",
      " |-- SMISED: integer (nullable = true)\n",
      " |-- SAP: integer (nullable = true)\n",
      " |-- DETNLF: integer (nullable = true)\n",
      " |-- VETERAN: integer (nullable = true)\n",
      " |-- LIVARAG: integer (nullable = true)\n",
      " |-- NUMMHS: integer (nullable = true)\n",
      " |-- TRAUSTREFLG: integer (nullable = true)\n",
      " |-- ANXIETYFLG: integer (nullable = true)\n",
      " |-- ADHDFLG: integer (nullable = true)\n",
      " |-- CONDUCTFLG: integer (nullable = true)\n",
      " |-- DELIRDEMFLG: integer (nullable = true)\n",
      " |-- BIPOLARFLG: integer (nullable = true)\n",
      " |-- DEPRESSFLG: integer (nullable = true)\n",
      " |-- ODDFLG: integer (nullable = true)\n",
      " |-- PDDFLG: integer (nullable = true)\n",
      " |-- PERSONFLG: integer (nullable = true)\n",
      " |-- SCHIZOFLG: integer (nullable = true)\n",
      " |-- ALCSUBFLG: integer (nullable = true)\n",
      " |-- OTHERDISFLG: integer (nullable = true)\n",
      " |-- STATEFIP: integer (nullable = true)\n",
      " |-- DIVISION: integer (nullable = true)\n",
      " |-- REGION: integer (nullable = true)\n",
      " |-- CASEID: integer (nullable = true)\n",
      " |-- GENDER: string (nullable = true)\n",
      " |-- RACE: string (nullable = true)\n",
      " |-- ETHNIC: string (nullable = true)\n",
      " |-- MARSTAT: string (nullable = true)\n",
      " |-- EMPLOY: string (nullable = true)\n",
      "\n",
      "GENDER: Converted to string/categorical using predefined mapping\n",
      "RACE: Converted to string/categorical using predefined mapping\n",
      "ETHNIC: Converted to string/categorical using predefined mapping\n",
      "MARSTAT: Converted to string/categorical using predefined mapping\n",
      "EMPLOY: Converted to string/categorical using predefined mapping\n",
      "CASEID: Converted to integer\n",
      "MENHLTH: Converted to float\n",
      "PHYHLTH: Converted to float\n",
      "POORHLTH: Converted to float\n"
     ]
    }
   ],
   "source": [
    "def create_map_udf(mapping_dict):\n",
    "    return F.udf(lambda key: mapping_dict.get(key, \"Unknown\"), T.StringType())\n",
    "\n",
    "race_map_udf = create_map_udf(race)\n",
    "gender_map_udf = create_map_udf(gender)\n",
    "marital_status_map_udf = create_map_udf(marital_status)\n",
    "employment_status_map_udf = create_map_udf(employment_status)\n",
    "ethnicity_map_udf = create_map_udf(ethnicity)\n",
    "\n",
    "\n",
    "silver_df = cleaned_bronze_df\n",
    "silver_df = silver_df.withColumn(\"GENDER\", gender_map_udf(\"GENDER\"))\n",
    "silver_df = silver_df.withColumn(\"RACE\", race_map_udf(\"RACE\"))\n",
    "silver_df = silver_df.withColumn(\"MARSTAT\", marital_status_map_udf(\"MARSTAT\"))\n",
    "silver_df = silver_df.withColumn(\"EMPLOY\", employment_status_map_udf(\"EMPLOY\"))\n",
    "silver_df = silver_df.withColumn(\"ETHNIC\", ethnicity_map_udf(\"ETHNIC\"))\n",
    "\n",
    "# Ensure CASEID is stored as an integer\n",
    "silver_df = silver_df.withColumn(\"CASEID\", F.col(\"CASEID\").cast(\"integer\"))\n",
    "\n",
    "# Convert numeric variables to float\n",
    "# numeric_columns = [\"MENHLTH\", \"PHYHLTH\", \"POORHLTH\"]\n",
    "# numeric_columns = [\"MH1\",\"MH2\",\"MH3\"]\n",
    "# for column in numeric_columns:\n",
    "#     silver_df = silver_df.withColumn(column, F.col(column).cast(\"float\"))\n",
    "\n",
    "# Validate the data types for all variables\n",
    "silver_df.printSchema()\n",
    "\n",
    "# Summary of data type conversions\n",
    "data_type_summary = {\n",
    "    \"GENDER\": \"Converted to string/categorical using predefined mapping\",\n",
    "    \"RACE\": \"Converted to string/categorical using predefined mapping\",\n",
    "    \"ETHNIC\": \"Converted to string/categorical using predefined mapping\",\n",
    "    \"MARSTAT\": \"Converted to string/categorical using predefined mapping\",\n",
    "    \"EMPLOY\": \"Converted to string/categorical using predefined mapping\",\n",
    "    \"CASEID\": \"Converted to integer\",\n",
    "    \"MENHLTH\": \"Converted to float\",\n",
    "    \"PHYHLTH\": \"Converted to float\",\n",
    "    \"POORHLTH\": \"Converted to float\"\n",
    "}\n",
    "\n",
    "# Print summary\n",
    "for column, summary in data_type_summary.items():\n",
    "    print(f\"{column}: {summary}\")"
   ]
  },
  {
   "cell_type": "code",
   "execution_count": 18,
   "metadata": {},
   "outputs": [
    {
     "name": "stderr",
     "output_type": "stream",
     "text": [
      "[Stage 13:>                                                         (0 + 1) / 1]\r"
     ]
    },
    {
     "name": "stdout",
     "output_type": "stream",
     "text": [
      "+----+---+----+----------+----------+----------+----------+----------+---+---+---+---+------+---+------+-------+-------+------+-----------+----------+-------+----------+-----------+----------+----------+------+------+---------+---------+---------+-----------+--------+--------+------+-----------+------+-----+--------------------+-------------+--------------------+\n",
      "|YEAR|AGE|EDUC|SPHSERVICE|CMPSERVICE|OPISERVICE|RTCSERVICE|IJSSERVICE|MH1|MH2|MH3|SUB|SMISED|SAP|DETNLF|VETERAN|LIVARAG|NUMMHS|TRAUSTREFLG|ANXIETYFLG|ADHDFLG|CONDUCTFLG|DELIRDEMFLG|BIPOLARFLG|DEPRESSFLG|ODDFLG|PDDFLG|PERSONFLG|SCHIZOFLG|ALCSUBFLG|OTHERDISFLG|STATEFIP|DIVISION|REGION|     CASEID|GENDER| RACE|              ETHNIC|      MARSTAT|              EMPLOY|\n",
      "+----+---+----+----------+----------+----------+----------+----------+---+---+---+---+------+---+------+-------+-------+------+-----------+----------+-------+----------+-----------+----------+----------+------+------+---------+---------+---------+-----------+--------+--------+------+-----------+------+-----+--------------------+-------------+--------------------+\n",
      "|2021|  3|  -9|         2|         1|         2|         2|         2|  3|  2|  9| -9|     2|  2|    -9|     -9|     -9|     3|          0|         1|      1|         0|          0|         0|         0|     0|     1|        0|        0|        0|          0|      53|       9|     4|-1258473418|  Male|White|Not of Hispanic o...|Never married|Missing/unknown/n...|\n",
      "|2021|  2|   2|         2|         1|         2|         2|         2|  1| -9| -9| -9|     2|  1|    -9|      2|      2|     1|          1|         0|      0|         0|          0|         0|         0|     0|     0|        0|        0|        0|          0|      40|       7|     3|-1260361729|  Male|White|Not of Hispanic o...|Never married|Missing/unknown/n...|\n",
      "|2021|  2|  -9|         1|         1|         2|         1|         2|  3|  8| 13| -9|     3|  2|    -9|     -9|      3|     3|          0|         0|      1|         0|          0|         0|         0|     1|     0|        0|        0|        0|          1|      53|       9|     4|-1258730148|  Male|White|Not of Hispanic o...|Never married|Missing/unknown/n...|\n",
      "|2021|  1|  -9|         2|         1|         2|         2|         2|  3|  1| -9| -9|     2|  2|    -9|      2|      2|     2|          1|         0|      1|         0|          0|         0|         0|     0|     0|        0|        0|        0|          0|      35|       8|     4|-1260740661|  Male|White|Not of Hispanic o...|Never married|Missing/unknown/n...|\n",
      "|2021| 13|   5|         2|         1|         2|         2|         2| 13| -9| -9| -9|     1|  2|    -9|      2|      2|     1|          0|         0|      0|         0|          0|         0|         0|     0|     0|        0|        0|        0|          1|      53|       9|     4|-1258473412|  Male|White|Not of Hispanic o...|Never married|Missing/unknown/n...|\n",
      "|2021|  1|  -9|         2|         1|         2|         2|         2| -9| -9| -9| -9|    -9|  1|    -9|      2|     -9|     0|          0|         0|      0|         0|          0|         0|         0|     0|     0|        0|        0|        0|          0|      40|       7|     3|-1260361726|  Male|White|Not of Hispanic o...|Never married|Missing/unknown/n...|\n",
      "|2021|  3|  -9|         1|         2|         2|         2|         2| -9| -9| -9| -9|     2| -9|    -9|     -9|      3|     0|          0|         0|      0|         0|          0|         0|         0|     0|     0|        0|        0|        0|          0|      53|       9|     4|-1258730118|  Male|White|Not of Hispanic o...|Never married|Missing/unknown/n...|\n",
      "|2021|  3|  -9|         2|         1|         2|         2|         2| 13|  6|  2| -9|     2|  2|    -9|      2|      2|     3|          0|         1|      0|         0|          0|         1|         0|     0|     0|        0|        0|        0|          1|      35|       8|     4|-1260740653|  Male|White|Not of Hispanic o...|Never married|Missing/unknown/n...|\n",
      "|2021|  1|  -9|         2|         1|         2|         2|         2|  3|  1|  8| -9|     2|  2|    -9|     -9|     -9|     3|          1|         0|      1|         0|          0|         0|         0|     1|     0|        0|        0|        0|          0|      53|       9|     4|-1258473389|  Male|White|Not of Hispanic o...|Never married|Missing/unknown/n...|\n",
      "|2021|  1|   2|         2|         1|         2|         2|         2| 13| -9| -9| -9|     3|  1|    -9|      2|      2|     1|          0|         0|      0|         0|          0|         0|         0|     0|     0|        0|        0|        0|          1|      40|       7|     3|-1260361710|  Male|White|Not of Hispanic o...|Never married|Missing/unknown/n...|\n",
      "|2021|  3|   3|         1|         2|         2|         2|         2| -9| -9| -9| -9|     3|  1|    -9|     -9|      2|     0|          0|         0|      0|         0|          0|         0|         0|     0|     0|        0|        0|        0|          0|      53|       9|     4|-1258730004|  Male|White|Not of Hispanic o...|Never married|Missing/unknown/n...|\n",
      "|2021|  1|  -9|         2|         1|         2|         2|         2| 12| -9| -9|  4|     2|  1|    -9|      2|      2|     1|          0|         0|      0|         0|          0|         0|         0|     0|     0|        0|        0|        1|          0|      35|       8|     4|-1260740634|  Male|White|Not of Hispanic o...|Never married|Missing/unknown/n...|\n",
      "|2021|  1|  -9|         2|         1|         2|         2|         2|  3|  2|  8| -9|     2|  2|    -9|     -9|     -9|     3|          0|         1|      1|         0|          0|         0|         0|     1|     0|        0|        0|        0|          0|      53|       9|     4|-1258473363|  Male|White|Not of Hispanic o...|Never married|Missing/unknown/n...|\n",
      "|2021|  1|   2|         2|         1|         2|         2|         2|  4|  3| -9| -9|     3|  2|    -9|      2|      2|     2|          0|         0|      1|         1|          0|         0|         0|     0|     0|        0|        0|        0|          0|      40|       7|     3|-1260361696|  Male|White|Not of Hispanic o...|Never married|Missing/unknown/n...|\n",
      "|2021|  1|  -9|         2|         1|         2|         2|         2|  1| -9| -9| -9|     2|  2|    -9|     -9|     -9|     1|          1|         0|      0|         0|          0|         0|         0|     0|     0|        0|        0|        0|          0|      53|       9|     4|-1258729940|  Male|White|Not of Hispanic o...|Never married|Missing/unknown/n...|\n",
      "|2021|  2|  -9|         2|         1|         2|         2|         2| 13| -9| -9| -9|     2|  2|    -9|      2|      2|     1|          0|         0|      0|         0|          0|         0|         0|     0|     0|        0|        0|        0|          1|      35|       8|     4|-1260740577|  Male|White|Not of Hispanic o...|Never married|Missing/unknown/n...|\n",
      "|2021|  4|  -9|         2|         1|         2|         2|         2|  3|  2| -9| -9|     1|  2|    -9|      2|      2|     2|          0|         1|      1|         0|          0|         0|         0|     0|     0|        0|        0|        0|          0|      53|       9|     4|-1258473361|  Male|White|Not of Hispanic o...|Never married|Missing/unknown/n...|\n",
      "|2021|  2|   2|         2|         1|         2|         2|         2|  4| -9| -9| -9|     3|  1|    -9|      2|      2|     1|          0|         0|      0|         1|          0|         0|         0|     0|     0|        0|        0|        0|          0|      40|       7|     3|-1260361658|  Male|White|Not of Hispanic o...|Never married|Missing/unknown/n...|\n",
      "|2021|  2|  -9|         2|         1|         2|         2|         2| -9| -9| -9| -9|    -9|  2|    -9|     -9|     -9|     0|          0|         0|      0|         0|          0|         0|         0|     0|     0|        0|        0|        0|          0|      53|       9|     4|-1258729931|  Male|White|Not of Hispanic o...|Never married|Missing/unknown/n...|\n",
      "|2021|  1|  -9|         2|         1|         2|         2|         2| 13|  2| -9| -9|     2|  2|    -9|      2|      2|     2|          0|         1|      0|         0|          0|         0|         0|     0|     0|        0|        0|        0|          1|      35|       8|     4|-1260740534|  Male|White|Not of Hispanic o...|Never married|Missing/unknown/n...|\n",
      "+----+---+----+----------+----------+----------+----------+----------+---+---+---+---+------+---+------+-------+-------+------+-----------+----------+-------+----------+-----------+----------+----------+------+------+---------+---------+---------+-----------+--------+--------+------+-----------+------+-----+--------------------+-------------+--------------------+\n",
      "only showing top 20 rows\n",
      "\n"
     ]
    },
    {
     "name": "stderr",
     "output_type": "stream",
     "text": [
      "                                                                                \r"
     ]
    }
   ],
   "source": [
    "silver_df.show()"
   ]
  },
  {
   "cell_type": "markdown",
   "metadata": {},
   "source": [
    "2. Data Normalization and Standardization\n",
    "- a. Normalize the numeric variables (MENHLTH, PHYHLTH, POORHLTH) using min-max scaling to bring them to a common scale between 0 and 1.\n",
    "- b. Standardize the numeric variables (MENHLTH, PHYHLTH, POORHLTH) using z-score normalization to have a mean of 0 and a standard deviation of 1.\n",
    "- c. Ensure that the normalized and standardized variables are stored in new columns, keeping the original variables intact.\n",
    "- d. Provide a summary of the normalization and standardization techniques used and the rationale behind them."
   ]
  },
  {
   "cell_type": "markdown",
   "metadata": {},
   "source": [
    "3. Data Partitioning and Sampling\n",
    "- a. Split the dataset into training and testing sets, ensuring a representative split based on the demographic variables (GENDER, RACE, ETHNICITY, MARITAL, EMPLOY, INCOME).\n",
    "- b. Implement stratified sampling to create the training and testing sets, maintaining the same proportions of the demographic variables in both sets.\n",
    "- c. Create a validation set from the training set using a similar stratified sampling approach.\n",
    "- d. Ensure that the dataset splits are stored in separate files or data structures, with appropriate naming conventions and metadata.\n",
    "- e. Provide a detailed report on the data partitioning and sampling process, including the rationale for the chosen techniques and the characteristics of the resulting datasets."
   ]
  },
  {
   "cell_type": "markdown",
   "metadata": {},
   "source": [
    "Business (Gold) Layer\n",
    "- i. Create a gold table to store the final, curated data.\n",
    "- ii. Perform additional transformations and calculations to create\n",
    "business-ready datasets.\n",
    "- iii. Partition the gold table by an appropriate column(s) to improve query performance.\n",
    "- iv. Prepare to discuss how you would handle schema checks to ensure the\n",
    "final data meets the expected schema.\n",
    "- v. Prepare to discuss how you would handle monitoring to track the success\n",
    "and failure of the gold layer processing"
   ]
  },
  {
   "cell_type": "markdown",
   "metadata": {},
   "source": []
  }
 ],
 "metadata": {
  "kernelspec": {
   "display_name": "crisis_text_line",
   "language": "python",
   "name": "python3"
  },
  "language_info": {
   "codemirror_mode": {
    "name": "ipython",
    "version": 3
   },
   "file_extension": ".py",
   "mimetype": "text/x-python",
   "name": "python",
   "nbconvert_exporter": "python",
   "pygments_lexer": "ipython3",
   "version": "3.10.14"
  }
 },
 "nbformat": 4,
 "nbformat_minor": 2
}
