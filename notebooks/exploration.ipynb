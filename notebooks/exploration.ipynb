{
 "cells": [
  {
   "cell_type": "code",
   "execution_count": 1,
   "metadata": {},
   "outputs": [
    {
     "name": "stderr",
     "output_type": "stream",
     "text": [
      "Setting default log level to \"WARN\".\n",
      "To adjust logging level use sc.setLogLevel(newLevel). For SparkR, use setLogLevel(newLevel).\n",
      "24/05/22 12:14:16 WARN NativeCodeLoader: Unable to load native-hadoop library for your platform... using builtin-java classes where applicable\n"
     ]
    }
   ],
   "source": [
    "import pyspark\n",
    "import os\n",
    "from pyspark.sql import SparkSession\n",
    "import sys\n",
    "\n",
    "os.environ['PYSPARK_PYTHON'] = sys.executable\n",
    "os.environ['PYSPARK_DRIVER_PYTHON'] = sys.executable\n",
    "\n",
    "spark = SparkSession.builder \\\n",
    "    .appName(\"Medallion Architecture\") \\\n",
    "    .getOrCreate()"
   ]
  },
  {
   "cell_type": "code",
   "execution_count": 2,
   "metadata": {},
   "outputs": [
    {
     "name": "stderr",
     "output_type": "stream",
     "text": [
      "                                                                                \r"
     ]
    },
    {
     "name": "stdout",
     "output_type": "stream",
     "text": [
      "root\n",
      " |-- YEAR: integer (nullable = true)\n",
      " |-- AGE: integer (nullable = true)\n",
      " |-- EDUC: integer (nullable = true)\n",
      " |-- ETHNIC: integer (nullable = true)\n",
      " |-- RACE: integer (nullable = true)\n",
      " |-- GENDER: integer (nullable = true)\n",
      " |-- SPHSERVICE: integer (nullable = true)\n",
      " |-- CMPSERVICE: integer (nullable = true)\n",
      " |-- OPISERVICE: integer (nullable = true)\n",
      " |-- RTCSERVICE: integer (nullable = true)\n",
      " |-- IJSSERVICE: integer (nullable = true)\n",
      " |-- MH1: integer (nullable = true)\n",
      " |-- MH2: integer (nullable = true)\n",
      " |-- MH3: integer (nullable = true)\n",
      " |-- SUB: integer (nullable = true)\n",
      " |-- MARSTAT: integer (nullable = true)\n",
      " |-- SMISED: integer (nullable = true)\n",
      " |-- SAP: integer (nullable = true)\n",
      " |-- EMPLOY: integer (nullable = true)\n",
      " |-- DETNLF: integer (nullable = true)\n",
      " |-- VETERAN: integer (nullable = true)\n",
      " |-- LIVARAG: integer (nullable = true)\n",
      " |-- NUMMHS: integer (nullable = true)\n",
      " |-- TRAUSTREFLG: integer (nullable = true)\n",
      " |-- ANXIETYFLG: integer (nullable = true)\n",
      " |-- ADHDFLG: integer (nullable = true)\n",
      " |-- CONDUCTFLG: integer (nullable = true)\n",
      " |-- DELIRDEMFLG: integer (nullable = true)\n",
      " |-- BIPOLARFLG: integer (nullable = true)\n",
      " |-- DEPRESSFLG: integer (nullable = true)\n",
      " |-- ODDFLG: integer (nullable = true)\n",
      " |-- PDDFLG: integer (nullable = true)\n",
      " |-- PERSONFLG: integer (nullable = true)\n",
      " |-- SCHIZOFLG: integer (nullable = true)\n",
      " |-- ALCSUBFLG: integer (nullable = true)\n",
      " |-- OTHERDISFLG: integer (nullable = true)\n",
      " |-- STATEFIP: integer (nullable = true)\n",
      " |-- DIVISION: integer (nullable = true)\n",
      " |-- REGION: integer (nullable = true)\n",
      " |-- CASEID: long (nullable = true)\n",
      "\n"
     ]
    },
    {
     "name": "stderr",
     "output_type": "stream",
     "text": [
      "24/05/22 12:14:33 WARN SparkStringUtils: Truncated the string representation of a plan since it was too large. This behavior can be adjusted by setting 'spark.sql.debug.maxToStringFields'.\n"
     ]
    },
    {
     "name": "stdout",
     "output_type": "stream",
     "text": [
      "+----+---+----+------+----+------+----------+----------+----------+----------+----------+---+---+---+---+-------+------+---+------+------+-------+-------+------+-----------+----------+-------+----------+-----------+----------+----------+------+------+---------+---------+---------+-----------+--------+--------+------+-----------+\n",
      "|YEAR|AGE|EDUC|ETHNIC|RACE|GENDER|SPHSERVICE|CMPSERVICE|OPISERVICE|RTCSERVICE|IJSSERVICE|MH1|MH2|MH3|SUB|MARSTAT|SMISED|SAP|EMPLOY|DETNLF|VETERAN|LIVARAG|NUMMHS|TRAUSTREFLG|ANXIETYFLG|ADHDFLG|CONDUCTFLG|DELIRDEMFLG|BIPOLARFLG|DEPRESSFLG|ODDFLG|PDDFLG|PERSONFLG|SCHIZOFLG|ALCSUBFLG|OTHERDISFLG|STATEFIP|DIVISION|REGION|     CASEID|\n",
      "+----+---+----+------+----+------+----------+----------+----------+----------+----------+---+---+---+---+-------+------+---+------+------+-------+-------+------+-----------+----------+-------+----------+-----------+----------+----------+------+------+---------+---------+---------+-----------+--------+--------+------+-----------+\n",
      "|2021| 11|   4|     2|   3|     1|         2|         1|         2|         2|         2|  7| -9| -9| -9|      4|     3|  1|     4|    -9|      2|      2|     1|          0|         0|      0|         0|          0|         0|         1|     0|     0|        0|        0|        0|          0|       1|       6|     3|20210000001|\n",
      "|2021|  7|  -9|     3|   3|     2|         2|         1|         1|         2|         2| 11| -9| -9| -9|      1|     1|  1|    -9|    -9|     -9|     -9|     1|          0|         0|      0|         0|          0|         0|         0|     0|     0|        0|        1|        0|          0|       1|       6|     3|20210000002|\n",
      "|2021|  5|   5|     4|   5|     2|         1|         2|         2|         2|         2| 13| -9| -9| -9|      1|     1|  2|    -9|    -9|     -9|      2|     1|          0|         0|      0|         0|          0|         0|         0|     0|     0|        0|        0|        0|          1|       1|       6|     3|20210000003|\n",
      "|2021| 14|  -9|     3|   3|     2|         2|         1|         2|         2|         2| 11| -9| -9| -9|      1|    -9| -9|    -9|    -9|     -9|     -9|     1|          0|         0|      0|         0|          0|         0|         0|     0|     0|        0|        1|        0|          0|       1|       6|     3|20210000004|\n",
      "|2021|  4|   4|     4|   5|     2|         1|         2|         2|         2|         2|  7|  2|  1| -9|      1|     1|  2|    -9|    -9|     -9|      2|     3|          1|         1|      0|         0|          0|         0|         1|     0|     0|        0|        0|        0|          0|       1|       6|     3|20210000005|\n",
      "+----+---+----+------+----+------+----------+----------+----------+----------+----------+---+---+---+---+-------+------+---+------+------+-------+-------+------+-----------+----------+-------+----------+-----------+----------+----------+------+------+---------+---------+---------+-----------+--------+--------+------+-----------+\n",
      "only showing top 5 rows\n",
      "\n"
     ]
    }
   ],
   "source": [
    "raw_path = os.path.join(\"..\",\"data\",\"*.csv\")\n",
    "\n",
    "df = spark.read.csv(raw_path, header=True, inferSchema=True)\n",
    "df.printSchema()\n",
    "df.show(5)"
   ]
  },
  {
   "cell_type": "code",
   "execution_count": 3,
   "metadata": {},
   "outputs": [
    {
     "name": "stderr",
     "output_type": "stream",
     "text": [
      "24/05/22 12:14:42 WARN MemoryManager: Total allocation exceeds 95.00% (1,013,579,763 bytes) of heap memory\n",
      "Scaling row group sizes to 94.40% for 8 writers\n",
      "24/05/22 12:14:44 WARN MemoryManager: Total allocation exceeds 95.00% (1,013,579,763 bytes) of heap memory\n",
      "Scaling row group sizes to 94.40% for 8 writers\n",
      "24/05/22 12:14:45 WARN MemoryManager: Total allocation exceeds 95.00% (1,013,579,763 bytes) of heap memory\n",
      "Scaling row group sizes to 94.40% for 8 writers\n",
      "24/05/22 12:14:45 WARN MemoryManager: Total allocation exceeds 95.00% (1,013,579,763 bytes) of heap memory\n",
      "Scaling row group sizes to 94.40% for 8 writers\n",
      "24/05/22 12:14:46 WARN MemoryManager: Total allocation exceeds 95.00% (1,013,579,763 bytes) of heap memory\n",
      "Scaling row group sizes to 94.40% for 8 writers\n",
      "24/05/22 12:14:46 WARN MemoryManager: Total allocation exceeds 95.00% (1,013,579,763 bytes) of heap memory\n",
      "Scaling row group sizes to 94.40% for 8 writers\n",
      "24/05/22 12:14:46 WARN MemoryManager: Total allocation exceeds 95.00% (1,013,579,763 bytes) of heap memory\n",
      "Scaling row group sizes to 94.40% for 8 writers\n",
      "24/05/22 12:14:46 WARN MemoryManager: Total allocation exceeds 95.00% (1,013,579,763 bytes) of heap memory\n",
      "Scaling row group sizes to 94.40% for 8 writers\n",
      "24/05/22 12:14:47 WARN MemoryManager: Total allocation exceeds 95.00% (1,013,579,763 bytes) of heap memory\n",
      "Scaling row group sizes to 94.40% for 8 writers\n",
      "24/05/22 12:14:47 WARN MemoryManager: Total allocation exceeds 95.00% (1,013,579,763 bytes) of heap memory\n",
      "Scaling row group sizes to 94.40% for 8 writers\n",
      "24/05/22 12:14:47 WARN MemoryManager: Total allocation exceeds 95.00% (1,013,579,763 bytes) of heap memory\n",
      "Scaling row group sizes to 94.40% for 8 writers\n",
      "                                                                                \r"
     ]
    }
   ],
   "source": [
    "bronze_path = os.path.join(\"..\",\"data\",\"medallion_layers\",\"bronze\")\n",
    "df.write.partitionBy(\"REGION\", \"STATEFIP\").mode(\"overwrite\").parquet(bronze_path)\n",
    "\n"
   ]
  },
  {
   "cell_type": "code",
   "execution_count": 4,
   "metadata": {},
   "outputs": [
    {
     "name": "stdout",
     "output_type": "stream",
     "text": [
      "+----+---+----+------+----+------+----------+----------+----------+----------+----------+---+---+---+---+-------+------+---+------+------+-------+-------+------+-----------+----------+-------+----------+-----------+----------+----------+------+------+---------+---------+---------+-----------+--------+-----------+------+--------+\n",
      "|YEAR|AGE|EDUC|ETHNIC|RACE|GENDER|SPHSERVICE|CMPSERVICE|OPISERVICE|RTCSERVICE|IJSSERVICE|MH1|MH2|MH3|SUB|MARSTAT|SMISED|SAP|EMPLOY|DETNLF|VETERAN|LIVARAG|NUMMHS|TRAUSTREFLG|ANXIETYFLG|ADHDFLG|CONDUCTFLG|DELIRDEMFLG|BIPOLARFLG|DEPRESSFLG|ODDFLG|PDDFLG|PERSONFLG|SCHIZOFLG|ALCSUBFLG|OTHERDISFLG|DIVISION|     CASEID|REGION|STATEFIP|\n",
      "+----+---+----+------+----+------+----------+----------+----------+----------+----------+---+---+---+---+-------+------+---+------+------+-------+-------+------+-----------+----------+-------+----------+-----------+----------+----------+------+------+---------+---------+---------+-----------+--------+-----------+------+--------+\n",
      "|2021| 12|   3|     3|  -9|     2|         2|         1|         2|         2|         2|  7| -9| -9| -9|      4|     3|  2|    -9|    -9|      2|      2|     1|          0|         0|      0|         0|          0|         0|         1|     0|     0|        0|        0|        0|          0|       2|20214035051|     1|      34|\n",
      "|2021|  9|   2|     3|   5|     1|         2|         2|         1|         1|         2| 11| -9| -9| -9|      1|     1|  1|    -9|    -9|      2|      3|     1|          0|         0|      0|         0|          0|         0|         0|     0|     0|        0|        1|        0|          0|       2|20213621767|     1|      34|\n",
      "|2021|  3|  -9|     3|   6|     1|         2|         1|         2|         2|         2|  1|  7| 12| -9|     -9|     2| -9|    -9|    -9|     -9|     -9|     3|          1|         0|      0|         0|          0|         0|         1|     0|     0|        0|        0|        1|          0|       2|20214035052|     1|      34|\n",
      "|2021| 13|   4|     3|  -9|     2|         2|         1|         2|         1|         2| 11| -9| -9| -9|      1|     1|  1|     5|     5|      2|      2|     1|          0|         0|      0|         0|          0|         0|         0|     0|     0|        0|        1|        0|          0|       2|20213621768|     1|      34|\n",
      "|2021|  8|   4|     4|   3|     2|         2|         1|         2|         2|         2|  6| -9| -9| -9|      1|     3|  2|    -9|    -9|      2|      2|     1|          0|         0|      0|         0|          0|         1|         0|     0|     0|        0|        0|        0|          0|       2|20214035053|     1|      34|\n",
      "+----+---+----+------+----+------+----------+----------+----------+----------+----------+---+---+---+---+-------+------+---+------+------+-------+-------+------+-----------+----------+-------+----------+-----------+----------+----------+------+------+---------+---------+---------+-----------+--------+-----------+------+--------+\n",
      "only showing top 5 rows\n",
      "\n"
     ]
    },
    {
     "name": "stderr",
     "output_type": "stream",
     "text": [
      "                                                                                \r"
     ]
    }
   ],
   "source": [
    "bronze_cleaned_path = os.path.join(\"..\",\"data\",\"medallion_layers\",\"bronze_cleaned\")\n",
    "bronze_df = spark.read.parquet(bronze_path, header=True, inferSchema=True)\n",
    "cleaned_bronze_df = bronze_df.na.drop()\n",
    "cleaned_bronze_df.show(5)\n",
    "cleaned_bronze_df.write.partitionBy(\"REGION\", \"STATEFIP\").mode(\"overwrite\").parquet(bronze_cleaned_path)"
   ]
  }
 ],
 "metadata": {
  "kernelspec": {
   "display_name": "crisis_text_line",
   "language": "python",
   "name": "python3"
  },
  "language_info": {
   "codemirror_mode": {
    "name": "ipython",
    "version": 3
   },
   "file_extension": ".py",
   "mimetype": "text/x-python",
   "name": "python",
   "nbconvert_exporter": "python",
   "pygments_lexer": "ipython3",
   "version": "3.10.14"
  }
 },
 "nbformat": 4,
 "nbformat_minor": 2
}
