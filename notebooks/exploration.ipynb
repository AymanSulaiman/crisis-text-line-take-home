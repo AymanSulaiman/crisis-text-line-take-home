{
 "cells": [
  {
   "cell_type": "code",
   "execution_count": 18,
   "metadata": {},
   "outputs": [
    {
     "name": "stderr",
     "output_type": "stream",
     "text": [
      "24/05/26 19:51:20 WARN SparkSession: Using an existing Spark session; only runtime SQL configurations will take effect.\n"
     ]
    }
   ],
   "source": [
    "import pyspark\n",
    "import os\n",
    "from pyspark.sql import SparkSession\n",
    "from pyspark.sql import functions as F\n",
    "from pyspark.sql import types as T\n",
    "import sys\n",
    "\n",
    "os.environ['PYSPARK_PYTHON'] = sys.executable\n",
    "os.environ['PYSPARK_DRIVER_PYTHON'] = sys.executable\n",
    "\n",
    "\n",
    "# Replace these values with your machine's specifications\n",
    "total_memory = \"32g\"  # Example total memory, adjust as needed\n",
    "total_cores = 12  # Example total cores, adjust as needed\n",
    "\n",
    "# spark =( \n",
    "#     SparkSession.builder \\\n",
    "#         .appName(\"Medallion Architecture\") \\\n",
    "#         .config(\"spark.executor.memory\", \"30g\")  # Set executor memory slightly less than total to avoid overhead issues\n",
    "#         .config(\"spark.driver.memory\", \"30g\")  # Set driver memory slightly less than total to avoid overhead issues\n",
    "#         .config(\"spark.executor.instances\", \"1\")  # Number of executors; setting to 1 if all resources are on a single machine\n",
    "#         .config(\"spark.executor.cores\", str(total_cores - 1))  # Leave 1 core for the OS\n",
    "#         .config(\"spark.sql.shuffle.partitions\", str(total_cores * 2))  # Shuffle partitions can be a multiple of cores\n",
    "#         .getOrCreate()\n",
    "#     )\n",
    "\n",
    "total_memory = \"32g\"\n",
    "total_cores = 12\n",
    "\n",
    "spark = (\n",
    "    SparkSession.builder\n",
    "        .appName(\"Medallion Architecture\")\n",
    "        .config(\"spark.executor.memory\", \"16g\")\n",
    "        .config(\"spark.driver.memory\", \"16g\")\n",
    "        .config(\"spark.executor.instances\", \"1\")\n",
    "        .config(\"spark.executor.cores\", str(total_cores - 1))\n",
    "        .config(\"spark.sql.shuffle.partitions\", \"24\")\n",
    "        .config(\"spark.memory.fraction\", \"0.9\")\n",
    "        .config(\"spark.memory.storageFraction\", \"0.4\")\n",
    "        .config(\"spark.executor.extraJavaOptions\", \"-XX:+UseG1GC -XX:InitiatingHeapOccupancyPercent=35\")\n",
    "        .getOrCreate()\n",
    ")"
   ]
  },
  {
   "cell_type": "markdown",
   "metadata": {},
   "source": [
    "Read the CSV / parquet file from the Volumes:\n",
    "\n",
    "- a. Use PySpark to read the dataset.\n",
    "- b. Explore the dataset and understand the schema and data types.\n",
    "- c. Implement schema checks to ensure the integrity of the input data."
   ]
  },
  {
   "cell_type": "code",
   "execution_count": 19,
   "metadata": {},
   "outputs": [
    {
     "name": "stderr",
     "output_type": "stream",
     "text": [
      "                                                                                \r"
     ]
    },
    {
     "name": "stdout",
     "output_type": "stream",
     "text": [
      "root\n",
      " |-- YEAR: integer (nullable = true)\n",
      " |-- AGE: integer (nullable = true)\n",
      " |-- EDUC: integer (nullable = true)\n",
      " |-- ETHNIC: integer (nullable = true)\n",
      " |-- RACE: integer (nullable = true)\n",
      " |-- GENDER: integer (nullable = true)\n",
      " |-- SPHSERVICE: integer (nullable = true)\n",
      " |-- CMPSERVICE: integer (nullable = true)\n",
      " |-- OPISERVICE: integer (nullable = true)\n",
      " |-- RTCSERVICE: integer (nullable = true)\n",
      " |-- IJSSERVICE: integer (nullable = true)\n",
      " |-- MH1: integer (nullable = true)\n",
      " |-- MH2: integer (nullable = true)\n",
      " |-- MH3: integer (nullable = true)\n",
      " |-- SUB: integer (nullable = true)\n",
      " |-- MARSTAT: integer (nullable = true)\n",
      " |-- SMISED: integer (nullable = true)\n",
      " |-- SAP: integer (nullable = true)\n",
      " |-- EMPLOY: integer (nullable = true)\n",
      " |-- DETNLF: integer (nullable = true)\n",
      " |-- VETERAN: integer (nullable = true)\n",
      " |-- LIVARAG: integer (nullable = true)\n",
      " |-- NUMMHS: integer (nullable = true)\n",
      " |-- TRAUSTREFLG: integer (nullable = true)\n",
      " |-- ANXIETYFLG: integer (nullable = true)\n",
      " |-- ADHDFLG: integer (nullable = true)\n",
      " |-- CONDUCTFLG: integer (nullable = true)\n",
      " |-- DELIRDEMFLG: integer (nullable = true)\n",
      " |-- BIPOLARFLG: integer (nullable = true)\n",
      " |-- DEPRESSFLG: integer (nullable = true)\n",
      " |-- ODDFLG: integer (nullable = true)\n",
      " |-- PDDFLG: integer (nullable = true)\n",
      " |-- PERSONFLG: integer (nullable = true)\n",
      " |-- SCHIZOFLG: integer (nullable = true)\n",
      " |-- ALCSUBFLG: integer (nullable = true)\n",
      " |-- OTHERDISFLG: integer (nullable = true)\n",
      " |-- STATEFIP: integer (nullable = true)\n",
      " |-- DIVISION: integer (nullable = true)\n",
      " |-- REGION: integer (nullable = true)\n",
      " |-- CASEID: long (nullable = true)\n",
      "\n",
      "+----+---+----+------+----+------+----------+----------+----------+----------+----------+---+---+---+---+-------+------+---+------+------+-------+-------+------+-----------+----------+-------+----------+-----------+----------+----------+------+------+---------+---------+---------+-----------+--------+--------+------+-----------+\n",
      "|YEAR|AGE|EDUC|ETHNIC|RACE|GENDER|SPHSERVICE|CMPSERVICE|OPISERVICE|RTCSERVICE|IJSSERVICE|MH1|MH2|MH3|SUB|MARSTAT|SMISED|SAP|EMPLOY|DETNLF|VETERAN|LIVARAG|NUMMHS|TRAUSTREFLG|ANXIETYFLG|ADHDFLG|CONDUCTFLG|DELIRDEMFLG|BIPOLARFLG|DEPRESSFLG|ODDFLG|PDDFLG|PERSONFLG|SCHIZOFLG|ALCSUBFLG|OTHERDISFLG|STATEFIP|DIVISION|REGION|     CASEID|\n",
      "+----+---+----+------+----+------+----------+----------+----------+----------+----------+---+---+---+---+-------+------+---+------+------+-------+-------+------+-----------+----------+-------+----------+-----------+----------+----------+------+------+---------+---------+---------+-----------+--------+--------+------+-----------+\n",
      "|2021| 11|   4|     2|   3|     1|         2|         1|         2|         2|         2|  7| -9| -9| -9|      4|     3|  1|     4|    -9|      2|      2|     1|          0|         0|      0|         0|          0|         0|         1|     0|     0|        0|        0|        0|          0|       1|       6|     3|20210000001|\n",
      "|2021|  7|  -9|     3|   3|     2|         2|         1|         1|         2|         2| 11| -9| -9| -9|      1|     1|  1|    -9|    -9|     -9|     -9|     1|          0|         0|      0|         0|          0|         0|         0|     0|     0|        0|        1|        0|          0|       1|       6|     3|20210000002|\n",
      "|2021|  5|   5|     4|   5|     2|         1|         2|         2|         2|         2| 13| -9| -9| -9|      1|     1|  2|    -9|    -9|     -9|      2|     1|          0|         0|      0|         0|          0|         0|         0|     0|     0|        0|        0|        0|          1|       1|       6|     3|20210000003|\n",
      "|2021| 14|  -9|     3|   3|     2|         2|         1|         2|         2|         2| 11| -9| -9| -9|      1|    -9| -9|    -9|    -9|     -9|     -9|     1|          0|         0|      0|         0|          0|         0|         0|     0|     0|        0|        1|        0|          0|       1|       6|     3|20210000004|\n",
      "|2021|  4|   4|     4|   5|     2|         1|         2|         2|         2|         2|  7|  2|  1| -9|      1|     1|  2|    -9|    -9|     -9|      2|     3|          1|         1|      0|         0|          0|         0|         1|     0|     0|        0|        0|        0|          0|       1|       6|     3|20210000005|\n",
      "+----+---+----+------+----+------+----------+----------+----------+----------+----------+---+---+---+---+-------+------+---+------+------+-------+-------+------+-----------+----------+-------+----------+-----------+----------+----------+------+------+---------+---------+---------+-----------+--------+--------+------+-----------+\n",
      "only showing top 5 rows\n",
      "\n"
     ]
    }
   ],
   "source": [
    "raw_path = os.path.join(\"..\",\"data\",\"*.csv\")\n",
    "\n",
    "df = spark.read.csv(raw_path, header=True, inferSchema=True)\n",
    "df.printSchema()\n",
    "df.show(5)"
   ]
  },
  {
   "cell_type": "code",
   "execution_count": 20,
   "metadata": {},
   "outputs": [
    {
     "data": {
      "text/plain": [
       "pyspark.sql.dataframe.DataFrame"
      ]
     },
     "execution_count": 20,
     "metadata": {},
     "output_type": "execute_result"
    }
   ],
   "source": [
    "type(df)"
   ]
  },
  {
   "cell_type": "code",
   "execution_count": 21,
   "metadata": {},
   "outputs": [
    {
     "name": "stdout",
     "output_type": "stream",
     "text": [
      "+----+---+----+------+----+------+----------+----------+----------+----------+----------+---+---+---+---+-------+------+---+------+------+-------+-------+------+-----------+----------+-------+----------+-----------+----------+----------+------+------+---------+---------+---------+-----------+--------+--------+------+-----------+\n",
      "|YEAR|AGE|EDUC|ETHNIC|RACE|GENDER|SPHSERVICE|CMPSERVICE|OPISERVICE|RTCSERVICE|IJSSERVICE|MH1|MH2|MH3|SUB|MARSTAT|SMISED|SAP|EMPLOY|DETNLF|VETERAN|LIVARAG|NUMMHS|TRAUSTREFLG|ANXIETYFLG|ADHDFLG|CONDUCTFLG|DELIRDEMFLG|BIPOLARFLG|DEPRESSFLG|ODDFLG|PDDFLG|PERSONFLG|SCHIZOFLG|ALCSUBFLG|OTHERDISFLG|STATEFIP|DIVISION|REGION|     CASEID|\n",
      "+----+---+----+------+----+------+----------+----------+----------+----------+----------+---+---+---+---+-------+------+---+------+------+-------+-------+------+-----------+----------+-------+----------+-----------+----------+----------+------+------+---------+---------+---------+-----------+--------+--------+------+-----------+\n",
      "|2021| 11|   4|     2|   3|     1|         2|         1|         2|         2|         2|  7| -9| -9| -9|      4|     3|  1|     4|    -9|      2|      2|     1|          0|         0|      0|         0|          0|         0|         1|     0|     0|        0|        0|        0|          0|       1|       6|     3|20210000001|\n",
      "|2021|  7|  -9|     3|   3|     2|         2|         1|         1|         2|         2| 11| -9| -9| -9|      1|     1|  1|    -9|    -9|     -9|     -9|     1|          0|         0|      0|         0|          0|         0|         0|     0|     0|        0|        1|        0|          0|       1|       6|     3|20210000002|\n",
      "|2021|  5|   5|     4|   5|     2|         1|         2|         2|         2|         2| 13| -9| -9| -9|      1|     1|  2|    -9|    -9|     -9|      2|     1|          0|         0|      0|         0|          0|         0|         0|     0|     0|        0|        0|        0|          1|       1|       6|     3|20210000003|\n",
      "|2021| 14|  -9|     3|   3|     2|         2|         1|         2|         2|         2| 11| -9| -9| -9|      1|    -9| -9|    -9|    -9|     -9|     -9|     1|          0|         0|      0|         0|          0|         0|         0|     0|     0|        0|        1|        0|          0|       1|       6|     3|20210000004|\n",
      "|2021|  4|   4|     4|   5|     2|         1|         2|         2|         2|         2|  7|  2|  1| -9|      1|     1|  2|    -9|    -9|     -9|      2|     3|          1|         1|      0|         0|          0|         0|         1|     0|     0|        0|        0|        0|          0|       1|       6|     3|20210000005|\n",
      "|2021|  8|   3|     3|  -9|     1|         2|         2|         1|         2|         1|  8| 12| -9| 11|      1|     3|  1|     4|    -9|      2|      3|     2|          0|         0|      0|         0|          0|         0|         0|     1|     0|        0|        0|        1|          0|       1|       6|     3|20210000006|\n",
      "|2021|  3|   3|     4|   5|     1|         1|         1|         2|         2|         2|  2|  3| -9| -9|      1|     2|  2|    -9|    -9|     -9|      2|     2|          0|         1|      1|         0|          0|         0|         0|     0|     0|        0|        0|        0|          0|       1|       6|     3|20210000007|\n",
      "|2021| 14|  -9|     4|  -9|     2|         2|         1|         2|         2|         2| -9| -9| -9| -9|     -9|     3|  2|     5|     5|     -9|      3|     0|          0|         0|      0|         0|          0|         0|         0|     0|     0|        0|        0|        0|          0|       1|       6|     3|20210000008|\n",
      "|2021|  3|   3|     4|   3|     1|         1|         1|         2|         2|         2|  7|  3| -9| -9|      1|     2|  2|    -9|    -9|     -9|      2|     2|          0|         0|      1|         0|          0|         0|         1|     0|     0|        0|        0|        0|          0|       1|       6|     3|20210000009|\n",
      "|2021|  3|   3|     4|   3|     2|         2|         1|         2|         1|         2| 13|  7|  2| -9|     -9|     2|  2|    -9|    -9|     -9|      2|     3|          0|         1|      0|         0|          0|         0|         1|     0|     0|        0|        0|        0|          1|       1|       6|     3|20210000010|\n",
      "|2021|  2|   2|     4|   3|     2|         2|         1|         2|         1|         2|  8|  3| 13| -9|      1|     2|  2|    -9|    -9|     -9|      3|     3|          0|         0|      1|         0|          0|         0|         0|     1|     0|        0|        0|        0|          1|       1|       6|     3|20210000011|\n",
      "|2021|  8|  -9|    -9|  -9|     2|         2|         1|         1|         2|         2|  7| -9| -9| -9|     -9|     1|  1|     5|     5|     -9|      2|     1|          0|         0|      0|         0|          0|         0|         1|     0|     0|        0|        0|        0|          0|       1|       6|     3|20210000012|\n",
      "|2021|  3|   3|     3|   4|     2|         2|         1|         2|         2|         2|  7|  2| -9| -9|      1|     2|  2|     5|     2|     -9|      2|     2|          0|         1|      0|         0|          0|         0|         1|     0|     0|        0|        0|        0|          0|       1|       6|     3|20210000013|\n",
      "|2021|  1|  -9|     4|   3|     1|         2|         1|         2|         2|         2|  4| -9| -9| -9|      1|     3|  1|    -9|    -9|      2|      2|     1|          0|         0|      0|         1|          0|         0|         0|     0|     0|        0|        0|        0|          0|       1|       6|     3|20210000014|\n",
      "|2021|  2|   2|     4|   3|     2|         2|         1|         2|         1|         2|  1|  3|  8| -9|      1|     2|  2|    -9|    -9|     -9|      3|     3|          1|         0|      1|         0|          0|         0|         0|     1|     0|        0|        0|        0|          0|       1|       6|     3|20210000015|\n",
      "|2021| 14|   2|     3|   3|     2|         2|         1|         1|         2|         2| 11| -9| -9| -9|     -9|     1|  2|     5|     5|     -9|      2|     1|          0|         0|      0|         0|          0|         0|         0|     0|     0|        0|        1|        0|          0|       1|       6|     3|20210000016|\n",
      "|2021| 11|   4|     4|  -9|     1|         2|         1|         2|         2|         2| -9| -9| -9| -9|      1|     3|  2|    -9|    -9|      2|     -9|     0|          0|         0|      0|         0|          0|         0|         0|     0|     0|        0|        0|        0|          0|       1|       6|     3|20210000017|\n",
      "|2021|  8|   2|     3|   3|     2|         2|         1|         1|         2|         2| 11| -9| -9| -9|     -9|     1|  2|     4|    -9|     -9|      3|     1|          0|         0|      0|         0|          0|         0|         0|     0|     0|        0|        1|        0|          0|       1|       6|     3|20210000018|\n",
      "|2021|  9|  -9|     4|   6|     1|         1|         2|         2|         2|         2| 11| 10| -9|  9|      1|     1|  1|    -9|    -9|     -9|      3|     2|          0|         0|      0|         0|          0|         0|         0|     0|     0|        1|        1|        0|          0|       1|       6|     3|20210000019|\n",
      "|2021| 10|   4|     4|   6|     1|         2|         1|         1|         2|         2|  7| -9| -9| -9|     -9|     1|  2|     5|     1|     -9|      2|     1|          0|         0|      0|         0|          0|         0|         1|     0|     0|        0|        0|        0|          0|       1|       6|     3|20210000020|\n",
      "+----+---+----+------+----+------+----------+----------+----------+----------+----------+---+---+---+---+-------+------+---+------+------+-------+-------+------+-----------+----------+-------+----------+-----------+----------+----------+------+------+---------+---------+---------+-----------+--------+--------+------+-----------+\n",
      "only showing top 20 rows\n",
      "\n"
     ]
    },
    {
     "name": "stderr",
     "output_type": "stream",
     "text": [
      "[Stage 105:=================================================>       (7 + 1) / 8]\r"
     ]
    },
    {
     "name": "stdout",
     "output_type": "stream",
     "text": [
      "+-------+--------------------+------------------+-------------------+-----------------+-----------------+------------------+-------------------+-------------------+-------------------+-------------------+-------------------+-----------------+------------------+------------------+------------------+-----------------+-----------------+-------------------+------------------+------------------+------------------+------------------+------------------+-------------------+-------------------+-------------------+-------------------+--------------------+-------------------+-------------------+--------------------+--------------------+--------------------+-------------------+-------------------+-------------------+------------------+------------------+------------------+--------------------+\n",
      "|summary|                YEAR|               AGE|               EDUC|           ETHNIC|             RACE|            GENDER|         SPHSERVICE|         CMPSERVICE|         OPISERVICE|         RTCSERVICE|         IJSSERVICE|              MH1|               MH2|               MH3|               SUB|          MARSTAT|           SMISED|                SAP|            EMPLOY|            DETNLF|           VETERAN|           LIVARAG|            NUMMHS|        TRAUSTREFLG|         ANXIETYFLG|            ADHDFLG|         CONDUCTFLG|         DELIRDEMFLG|         BIPOLARFLG|         DEPRESSFLG|              ODDFLG|              PDDFLG|           PERSONFLG|          SCHIZOFLG|          ALCSUBFLG|        OTHERDISFLG|          STATEFIP|          DIVISION|            REGION|              CASEID|\n",
      "+-------+--------------------+------------------+-------------------+-----------------+-----------------+------------------+-------------------+-------------------+-------------------+-------------------+-------------------+-----------------+------------------+------------------+------------------+-----------------+-----------------+-------------------+------------------+------------------+------------------+------------------+------------------+-------------------+-------------------+-------------------+-------------------+--------------------+-------------------+-------------------+--------------------+--------------------+--------------------+-------------------+-------------------+-------------------+------------------+------------------+------------------+--------------------+\n",
      "|  count|             6509025|           6509025|            6509025|          6509025|          6509025|           6509025|            6509025|            6509025|            6509025|            6509025|            6509025|          6509025|           6509025|           6509025|           6509025|          6509025|          6509025|            6509025|           6509025|           6509025|           6509025|           6509025|           6509025|            6509025|            6509025|            6509025|            6509025|             6509025|            6509025|            6509025|             6509025|             6509025|             6509025|            6509025|            6509025|            6509025|           6509025|           6509025|           6509025|             6509025|\n",
      "|   mean|              2021.0|6.9043231513168255|-3.2387371380506296|2.005490223190109|3.033241844976782|1.5080628819216395| 1.9841718229688778| 1.0231933354073768| 1.9655180307342497|  1.988731952942261|  1.991363068969623|4.203177434408379|-4.120532030526846|-7.702714308210523|-6.709810609115805|-2.86747170275118|1.139726149461709|0.21049020398600404|-4.197848986599375|-6.966829133395555|-4.653131306148002|-2.434652348085927|1.2890933741996689|0.19811477141353737|0.23158998467512415|0.09782709391959625|0.01508751310680171|0.004545842119211...|0.10233698595411755|0.27505594155806745|0.023828607203075728|0.016540879778461443|0.024482007673960384|0.11046231962544313|0.05845898579280307|0.13074707809541367| 28.01132612027147| 5.474894934341164|2.7188904636255047|2.021325451277384E10|\n",
      "| stddev|5.695141942866576...| 4.073035463911821| 6.2680628457166625|4.417266841877915|4.432504830549413|0.6799480791766002|0.12481044922694498|0.15051713550513693|0.18246360781317136|0.10555131398935497|0.09253289019699651|6.319211941491739| 7.350499405198251| 4.400187282418498| 5.726267941616583|5.248652000191252|2.509229104297362|  3.652198099659696| 6.290527053992495|4.4903756719958885| 5.370182878005784| 5.438095466514698|0.8002754366922891|0.39857914291672325|0.42184842184509663| 0.2970807418430398| 0.1219011170499268| 0.06726944428085169| 0.3030909787065498|0.44654249652870853|  0.1525149443676293| 0.12754325373693676| 0.15454010043794839|0.31346516658862805|0.23460933747203852| 0.3371235635870789|16.119471801703114|2.5946590695992673| 1.106566506346111|  1878993.8122935637|\n",
      "|    min|                2021|                -9|                 -9|               -9|               -9|                -9|                  1|                  1|                  1|                  1|                  1|               -9|                -9|                -9|                -9|               -9|               -9|                 -9|                -9|                -9|                -9|                -9|                 0|                  0|                  0|                  0|                  0|                   0|                  0|                  0|                   0|                   0|                   0|                  0|                  0|                  0|                 1|                 0|                 0|         20210000001|\n",
      "|    max|                2021|                14|                  5|                4|                6|                 2|                  2|                  2|                  2|                  2|                  2|               13|                13|                13|                13|                4|                3|                  2|                 5|                 5|                 2|                 3|                 3|                  1|                  1|                  1|                  1|                   1|                  1|                  1|                   1|                   1|                   1|                  1|                  1|                  1|                99|                 9|                 4|         20216509025|\n",
      "+-------+--------------------+------------------+-------------------+-----------------+-----------------+------------------+-------------------+-------------------+-------------------+-------------------+-------------------+-----------------+------------------+------------------+------------------+-----------------+-----------------+-------------------+------------------+------------------+------------------+------------------+------------------+-------------------+-------------------+-------------------+-------------------+--------------------+-------------------+-------------------+--------------------+--------------------+--------------------+-------------------+-------------------+-------------------+------------------+------------------+------------------+--------------------+\n",
      "\n"
     ]
    },
    {
     "name": "stderr",
     "output_type": "stream",
     "text": [
      "                                                                                \r"
     ]
    }
   ],
   "source": [
    "df.show()\n",
    "df.describe().show()"
   ]
  },
  {
   "cell_type": "markdown",
   "metadata": {},
   "source": [
    "Bronze Layer\n",
    "Staging (Bronze) Layer:\n",
    "- i. Create a bronze table to store the raw data from the CSV file.\n",
    "- ii. Perform basic data validation and cleaning, such as handling null values, data types, and column names.\n",
    "- iii. Partition the bronze table by an appropriate column(s) to improve query performance.\n",
    "- iv. Prepare to discuss how you would handle logging and exception handling to capture any issues during the bronze layer processing"
   ]
  },
  {
   "cell_type": "code",
   "execution_count": 22,
   "metadata": {},
   "outputs": [
    {
     "name": "stderr",
     "output_type": "stream",
     "text": [
      "                                                                                \r"
     ]
    }
   ],
   "source": [
    "bronze_path = os.path.join(\"..\",\"data\",\"medallion_layers\",\"bronze\")\n",
    "df.write.partitionBy(\"GENDER\", \"RACE\", \"ETHNIC\", \"MARSTAT\", \"EMPLOY\").mode(\"overwrite\").parquet(bronze_path)"
   ]
  },
  {
   "cell_type": "code",
   "execution_count": 23,
   "metadata": {},
   "outputs": [
    {
     "name": "stdout",
     "output_type": "stream",
     "text": [
      "+----+---+----+----------+----------+----------+----------+----------+---+---+---+---+------+---+------+-------+-------+------+-----------+----------+-------+----------+-----------+----------+----------+------+------+---------+---------+---------+-----------+--------+--------+------+-----------+------+----+------+-------+------+\n",
      "|YEAR|AGE|EDUC|SPHSERVICE|CMPSERVICE|OPISERVICE|RTCSERVICE|IJSSERVICE|MH1|MH2|MH3|SUB|SMISED|SAP|DETNLF|VETERAN|LIVARAG|NUMMHS|TRAUSTREFLG|ANXIETYFLG|ADHDFLG|CONDUCTFLG|DELIRDEMFLG|BIPOLARFLG|DEPRESSFLG|ODDFLG|PDDFLG|PERSONFLG|SCHIZOFLG|ALCSUBFLG|OTHERDISFLG|STATEFIP|DIVISION|REGION|     CASEID|GENDER|RACE|ETHNIC|MARSTAT|EMPLOY|\n",
      "+----+---+----+----------+----------+----------+----------+----------+---+---+---+---+------+---+------+-------+-------+------+-----------+----------+-------+----------+-----------+----------+----------+------+------+---------+---------+---------+-----------+--------+--------+------+-----------+------+----+------+-------+------+\n",
      "|2021|  1|  -9|         2|         2|         1|         2|         2| 13| -9| -9| -9|     3|  1|    -9|     -9|     -9|     1|          0|         0|      0|         0|          0|         0|         0|     0|     0|        0|        0|        0|          1|      42|       2|     1|20214915408|     1|   5|     4|      1|    -9|\n",
      "|2021|  1|  -9|         2|         1|         2|         2|         2|  3| -9| -9| -9|     3|  1|    -9|     -9|     -9|     1|          0|         0|      1|         0|          0|         0|         0|     0|     0|        0|        0|        0|          0|      42|       2|     1|20214915412|     1|   5|     4|      1|    -9|\n",
      "|2021|  6|  -9|         2|         1|         2|         2|         2|  7|  2| 11| -9|     1|  1|    -9|     -9|     -9|     3|          0|         1|      0|         0|          0|         0|         1|     0|     0|        0|        1|        0|          0|      42|       2|     1|20214915418|     1|   5|     4|      1|    -9|\n",
      "|2021| 13|  -9|         2|         1|         2|         2|         2|  2| -9| -9| -9|     1|  1|    -9|     -9|     -9|     1|          0|         1|      0|         0|          0|         0|         0|     0|     0|        0|        0|        0|          0|      42|       2|     1|20214915422|     1|   5|     4|      1|    -9|\n",
      "|2021| 10|  -9|         2|         2|         1|         2|         2|  6| -9| -9| -9|     1|  1|    -9|     -9|     -9|     1|          0|         0|      0|         0|          0|         1|         0|     0|     0|        0|        0|        0|          0|      42|       2|     1|20214915425|     1|   5|     4|      1|    -9|\n",
      "+----+---+----+----------+----------+----------+----------+----------+---+---+---+---+------+---+------+-------+-------+------+-----------+----------+-------+----------+-----------+----------+----------+------+------+---------+---------+---------+-----------+--------+--------+------+-----------+------+----+------+-------+------+\n",
      "only showing top 5 rows\n",
      "\n",
      "root\n",
      " |-- YEAR: integer (nullable = true)\n",
      " |-- AGE: integer (nullable = true)\n",
      " |-- EDUC: integer (nullable = true)\n",
      " |-- SPHSERVICE: integer (nullable = true)\n",
      " |-- CMPSERVICE: integer (nullable = true)\n",
      " |-- OPISERVICE: integer (nullable = true)\n",
      " |-- RTCSERVICE: integer (nullable = true)\n",
      " |-- IJSSERVICE: integer (nullable = true)\n",
      " |-- MH1: integer (nullable = true)\n",
      " |-- MH2: integer (nullable = true)\n",
      " |-- MH3: integer (nullable = true)\n",
      " |-- SUB: integer (nullable = true)\n",
      " |-- SMISED: integer (nullable = true)\n",
      " |-- SAP: integer (nullable = true)\n",
      " |-- DETNLF: integer (nullable = true)\n",
      " |-- VETERAN: integer (nullable = true)\n",
      " |-- LIVARAG: integer (nullable = true)\n",
      " |-- NUMMHS: integer (nullable = true)\n",
      " |-- TRAUSTREFLG: integer (nullable = true)\n",
      " |-- ANXIETYFLG: integer (nullable = true)\n",
      " |-- ADHDFLG: integer (nullable = true)\n",
      " |-- CONDUCTFLG: integer (nullable = true)\n",
      " |-- DELIRDEMFLG: integer (nullable = true)\n",
      " |-- BIPOLARFLG: integer (nullable = true)\n",
      " |-- DEPRESSFLG: integer (nullable = true)\n",
      " |-- ODDFLG: integer (nullable = true)\n",
      " |-- PDDFLG: integer (nullable = true)\n",
      " |-- PERSONFLG: integer (nullable = true)\n",
      " |-- SCHIZOFLG: integer (nullable = true)\n",
      " |-- ALCSUBFLG: integer (nullable = true)\n",
      " |-- OTHERDISFLG: integer (nullable = true)\n",
      " |-- STATEFIP: integer (nullable = true)\n",
      " |-- DIVISION: integer (nullable = true)\n",
      " |-- REGION: integer (nullable = true)\n",
      " |-- CASEID: long (nullable = true)\n",
      " |-- GENDER: integer (nullable = true)\n",
      " |-- RACE: integer (nullable = true)\n",
      " |-- ETHNIC: integer (nullable = true)\n",
      " |-- MARSTAT: integer (nullable = true)\n",
      " |-- EMPLOY: integer (nullable = true)\n",
      "\n"
     ]
    }
   ],
   "source": [
    "# bronze_cleaned_path = os.path.join(\"..\",\"data\",\"medallion_layers\",\"bronze_cleaned\")\n",
    "bronze_df = spark.read.parquet(bronze_path, header=True, inferSchema=True)\n",
    "cleaned_bronze_df = bronze_df.na.drop()\n",
    "cleaned_bronze_df.show(5)\n",
    "cleaned_bronze_df.printSchema()"
   ]
  },
  {
   "cell_type": "code",
   "execution_count": 24,
   "metadata": {},
   "outputs": [],
   "source": [
    "# cleaned_bronze_df.write.partitionBy(\"GENDER\", \"RACE\", \"ETHNIC\", \"MARSTAT\", \"EMPLOY\").mode(\"overwrite\").parquet(bronze_cleaned_path)"
   ]
  },
  {
   "cell_type": "markdown",
   "metadata": {},
   "source": [
    "Silver Layer\n",
    "- i. Create a silver table to store the transformed and enriched data.\n",
    "- ii. Perform more complex transformations (See Transformation Exercise\n",
    "for Senior Data Engineer for details), such as data aggregations, and data quality checks.\n",
    "- iii. Partition the silver table by an appropriate column(s) to improve query performance.\n",
    "- iv. Implement schema checks to ensure the transformed data matches the expected schema.\n",
    "- v. Prepare to discuss how you would handle monitoring to track the success and failure of the silver layer processing."
   ]
  },
  {
   "cell_type": "code",
   "execution_count": 25,
   "metadata": {},
   "outputs": [
    {
     "name": "stdout",
     "output_type": "stream",
     "text": [
      "root\n",
      " |-- YEAR: integer (nullable = true)\n",
      " |-- AGE: integer (nullable = true)\n",
      " |-- EDUC: integer (nullable = true)\n",
      " |-- SPHSERVICE: integer (nullable = true)\n",
      " |-- CMPSERVICE: integer (nullable = true)\n",
      " |-- OPISERVICE: integer (nullable = true)\n",
      " |-- RTCSERVICE: integer (nullable = true)\n",
      " |-- IJSSERVICE: integer (nullable = true)\n",
      " |-- MH1: integer (nullable = true)\n",
      " |-- MH2: integer (nullable = true)\n",
      " |-- MH3: integer (nullable = true)\n",
      " |-- SUB: integer (nullable = true)\n",
      " |-- SMISED: integer (nullable = true)\n",
      " |-- SAP: integer (nullable = true)\n",
      " |-- DETNLF: integer (nullable = true)\n",
      " |-- VETERAN: integer (nullable = true)\n",
      " |-- LIVARAG: integer (nullable = true)\n",
      " |-- NUMMHS: integer (nullable = true)\n",
      " |-- TRAUSTREFLG: integer (nullable = true)\n",
      " |-- ANXIETYFLG: integer (nullable = true)\n",
      " |-- ADHDFLG: integer (nullable = true)\n",
      " |-- CONDUCTFLG: integer (nullable = true)\n",
      " |-- DELIRDEMFLG: integer (nullable = true)\n",
      " |-- BIPOLARFLG: integer (nullable = true)\n",
      " |-- DEPRESSFLG: integer (nullable = true)\n",
      " |-- ODDFLG: integer (nullable = true)\n",
      " |-- PDDFLG: integer (nullable = true)\n",
      " |-- PERSONFLG: integer (nullable = true)\n",
      " |-- SCHIZOFLG: integer (nullable = true)\n",
      " |-- ALCSUBFLG: integer (nullable = true)\n",
      " |-- OTHERDISFLG: integer (nullable = true)\n",
      " |-- STATEFIP: integer (nullable = true)\n",
      " |-- DIVISION: integer (nullable = true)\n",
      " |-- REGION: integer (nullable = true)\n",
      " |-- CASEID: long (nullable = true)\n",
      " |-- GENDER: integer (nullable = true)\n",
      " |-- RACE: integer (nullable = true)\n",
      " |-- ETHNIC: integer (nullable = true)\n",
      " |-- MARSTAT: integer (nullable = true)\n",
      " |-- EMPLOY: integer (nullable = true)\n",
      "\n"
     ]
    }
   ],
   "source": [
    "\n",
    "# bronze_cleaned_path = os.path.join(\"..\",\"data\",\"medallion_layers\",\"bronze_cleaned\")\n",
    "\n",
    "# cleaned_bronze_df = spark.read.parquet(bronze_cleaned_path)\n",
    "\n",
    "cleaned_bronze_df = cleaned_bronze_df\n",
    "\n",
    "cleaned_bronze_df.printSchema()"
   ]
  },
  {
   "cell_type": "markdown",
   "metadata": {},
   "source": [
    "1. Data Type Conversion\n",
    "    - a. Convert the categorical variables (GENDER, RACE, ETHNICITY, MARITAL, EMPLOY, INCOME) from numeric values to appropriate string or categorical data types.\n",
    "    \n",
    "    - b. Ensure that the CASEID variable is stored as an integer data type.\n",
    "    \n",
    "    - c. Convert the numeric variables (MENHLTH, PHYHLTH, POORHLTH) to float data types.\n",
    "    \n",
    "    - d. Validate the data types for all variables to ensure they are consistent with the expected formats.\n",
    "    \n",
    "    - e. Provide a summary of the data type conversions performed."
   ]
  },
  {
   "cell_type": "code",
   "execution_count": 26,
   "metadata": {},
   "outputs": [],
   "source": [
    "gender = {\n",
    "    1: \"Male\",\n",
    "    2: \"Female\",\n",
    "    -9: \"Missing/unknown/not collected/invalid\"\n",
    "}\n",
    "\n",
    "race = {\n",
    "    1: \"American Indian/Alaska Native\",\n",
    "    2: \"Asian\",\n",
    "    3: \"Black or African American\",\n",
    "    4: \"Native Hawaiian or Other Pacific Islander\",\n",
    "    5: \"White\",\n",
    "    6: \"Some other race alone/two or more races\",\n",
    "    -9: \"Missing/unknown/not collected/invalid\"\n",
    "}\n",
    "\n",
    "marital_status = {\n",
    "    1: \"Never married\",\n",
    "    2: \"Now married\",\n",
    "    3: \"Separated\",\n",
    "    4: \"Divorced, widowed\",\n",
    "    -9: \"Missing/unknown/not collected/invalid\"\n",
    "}\n",
    "\n",
    "employment_status = {\n",
    "    1: \"Full-time\",\n",
    "    2: \"Part-time\",\n",
    "    3: \"Employed full-time/part-time not differentiated\",\n",
    "    4: \"Unemployed\",\n",
    "    5: \"Not in labor force\",\n",
    "    -9: \"Missing/unknown/not collected/invalid\"\n",
    "}\n",
    "\n",
    "ethnicity = {\n",
    "    1: \"Mexican\",\n",
    "    2: \"Puerto Rican\",\n",
    "    3: \"Other Hispanic or Latino origin\",\n",
    "    4: \"Not of Hispanic or Latino origin\",\n",
    "    -9: \"Missing/unknown/not collected/invalid\"\n",
    "}\n",
    "\n",
    "# bronze_cleaned_path = os.path.join(\"..\",\"data\",\"medallion_layers\",\"bronze_cleaned\")\n",
    "\n",
    "# cleaned_bronze_df = spark.read.parquet(bronze_cleaned_path)\n",
    "\n",
    "# cleaned_bronze_df.printSchema()"
   ]
  },
  {
   "cell_type": "code",
   "execution_count": 27,
   "metadata": {},
   "outputs": [],
   "source": [
    "# cleaned_bronze_df.withColumn()"
   ]
  },
  {
   "cell_type": "code",
   "execution_count": 28,
   "metadata": {},
   "outputs": [
    {
     "name": "stdout",
     "output_type": "stream",
     "text": [
      "root\n",
      " |-- YEAR: integer (nullable = true)\n",
      " |-- AGE: integer (nullable = true)\n",
      " |-- EDUC: integer (nullable = true)\n",
      " |-- SPHSERVICE: integer (nullable = true)\n",
      " |-- CMPSERVICE: integer (nullable = true)\n",
      " |-- OPISERVICE: integer (nullable = true)\n",
      " |-- RTCSERVICE: integer (nullable = true)\n",
      " |-- IJSSERVICE: integer (nullable = true)\n",
      " |-- MH1: integer (nullable = true)\n",
      " |-- MH2: integer (nullable = true)\n",
      " |-- MH3: integer (nullable = true)\n",
      " |-- SUB: integer (nullable = true)\n",
      " |-- SMISED: integer (nullable = true)\n",
      " |-- SAP: integer (nullable = true)\n",
      " |-- DETNLF: integer (nullable = true)\n",
      " |-- VETERAN: integer (nullable = true)\n",
      " |-- LIVARAG: integer (nullable = true)\n",
      " |-- NUMMHS: float (nullable = true)\n",
      " |-- TRAUSTREFLG: float (nullable = true)\n",
      " |-- ANXIETYFLG: float (nullable = true)\n",
      " |-- ADHDFLG: float (nullable = true)\n",
      " |-- CONDUCTFLG: float (nullable = true)\n",
      " |-- DELIRDEMFLG: float (nullable = true)\n",
      " |-- BIPOLARFLG: float (nullable = true)\n",
      " |-- DEPRESSFLG: float (nullable = true)\n",
      " |-- ODDFLG: float (nullable = true)\n",
      " |-- PDDFLG: float (nullable = true)\n",
      " |-- PERSONFLG: float (nullable = true)\n",
      " |-- SCHIZOFLG: float (nullable = true)\n",
      " |-- ALCSUBFLG: float (nullable = true)\n",
      " |-- OTHERDISFLG: float (nullable = true)\n",
      " |-- STATEFIP: integer (nullable = true)\n",
      " |-- DIVISION: integer (nullable = true)\n",
      " |-- REGION: integer (nullable = true)\n",
      " |-- CASEID: long (nullable = true)\n",
      " |-- GENDER: integer (nullable = true)\n",
      " |-- RACE: integer (nullable = true)\n",
      " |-- ETHNIC: integer (nullable = true)\n",
      " |-- MARSTAT: integer (nullable = true)\n",
      " |-- EMPLOY: integer (nullable = true)\n",
      " |-- GENDER_mapped: string (nullable = true)\n",
      " |-- RACE_mapped: string (nullable = true)\n",
      " |-- MARSTAT_mapped: string (nullable = true)\n",
      " |-- EMPLOY_mapped: string (nullable = true)\n",
      " |-- ETHNIC_mapped: string (nullable = true)\n",
      " |-- CASEID_int: integer (nullable = true)\n",
      "\n",
      "GENDER: Converted to string/categorical using predefined mapping\n",
      "RACE: Converted to string/categorical using predefined mapping\n",
      "ETHNIC: Converted to string/categorical using predefined mapping\n",
      "MARSTAT: Converted to string/categorical using predefined mapping\n",
      "EMPLOY: Converted to string/categorical using predefined mapping\n",
      "CASEID: Converted to integer\n",
      "NUMMHS: Converted to float\n",
      "TRAUSTREFLG: Converted to float\n",
      "ANXIETYFLG: Converted to float\n",
      "ADHDFLG: Converted to float\n",
      "CONDUCTFLG: Converted to float\n",
      "DELIRDEMFLG: Converted to float\n",
      "BIPOLARFLG: Converted to float\n",
      "DEPRESSFLG: Converted to float\n",
      "ODDFLG: Converted to float\n",
      "PDDFLG: Converted to float\n",
      "PERSONFLG: Converted to float\n",
      "SCHIZOFLG: Converted to float\n",
      "ALCSUBFLG: Converted to float\n",
      "OTHERDISFLG: Converted to float\n"
     ]
    }
   ],
   "source": [
    "def create_map_udf(mapping_dict):\n",
    "    return F.udf(lambda key: mapping_dict.get(key, \"Unknown\"), T.StringType())\n",
    "\n",
    "race_map_udf = create_map_udf(race)\n",
    "gender_map_udf = create_map_udf(gender)\n",
    "marital_status_map_udf = create_map_udf(marital_status)\n",
    "employment_status_map_udf = create_map_udf(employment_status)\n",
    "ethnicity_map_udf = create_map_udf(ethnicity)\n",
    "\n",
    "\n",
    "silver_df = cleaned_bronze_df\n",
    "silver_df = silver_df.withColumn(\"GENDER_mapped\", gender_map_udf(\"GENDER\"))\n",
    "silver_df = silver_df.withColumn(\"RACE_mapped\", race_map_udf(\"RACE\"))\n",
    "silver_df = silver_df.withColumn(\"MARSTAT_mapped\", marital_status_map_udf(\"MARSTAT\"))\n",
    "silver_df = silver_df.withColumn(\"EMPLOY_mapped\", employment_status_map_udf(\"EMPLOY\"))\n",
    "silver_df = silver_df.withColumn(\"ETHNIC_mapped\", ethnicity_map_udf(\"ETHNIC\"))\n",
    "\n",
    "\n",
    "silver_df = silver_df.withColumn(\"CASEID_int\", F.col(\"CASEID\").cast(T.IntegerType()))\n",
    "\n",
    "numeric_columns = [\n",
    "    \"NUMMHS\",\"TRAUSTREFLG\",\"ANXIETYFLG\",\"ADHDFLG\",\"CONDUCTFLG\",\"DELIRDEMFLG\",\"BIPOLARFLG\",\"DEPRESSFLG\",\"ODDFLG\",\"PDDFLG\",\"PERSONFLG\",\"SCHIZOFLG\",\n",
    "    \"ALCSUBFLG\",\"OTHERDISFLG\"\n",
    "    ]\n",
    "for column in numeric_columns:\n",
    "    silver_df = silver_df.withColumn(column, F.col(column).cast(T.FloatType()))\n",
    "\n",
    "silver_df_part_1 = silver_df\n",
    "silver_df_part_1.printSchema()\n",
    "\n",
    "data_type_summary = {\n",
    "    \"GENDER\": \"Converted to string/categorical using predefined mapping\",\n",
    "    \"RACE\": \"Converted to string/categorical using predefined mapping\",\n",
    "    \"ETHNIC\": \"Converted to string/categorical using predefined mapping\",\n",
    "    \"MARSTAT\": \"Converted to string/categorical using predefined mapping\",\n",
    "    \"EMPLOY\": \"Converted to string/categorical using predefined mapping\",\n",
    "    \"CASEID\": \"Converted to integer\",\n",
    "    \"NUMMHS\": \"Converted to float\",\n",
    "    \"TRAUSTREFLG\": \"Converted to float\",\n",
    "    \"ANXIETYFLG\": \"Converted to float\",\n",
    "    \"ADHDFLG\": \"Converted to float\",\n",
    "    \"CONDUCTFLG\": \"Converted to float\",\n",
    "    \"DELIRDEMFLG\": \"Converted to float\",\n",
    "    \"BIPOLARFLG\": \"Converted to float\",\n",
    "    \"DEPRESSFLG\": \"Converted to float\",\n",
    "    \"ODDFLG\": \"Converted to float\",\n",
    "    \"PDDFLG\": \"Converted to float\",\n",
    "    \"PERSONFLG\": \"Converted to float\",\n",
    "    \"SCHIZOFLG\": \"Converted to float\",\n",
    "    \"ALCSUBFLG\": \"Converted to float\",\n",
    "    \"OTHERDISFLG\": \"Converted to float\"\n",
    "}\n",
    "\n",
    "for column, summary in data_type_summary.items():\n",
    "    print(f\"{column}: {summary}\")\n",
    "\n",
    "silver_part_1_path = os.path.join(\"..\",\"data\",\"medallion_layers\",\"silver_part_1\")\n",
    "\n",
    "# silver_df_part_1.write.partitionBy(\"GENDER\", \"RACE\", \"ETHNIC\", \"MARSTAT\", \"EMPLOY\").mode(\"overwrite\").parquet(silver_part_1_path)"
   ]
  },
  {
   "cell_type": "code",
   "execution_count": 29,
   "metadata": {},
   "outputs": [
    {
     "name": "stdout",
     "output_type": "stream",
     "text": [
      "+----+---+----+----------+----------+----------+----------+----------+---+---+---+---+------+---+------+-------+-------+------+-----------+----------+-------+----------+-----------+----------+----------+------+------+---------+---------+---------+-----------+--------+--------+------+-----------+------+----+------+-------+------+-------------+-----------+--------------+--------------------+--------------------+-----------+\n",
      "|YEAR|AGE|EDUC|SPHSERVICE|CMPSERVICE|OPISERVICE|RTCSERVICE|IJSSERVICE|MH1|MH2|MH3|SUB|SMISED|SAP|DETNLF|VETERAN|LIVARAG|NUMMHS|TRAUSTREFLG|ANXIETYFLG|ADHDFLG|CONDUCTFLG|DELIRDEMFLG|BIPOLARFLG|DEPRESSFLG|ODDFLG|PDDFLG|PERSONFLG|SCHIZOFLG|ALCSUBFLG|OTHERDISFLG|STATEFIP|DIVISION|REGION|     CASEID|GENDER|RACE|ETHNIC|MARSTAT|EMPLOY|GENDER_mapped|RACE_mapped|MARSTAT_mapped|       EMPLOY_mapped|       ETHNIC_mapped| CASEID_int|\n",
      "+----+---+----+----------+----------+----------+----------+----------+---+---+---+---+------+---+------+-------+-------+------+-----------+----------+-------+----------+-----------+----------+----------+------+------+---------+---------+---------+-----------+--------+--------+------+-----------+------+----+------+-------+------+-------------+-----------+--------------+--------------------+--------------------+-----------+\n",
      "|2021|  1|  -9|         2|         2|         1|         2|         2| 13| -9| -9| -9|     3|  1|    -9|     -9|     -9|   1.0|        0.0|       0.0|    0.0|       0.0|        0.0|       0.0|       0.0|   0.0|   0.0|      0.0|      0.0|      0.0|        1.0|      42|       2|     1|20214915408|     1|   5|     4|      1|    -9|         Male|      White| Never married|Missing/unknown/n...|Not of Hispanic o...|-1259921072|\n",
      "|2021|  1|  -9|         2|         1|         2|         2|         2|  3| -9| -9| -9|     3|  1|    -9|     -9|     -9|   1.0|        0.0|       0.0|    1.0|       0.0|        0.0|       0.0|       0.0|   0.0|   0.0|      0.0|      0.0|      0.0|        0.0|      42|       2|     1|20214915412|     1|   5|     4|      1|    -9|         Male|      White| Never married|Missing/unknown/n...|Not of Hispanic o...|-1259921068|\n",
      "|2021|  6|  -9|         2|         1|         2|         2|         2|  7|  2| 11| -9|     1|  1|    -9|     -9|     -9|   3.0|        0.0|       1.0|    0.0|       0.0|        0.0|       0.0|       1.0|   0.0|   0.0|      0.0|      1.0|      0.0|        0.0|      42|       2|     1|20214915418|     1|   5|     4|      1|    -9|         Male|      White| Never married|Missing/unknown/n...|Not of Hispanic o...|-1259921062|\n",
      "|2021| 13|  -9|         2|         1|         2|         2|         2|  2| -9| -9| -9|     1|  1|    -9|     -9|     -9|   1.0|        0.0|       1.0|    0.0|       0.0|        0.0|       0.0|       0.0|   0.0|   0.0|      0.0|      0.0|      0.0|        0.0|      42|       2|     1|20214915422|     1|   5|     4|      1|    -9|         Male|      White| Never married|Missing/unknown/n...|Not of Hispanic o...|-1259921058|\n",
      "|2021| 10|  -9|         2|         2|         1|         2|         2|  6| -9| -9| -9|     1|  1|    -9|     -9|     -9|   1.0|        0.0|       0.0|    0.0|       0.0|        0.0|       1.0|       0.0|   0.0|   0.0|      0.0|      0.0|      0.0|        0.0|      42|       2|     1|20214915425|     1|   5|     4|      1|    -9|         Male|      White| Never married|Missing/unknown/n...|Not of Hispanic o...|-1259921055|\n",
      "|2021|  4|  -9|         2|         1|         2|         2|         2|  2| -9| -9| -9|     1|  2|    -9|     -9|     -9|   1.0|        0.0|       1.0|    0.0|       0.0|        0.0|       0.0|       0.0|   0.0|   0.0|      0.0|      0.0|      0.0|        0.0|      42|       2|     1|20214915426|     1|   5|     4|      1|    -9|         Male|      White| Never married|Missing/unknown/n...|Not of Hispanic o...|-1259921054|\n",
      "|2021|  1|  -9|         2|         1|         2|         2|         2|  3| -9| -9| -9|     3|  1|    -9|     -9|     -9|   1.0|        0.0|       0.0|    1.0|       0.0|        0.0|       0.0|       0.0|   0.0|   0.0|      0.0|      0.0|      0.0|        0.0|      42|       2|     1|20214915428|     1|   5|     4|      1|    -9|         Male|      White| Never married|Missing/unknown/n...|Not of Hispanic o...|-1259921052|\n",
      "|2021|  9|  -9|         2|         1|         2|         2|         2| 11| -9| -9| -9|     1|  2|    -9|     -9|     -9|   1.0|        0.0|       0.0|    0.0|       0.0|        0.0|       0.0|       0.0|   0.0|   0.0|      0.0|      1.0|      0.0|        0.0|      42|       2|     1|20214915430|     1|   5|     4|      1|    -9|         Male|      White| Never married|Missing/unknown/n...|Not of Hispanic o...|-1259921050|\n",
      "|2021|  7|  -9|         2|         1|         2|         2|         2|  2| -9| -9| -9|     1|  1|    -9|     -9|     -9|   1.0|        0.0|       1.0|    0.0|       0.0|        0.0|       0.0|       0.0|   0.0|   0.0|      0.0|      0.0|      0.0|        0.0|      42|       2|     1|20214915441|     1|   5|     4|      1|    -9|         Male|      White| Never married|Missing/unknown/n...|Not of Hispanic o...|-1259921039|\n",
      "|2021|  1|  -9|         2|         1|         2|         2|         2|  2| -9| -9| -9|     2|  1|    -9|     -9|     -9|   1.0|        0.0|       1.0|    0.0|       0.0|        0.0|       0.0|       0.0|   0.0|   0.0|      0.0|      0.0|      0.0|        0.0|      42|       2|     1|20214915443|     1|   5|     4|      1|    -9|         Male|      White| Never married|Missing/unknown/n...|Not of Hispanic o...|-1259921037|\n",
      "|2021|  1|  -9|         2|         1|         2|         2|         2|  4|  3| -9| -9|     3|  1|    -9|     -9|     -9|   2.0|        0.0|       0.0|    1.0|       1.0|        0.0|       0.0|       0.0|   0.0|   0.0|      0.0|      0.0|      0.0|        0.0|      42|       2|     1|20214915448|     1|   5|     4|      1|    -9|         Male|      White| Never married|Missing/unknown/n...|Not of Hispanic o...|-1259921032|\n",
      "|2021|  1|  -9|         2|         1|         2|         2|         2| 13| -9| -9| -9|     3|  1|    -9|     -9|     -9|   1.0|        0.0|       0.0|    0.0|       0.0|        0.0|       0.0|       0.0|   0.0|   0.0|      0.0|      0.0|      0.0|        1.0|      42|       2|     1|20214915463|     1|   5|     4|      1|    -9|         Male|      White| Never married|Missing/unknown/n...|Not of Hispanic o...|-1259921017|\n",
      "|2021|  1|  -9|         2|         1|         2|         2|         2|  4| -9| -9| -9|     2|  2|    -9|     -9|     -9|   1.0|        0.0|       0.0|    0.0|       1.0|        0.0|       0.0|       0.0|   0.0|   0.0|      0.0|      0.0|      0.0|        0.0|      42|       2|     1|20214915465|     1|   5|     4|      1|    -9|         Male|      White| Never married|Missing/unknown/n...|Not of Hispanic o...|-1259921015|\n",
      "|2021|  9|  -9|         2|         1|         2|         2|         2| -9| -9| -9|  4|     3|  1|    -9|     -9|     -9|   0.0|        0.0|       0.0|    0.0|       0.0|        0.0|       0.0|       0.0|   0.0|   0.0|      0.0|      0.0|      0.0|        0.0|      42|       2|     1|20214915467|     1|   5|     4|      1|    -9|         Male|      White| Never married|Missing/unknown/n...|Not of Hispanic o...|-1259921013|\n",
      "|2021|  3|  -9|         2|         1|         2|         2|         2|  1| -9| -9| -9|     3|  1|    -9|     -9|     -9|   1.0|        1.0|       0.0|    0.0|       0.0|        0.0|       0.0|       0.0|   0.0|   0.0|      0.0|      0.0|      0.0|        0.0|      42|       2|     1|20214915473|     1|   5|     4|      1|    -9|         Male|      White| Never married|Missing/unknown/n...|Not of Hispanic o...|-1259921007|\n",
      "|2021|  1|  -9|         2|         1|         2|         2|         2|  4| -9| -9| -9|     2|  2|    -9|     -9|     -9|   1.0|        0.0|       0.0|    0.0|       1.0|        0.0|       0.0|       0.0|   0.0|   0.0|      0.0|      0.0|      0.0|        0.0|      42|       2|     1|20214915474|     1|   5|     4|      1|    -9|         Male|      White| Never married|Missing/unknown/n...|Not of Hispanic o...|-1259921006|\n",
      "|2021| 12|  -9|         2|         1|         2|         2|         2|  2| -9| -9| -9|     1|  2|    -9|     -9|     -9|   1.0|        0.0|       1.0|    0.0|       0.0|        0.0|       0.0|       0.0|   0.0|   0.0|      0.0|      0.0|      0.0|        0.0|      42|       2|     1|20214915477|     1|   5|     4|      1|    -9|         Male|      White| Never married|Missing/unknown/n...|Not of Hispanic o...|-1259921003|\n",
      "|2021| 13|  -9|         2|         1|         2|         2|         2| -9| -9| -9| -9|     3|  1|    -9|     -9|     -9|   0.0|        0.0|       0.0|    0.0|       0.0|        0.0|       0.0|       0.0|   0.0|   0.0|      0.0|      0.0|      0.0|        0.0|      42|       2|     1|20214915482|     1|   5|     4|      1|    -9|         Male|      White| Never married|Missing/unknown/n...|Not of Hispanic o...|-1259920998|\n",
      "|2021|  7|  -9|         2|         1|         2|         2|         2| 13| -9| -9| -9|     3|  1|    -9|     -9|     -9|   1.0|        0.0|       0.0|    0.0|       0.0|        0.0|       0.0|       0.0|   0.0|   0.0|      0.0|      0.0|      0.0|        1.0|      42|       2|     1|20214915493|     1|   5|     4|      1|    -9|         Male|      White| Never married|Missing/unknown/n...|Not of Hispanic o...|-1259920987|\n",
      "|2021|  2|  -9|         2|         1|         2|         2|         2|  3| -9| -9| -9|     3|  2|    -9|     -9|     -9|   1.0|        0.0|       0.0|    1.0|       0.0|        0.0|       0.0|       0.0|   0.0|   0.0|      0.0|      0.0|      0.0|        0.0|      42|       2|     1|20214915495|     1|   5|     4|      1|    -9|         Male|      White| Never married|Missing/unknown/n...|Not of Hispanic o...|-1259920985|\n",
      "+----+---+----+----------+----------+----------+----------+----------+---+---+---+---+------+---+------+-------+-------+------+-----------+----------+-------+----------+-----------+----------+----------+------+------+---------+---------+---------+-----------+--------+--------+------+-----------+------+----+------+-------+------+-------------+-----------+--------------+--------------------+--------------------+-----------+\n",
      "only showing top 20 rows\n",
      "\n"
     ]
    }
   ],
   "source": [
    "silver_df_part_1.show()"
   ]
  },
  {
   "cell_type": "code",
   "execution_count": 30,
   "metadata": {},
   "outputs": [
    {
     "name": "stdout",
     "output_type": "stream",
     "text": [
      "+----+---+----+----------+----------+----------+----------+----------+---+---+---+---+------+---+------+-------+-------+------+-----------+----------+-------+----------+-----------+----------+----------+------+------+---------+---------+---------+-----------+--------+--------+------+-----------+------+----+------+-------+------+-------------+-----------+--------------+--------------------+--------------------+----------+\n",
      "|YEAR|AGE|EDUC|SPHSERVICE|CMPSERVICE|OPISERVICE|RTCSERVICE|IJSSERVICE|MH1|MH2|MH3|SUB|SMISED|SAP|DETNLF|VETERAN|LIVARAG|NUMMHS|TRAUSTREFLG|ANXIETYFLG|ADHDFLG|CONDUCTFLG|DELIRDEMFLG|BIPOLARFLG|DEPRESSFLG|ODDFLG|PDDFLG|PERSONFLG|SCHIZOFLG|ALCSUBFLG|OTHERDISFLG|STATEFIP|DIVISION|REGION|     CASEID|GENDER|RACE|ETHNIC|MARSTAT|EMPLOY|GENDER_mapped|RACE_mapped|MARSTAT_mapped|       EMPLOY_mapped|       ETHNIC_mapped|CASEID_int|\n",
      "+----+---+----+----------+----------+----------+----------+----------+---+---+---+---+------+---+------+-------+-------+------+-----------+----------+-------+----------+-----------+----------+----------+------+------+---------+---------+---------+-----------+--------+--------+------+-----------+------+----+------+-------+------+-------------+-----------+--------------+--------------------+--------------------+----------+\n",
      "|2021|  1|  -9|         2|         2|         1|         2|         2| 13| -9| -9| -9|     3|  1|    -9|     -9|     -9|   1.0|        0.0|       0.0|    0.0|       0.0|        0.0|       0.0|       0.0|   0.0|   0.0|      0.0|      0.0|      0.0|        1.0|      42|       2|     1|20214915408|     1|   5|     4|      1|    -9|         Male|      White| Never married|Missing/unknown/n...|Not of Hispanic o...|   4915408|\n",
      "|2021|  1|  -9|         2|         1|         2|         2|         2|  3| -9| -9| -9|     3|  1|    -9|     -9|     -9|   1.0|        0.0|       0.0|    1.0|       0.0|        0.0|       0.0|       0.0|   0.0|   0.0|      0.0|      0.0|      0.0|        0.0|      42|       2|     1|20214915412|     1|   5|     4|      1|    -9|         Male|      White| Never married|Missing/unknown/n...|Not of Hispanic o...|   4915412|\n",
      "|2021|  6|  -9|         2|         1|         2|         2|         2|  7|  2| 11| -9|     1|  1|    -9|     -9|     -9|   3.0|        0.0|       1.0|    0.0|       0.0|        0.0|       0.0|       1.0|   0.0|   0.0|      0.0|      1.0|      0.0|        0.0|      42|       2|     1|20214915418|     1|   5|     4|      1|    -9|         Male|      White| Never married|Missing/unknown/n...|Not of Hispanic o...|   4915418|\n",
      "|2021| 13|  -9|         2|         1|         2|         2|         2|  2| -9| -9| -9|     1|  1|    -9|     -9|     -9|   1.0|        0.0|       1.0|    0.0|       0.0|        0.0|       0.0|       0.0|   0.0|   0.0|      0.0|      0.0|      0.0|        0.0|      42|       2|     1|20214915422|     1|   5|     4|      1|    -9|         Male|      White| Never married|Missing/unknown/n...|Not of Hispanic o...|   4915422|\n",
      "|2021| 10|  -9|         2|         2|         1|         2|         2|  6| -9| -9| -9|     1|  1|    -9|     -9|     -9|   1.0|        0.0|       0.0|    0.0|       0.0|        0.0|       1.0|       0.0|   0.0|   0.0|      0.0|      0.0|      0.0|        0.0|      42|       2|     1|20214915425|     1|   5|     4|      1|    -9|         Male|      White| Never married|Missing/unknown/n...|Not of Hispanic o...|   4915425|\n",
      "|2021|  4|  -9|         2|         1|         2|         2|         2|  2| -9| -9| -9|     1|  2|    -9|     -9|     -9|   1.0|        0.0|       1.0|    0.0|       0.0|        0.0|       0.0|       0.0|   0.0|   0.0|      0.0|      0.0|      0.0|        0.0|      42|       2|     1|20214915426|     1|   5|     4|      1|    -9|         Male|      White| Never married|Missing/unknown/n...|Not of Hispanic o...|   4915426|\n",
      "|2021|  1|  -9|         2|         1|         2|         2|         2|  3| -9| -9| -9|     3|  1|    -9|     -9|     -9|   1.0|        0.0|       0.0|    1.0|       0.0|        0.0|       0.0|       0.0|   0.0|   0.0|      0.0|      0.0|      0.0|        0.0|      42|       2|     1|20214915428|     1|   5|     4|      1|    -9|         Male|      White| Never married|Missing/unknown/n...|Not of Hispanic o...|   4915428|\n",
      "|2021|  9|  -9|         2|         1|         2|         2|         2| 11| -9| -9| -9|     1|  2|    -9|     -9|     -9|   1.0|        0.0|       0.0|    0.0|       0.0|        0.0|       0.0|       0.0|   0.0|   0.0|      0.0|      1.0|      0.0|        0.0|      42|       2|     1|20214915430|     1|   5|     4|      1|    -9|         Male|      White| Never married|Missing/unknown/n...|Not of Hispanic o...|   4915430|\n",
      "|2021|  7|  -9|         2|         1|         2|         2|         2|  2| -9| -9| -9|     1|  1|    -9|     -9|     -9|   1.0|        0.0|       1.0|    0.0|       0.0|        0.0|       0.0|       0.0|   0.0|   0.0|      0.0|      0.0|      0.0|        0.0|      42|       2|     1|20214915441|     1|   5|     4|      1|    -9|         Male|      White| Never married|Missing/unknown/n...|Not of Hispanic o...|   4915441|\n",
      "|2021|  1|  -9|         2|         1|         2|         2|         2|  2| -9| -9| -9|     2|  1|    -9|     -9|     -9|   1.0|        0.0|       1.0|    0.0|       0.0|        0.0|       0.0|       0.0|   0.0|   0.0|      0.0|      0.0|      0.0|        0.0|      42|       2|     1|20214915443|     1|   5|     4|      1|    -9|         Male|      White| Never married|Missing/unknown/n...|Not of Hispanic o...|   4915443|\n",
      "|2021|  1|  -9|         2|         1|         2|         2|         2|  4|  3| -9| -9|     3|  1|    -9|     -9|     -9|   2.0|        0.0|       0.0|    1.0|       1.0|        0.0|       0.0|       0.0|   0.0|   0.0|      0.0|      0.0|      0.0|        0.0|      42|       2|     1|20214915448|     1|   5|     4|      1|    -9|         Male|      White| Never married|Missing/unknown/n...|Not of Hispanic o...|   4915448|\n",
      "|2021|  1|  -9|         2|         1|         2|         2|         2| 13| -9| -9| -9|     3|  1|    -9|     -9|     -9|   1.0|        0.0|       0.0|    0.0|       0.0|        0.0|       0.0|       0.0|   0.0|   0.0|      0.0|      0.0|      0.0|        1.0|      42|       2|     1|20214915463|     1|   5|     4|      1|    -9|         Male|      White| Never married|Missing/unknown/n...|Not of Hispanic o...|   4915463|\n",
      "|2021|  1|  -9|         2|         1|         2|         2|         2|  4| -9| -9| -9|     2|  2|    -9|     -9|     -9|   1.0|        0.0|       0.0|    0.0|       1.0|        0.0|       0.0|       0.0|   0.0|   0.0|      0.0|      0.0|      0.0|        0.0|      42|       2|     1|20214915465|     1|   5|     4|      1|    -9|         Male|      White| Never married|Missing/unknown/n...|Not of Hispanic o...|   4915465|\n",
      "|2021|  9|  -9|         2|         1|         2|         2|         2| -9| -9| -9|  4|     3|  1|    -9|     -9|     -9|   0.0|        0.0|       0.0|    0.0|       0.0|        0.0|       0.0|       0.0|   0.0|   0.0|      0.0|      0.0|      0.0|        0.0|      42|       2|     1|20214915467|     1|   5|     4|      1|    -9|         Male|      White| Never married|Missing/unknown/n...|Not of Hispanic o...|   4915467|\n",
      "|2021|  3|  -9|         2|         1|         2|         2|         2|  1| -9| -9| -9|     3|  1|    -9|     -9|     -9|   1.0|        1.0|       0.0|    0.0|       0.0|        0.0|       0.0|       0.0|   0.0|   0.0|      0.0|      0.0|      0.0|        0.0|      42|       2|     1|20214915473|     1|   5|     4|      1|    -9|         Male|      White| Never married|Missing/unknown/n...|Not of Hispanic o...|   4915473|\n",
      "|2021|  1|  -9|         2|         1|         2|         2|         2|  4| -9| -9| -9|     2|  2|    -9|     -9|     -9|   1.0|        0.0|       0.0|    0.0|       1.0|        0.0|       0.0|       0.0|   0.0|   0.0|      0.0|      0.0|      0.0|        0.0|      42|       2|     1|20214915474|     1|   5|     4|      1|    -9|         Male|      White| Never married|Missing/unknown/n...|Not of Hispanic o...|   4915474|\n",
      "|2021| 12|  -9|         2|         1|         2|         2|         2|  2| -9| -9| -9|     1|  2|    -9|     -9|     -9|   1.0|        0.0|       1.0|    0.0|       0.0|        0.0|       0.0|       0.0|   0.0|   0.0|      0.0|      0.0|      0.0|        0.0|      42|       2|     1|20214915477|     1|   5|     4|      1|    -9|         Male|      White| Never married|Missing/unknown/n...|Not of Hispanic o...|   4915477|\n",
      "|2021| 13|  -9|         2|         1|         2|         2|         2| -9| -9| -9| -9|     3|  1|    -9|     -9|     -9|   0.0|        0.0|       0.0|    0.0|       0.0|        0.0|       0.0|       0.0|   0.0|   0.0|      0.0|      0.0|      0.0|        0.0|      42|       2|     1|20214915482|     1|   5|     4|      1|    -9|         Male|      White| Never married|Missing/unknown/n...|Not of Hispanic o...|   4915482|\n",
      "|2021|  7|  -9|         2|         1|         2|         2|         2| 13| -9| -9| -9|     3|  1|    -9|     -9|     -9|   1.0|        0.0|       0.0|    0.0|       0.0|        0.0|       0.0|       0.0|   0.0|   0.0|      0.0|      0.0|      0.0|        1.0|      42|       2|     1|20214915493|     1|   5|     4|      1|    -9|         Male|      White| Never married|Missing/unknown/n...|Not of Hispanic o...|   4915493|\n",
      "|2021|  2|  -9|         2|         1|         2|         2|         2|  3| -9| -9| -9|     3|  2|    -9|     -9|     -9|   1.0|        0.0|       0.0|    1.0|       0.0|        0.0|       0.0|       0.0|   0.0|   0.0|      0.0|      0.0|      0.0|        0.0|      42|       2|     1|20214915495|     1|   5|     4|      1|    -9|         Male|      White| Never married|Missing/unknown/n...|Not of Hispanic o...|   4915495|\n",
      "+----+---+----+----------+----------+----------+----------+----------+---+---+---+---+------+---+------+-------+-------+------+-----------+----------+-------+----------+-----------+----------+----------+------+------+---------+---------+---------+-----------+--------+--------+------+-----------+------+----+------+-------+------+-------------+-----------+--------------+--------------------+--------------------+----------+\n",
      "only showing top 20 rows\n",
      "\n"
     ]
    }
   ],
   "source": [
    "silver_df_part_1 = silver_df_part_1.withColumn(\"CASEID_int\", F.substring(F.col(\"CASEID\").cast(\"string\"), 5, 10).cast(T.IntegerType()))\n",
    "\n",
    "silver_df_part_1.show()"
   ]
  },
  {
   "cell_type": "markdown",
   "metadata": {},
   "source": [
    "2. Data Normalization and Standardization\n",
    "- a. Normalize the numeric variables (MENHLTH, PHYHLTH, POORHLTH) using min-max scaling to bring them to a common scale between 0 and 1.\n",
    "- b. Standardize the numeric variables (MENHLTH, PHYHLTH, POORHLTH) using z-score normalization to have a mean of 0 and a standard deviation of 1.\n",
    "- c. Ensure that the normalized and standardized variables are stored in new columns, keeping the original variables intact.\n",
    "- d. Provide a summary of the normalization and standardization techniques used and the rationale behind them."
   ]
  },
  {
   "cell_type": "code",
   "execution_count": 31,
   "metadata": {},
   "outputs": [
    {
     "name": "stderr",
     "output_type": "stream",
     "text": [
      "                                                                                \r"
     ]
    },
    {
     "name": "stdout",
     "output_type": "stream",
     "text": [
      "root\n",
      " |-- YEAR: integer (nullable = true)\n",
      " |-- AGE: integer (nullable = true)\n",
      " |-- EDUC: integer (nullable = true)\n",
      " |-- SPHSERVICE: integer (nullable = true)\n",
      " |-- CMPSERVICE: integer (nullable = true)\n",
      " |-- OPISERVICE: integer (nullable = true)\n",
      " |-- RTCSERVICE: integer (nullable = true)\n",
      " |-- IJSSERVICE: integer (nullable = true)\n",
      " |-- MH1: integer (nullable = true)\n",
      " |-- MH2: integer (nullable = true)\n",
      " |-- MH3: integer (nullable = true)\n",
      " |-- SUB: integer (nullable = true)\n",
      " |-- SMISED: integer (nullable = true)\n",
      " |-- SAP: integer (nullable = true)\n",
      " |-- DETNLF: integer (nullable = true)\n",
      " |-- VETERAN: integer (nullable = true)\n",
      " |-- LIVARAG: integer (nullable = true)\n",
      " |-- NUMMHS: float (nullable = true)\n",
      " |-- TRAUSTREFLG: float (nullable = true)\n",
      " |-- ANXIETYFLG: float (nullable = true)\n",
      " |-- ADHDFLG: float (nullable = true)\n",
      " |-- CONDUCTFLG: float (nullable = true)\n",
      " |-- DELIRDEMFLG: float (nullable = true)\n",
      " |-- BIPOLARFLG: float (nullable = true)\n",
      " |-- DEPRESSFLG: float (nullable = true)\n",
      " |-- ODDFLG: float (nullable = true)\n",
      " |-- PDDFLG: float (nullable = true)\n",
      " |-- PERSONFLG: float (nullable = true)\n",
      " |-- SCHIZOFLG: float (nullable = true)\n",
      " |-- ALCSUBFLG: float (nullable = true)\n",
      " |-- OTHERDISFLG: float (nullable = true)\n",
      " |-- STATEFIP: integer (nullable = true)\n",
      " |-- DIVISION: integer (nullable = true)\n",
      " |-- REGION: integer (nullable = true)\n",
      " |-- CASEID: long (nullable = true)\n",
      " |-- GENDER: integer (nullable = true)\n",
      " |-- RACE: integer (nullable = true)\n",
      " |-- ETHNIC: integer (nullable = true)\n",
      " |-- MARSTAT: integer (nullable = true)\n",
      " |-- EMPLOY: integer (nullable = true)\n",
      " |-- GENDER_mapped: string (nullable = true)\n",
      " |-- RACE_mapped: string (nullable = true)\n",
      " |-- MARSTAT_mapped: string (nullable = true)\n",
      " |-- EMPLOY_mapped: string (nullable = true)\n",
      " |-- ETHNIC_mapped: string (nullable = true)\n",
      " |-- CASEID_int: integer (nullable = true)\n",
      " |-- NUMMHS_normalized: float (nullable = true)\n",
      " |-- TRAUSTREFLG_normalized: float (nullable = true)\n",
      " |-- ANXIETYFLG_normalized: float (nullable = true)\n",
      " |-- ADHDFLG_normalized: float (nullable = true)\n",
      " |-- CONDUCTFLG_normalized: float (nullable = true)\n",
      " |-- DELIRDEMFLG_normalized: float (nullable = true)\n",
      " |-- BIPOLARFLG_normalized: float (nullable = true)\n",
      " |-- DEPRESSFLG_normalized: float (nullable = true)\n",
      " |-- ODDFLG_normalized: float (nullable = true)\n",
      " |-- PDDFLG_normalized: float (nullable = true)\n",
      " |-- PERSONFLG_normalized: float (nullable = true)\n",
      " |-- SCHIZOFLG_normalized: float (nullable = true)\n",
      " |-- ALCSUBFLG_normalized: float (nullable = true)\n",
      " |-- OTHERDISFLG_normalized: float (nullable = true)\n",
      " |-- NUMMHS_standardized: float (nullable = true)\n",
      " |-- TRAUSTREFLG_standardized: float (nullable = true)\n",
      " |-- ANXIETYFLG_standardized: float (nullable = true)\n",
      " |-- ADHDFLG_standardized: float (nullable = true)\n",
      " |-- CONDUCTFLG_standardized: float (nullable = true)\n",
      " |-- DELIRDEMFLG_standardized: float (nullable = true)\n",
      " |-- BIPOLARFLG_standardized: float (nullable = true)\n",
      " |-- DEPRESSFLG_standardized: float (nullable = true)\n",
      " |-- ODDFLG_standardized: float (nullable = true)\n",
      " |-- PDDFLG_standardized: float (nullable = true)\n",
      " |-- PERSONFLG_standardized: float (nullable = true)\n",
      " |-- SCHIZOFLG_standardized: float (nullable = true)\n",
      " |-- ALCSUBFLG_standardized: float (nullable = true)\n",
      " |-- OTHERDISFLG_standardized: float (nullable = true)\n",
      "\n",
      "MENHLTH_normalized: Normalized to scale between 0 and 1 using Min-Max scaling\n",
      "PHYHLTH_normalized: Normalized to scale between 0 and 1 using Min-Max scaling\n",
      "POORHLTH_normalized: Normalized to scale between 0 and 1 using Min-Max scaling\n",
      "MENHLTH_standardized: Standardized to have mean 0 and standard deviation 1 using Z-Score normalization\n",
      "PHYHLTH_standardized: Standardized to have mean 0 and standard deviation 1 using Z-Score normalization\n",
      "POORHLTH_standardized: Standardized to have mean 0 and standard deviation 1 using Z-Score normalization\n"
     ]
    }
   ],
   "source": [
    "from pyspark.ml.feature import MinMaxScaler, StandardScaler, VectorAssembler\n",
    "\n",
    "extract_first_element = F.udf(lambda x: float(x[0]), T.FloatType())\n",
    "\n",
    "cols_to_scale = [\n",
    "    \"NUMMHS\",\"TRAUSTREFLG\",\"ANXIETYFLG\",\"ADHDFLG\",\"CONDUCTFLG\",\"DELIRDEMFLG\",\"BIPOLARFLG\",\"DEPRESSFLG\",\"ODDFLG\",\"PDDFLG\",\"PERSONFLG\",\"SCHIZOFLG\",\n",
    "    \"ALCSUBFLG\",\"OTHERDISFLG\"\n",
    "    ]\n",
    "\n",
    "for col in cols_to_scale:\n",
    "    assembler = VectorAssembler(inputCols=[col], outputCol=f\"{col}_vec\")\n",
    "    scaler = MinMaxScaler(inputCol=f\"{col}_vec\", outputCol=f\"{col}_normalized_vec\")\n",
    "    silver_df_part_1 = assembler.transform(silver_df_part_1)\n",
    "    scaler_model = scaler.fit(silver_df_part_1)\n",
    "    silver_df_part_1 = scaler_model.transform(silver_df_part_1)\n",
    "    silver_df_part_1 = silver_df_part_1.withColumn(f\"{col}_normalized\", extract_first_element(F.col(f\"{col}_normalized_vec\")))\n",
    "    silver_df_part_1 = silver_df_part_1.drop(f\"{col}_vec\").drop(f\"{col}_normalized_vec\")\n",
    "\n",
    "for col in cols_to_scale:\n",
    "    assembler = VectorAssembler(inputCols=[col], outputCol=f\"{col}_vec\")\n",
    "    scaler = StandardScaler(inputCol=f\"{col}_vec\", outputCol=f\"{col}_standardized_vec\", withMean=True, withStd=True)\n",
    "    silver_df_part_1 = assembler.transform(silver_df_part_1)\n",
    "    scaler_model = scaler.fit(silver_df_part_1)\n",
    "    silver_df_part_1 = scaler_model.transform(silver_df_part_1)\n",
    "    silver_df_part_1 = silver_df_part_1.withColumn(f\"{col}_standardized\", extract_first_element(F.col(f\"{col}_standardized_vec\")))\n",
    "    silver_df_part_1 = silver_df_part_1.drop(f\"{col}_vec\").drop(f\"{col}_standardized_vec\")\n",
    "\n",
    "silver_df_part_2 = silver_df_part_1\n",
    "\n",
    "silver_df_part_2.na.drop()\n",
    "\n",
    "silver_df_part_2.printSchema()\n",
    "\n",
    "data_type_summary = {\n",
    "    \"MENHLTH_normalized\": \"Normalized to scale between 0 and 1 using Min-Max scaling\",\n",
    "    \"PHYHLTH_normalized\": \"Normalized to scale between 0 and 1 using Min-Max scaling\",\n",
    "    \"POORHLTH_normalized\": \"Normalized to scale between 0 and 1 using Min-Max scaling\",\n",
    "    \"MENHLTH_standardized\": \"Standardized to have mean 0 and standard deviation 1 using Z-Score normalization\",\n",
    "    \"PHYHLTH_standardized\": \"Standardized to have mean 0 and standard deviation 1 using Z-Score normalization\",\n",
    "    \"POORHLTH_standardized\": \"Standardized to have mean 0 and standard deviation 1 using Z-Score normalization\"\n",
    "}\n",
    "\n",
    "for column, summary in data_type_summary.items():\n",
    "    print(f\"{column}: {summary}\")\n",
    "silver_part_2_path = os.path.join(\"..\",\"data\",\"medallion_layers\",\"silver_part_2\")\n",
    "\n",
    "# silver_df_part_2.write.partitionBy(\"GENDER\", \"RACE\", \"ETHNIC\", \"MARSTAT\", \"EMPLOY\").mode(\"overwrite\").parquet(silver_part_2_path)"
   ]
  },
  {
   "cell_type": "code",
   "execution_count": 32,
   "metadata": {},
   "outputs": [
    {
     "name": "stderr",
     "output_type": "stream",
     "text": [
      "24/05/26 19:58:25 WARN DAGScheduler: Broadcasting large task binary with size 1079.2 KiB\n",
      "[Stage 197:>                                                        (0 + 1) / 1]\r"
     ]
    },
    {
     "name": "stdout",
     "output_type": "stream",
     "text": [
      "+----+---+----+----------+----------+----------+----------+----------+---+---+---+---+------+---+------+-------+-------+------+-----------+----------+-------+----------+-----------+----------+----------+------+------+---------+---------+---------+-----------+--------+--------+------+-----------+------+----+------+-------+------+-------------+-----------+--------------+--------------------+--------------------+----------+-----------------+----------------------+---------------------+------------------+---------------------+----------------------+---------------------+---------------------+-----------------+-----------------+--------------------+--------------------+--------------------+----------------------+-------------------+------------------------+-----------------------+--------------------+-----------------------+------------------------+-----------------------+-----------------------+-------------------+-------------------+----------------------+----------------------+----------------------+------------------------+\n",
      "|YEAR|AGE|EDUC|SPHSERVICE|CMPSERVICE|OPISERVICE|RTCSERVICE|IJSSERVICE|MH1|MH2|MH3|SUB|SMISED|SAP|DETNLF|VETERAN|LIVARAG|NUMMHS|TRAUSTREFLG|ANXIETYFLG|ADHDFLG|CONDUCTFLG|DELIRDEMFLG|BIPOLARFLG|DEPRESSFLG|ODDFLG|PDDFLG|PERSONFLG|SCHIZOFLG|ALCSUBFLG|OTHERDISFLG|STATEFIP|DIVISION|REGION|     CASEID|GENDER|RACE|ETHNIC|MARSTAT|EMPLOY|GENDER_mapped|RACE_mapped|MARSTAT_mapped|       EMPLOY_mapped|       ETHNIC_mapped|CASEID_int|NUMMHS_normalized|TRAUSTREFLG_normalized|ANXIETYFLG_normalized|ADHDFLG_normalized|CONDUCTFLG_normalized|DELIRDEMFLG_normalized|BIPOLARFLG_normalized|DEPRESSFLG_normalized|ODDFLG_normalized|PDDFLG_normalized|PERSONFLG_normalized|SCHIZOFLG_normalized|ALCSUBFLG_normalized|OTHERDISFLG_normalized|NUMMHS_standardized|TRAUSTREFLG_standardized|ANXIETYFLG_standardized|ADHDFLG_standardized|CONDUCTFLG_standardized|DELIRDEMFLG_standardized|BIPOLARFLG_standardized|DEPRESSFLG_standardized|ODDFLG_standardized|PDDFLG_standardized|PERSONFLG_standardized|SCHIZOFLG_standardized|ALCSUBFLG_standardized|OTHERDISFLG_standardized|\n",
      "+----+---+----+----------+----------+----------+----------+----------+---+---+---+---+------+---+------+-------+-------+------+-----------+----------+-------+----------+-----------+----------+----------+------+------+---------+---------+---------+-----------+--------+--------+------+-----------+------+----+------+-------+------+-------------+-----------+--------------+--------------------+--------------------+----------+-----------------+----------------------+---------------------+------------------+---------------------+----------------------+---------------------+---------------------+-----------------+-----------------+--------------------+--------------------+--------------------+----------------------+-------------------+------------------------+-----------------------+--------------------+-----------------------+------------------------+-----------------------+-----------------------+-------------------+-------------------+----------------------+----------------------+----------------------+------------------------+\n",
      "|2021|  1|  -9|         2|         2|         1|         2|         2| 13| -9| -9| -9|     3|  1|    -9|     -9|     -9|   1.0|        0.0|       0.0|    0.0|       0.0|        0.0|       0.0|       0.0|   0.0|   0.0|      0.0|      0.0|      0.0|        1.0|      42|       2|     1|20214915408|     1|   5|     4|      1|    -9|         Male|      White| Never married|Missing/unknown/n...|Not of Hispanic o...|   4915408|       0.33333334|                   0.0|                  0.0|               0.0|                  0.0|                   0.0|                  0.0|                  0.0|              0.0|              0.0|                 0.0|                 0.0|                 0.0|                   1.0|        -0.36124235|             -0.49705252|            -0.54898864|         -0.32929462|            -0.12376846|            -0.067576624|            -0.33764446|             -0.6159681|        -0.15623786|         -0.1296884|           -0.15841848|           -0.35239106|           -0.24917588|               2.5784402|\n",
      "|2021|  1|  -9|         2|         1|         2|         2|         2|  3| -9| -9| -9|     3|  1|    -9|     -9|     -9|   1.0|        0.0|       0.0|    1.0|       0.0|        0.0|       0.0|       0.0|   0.0|   0.0|      0.0|      0.0|      0.0|        0.0|      42|       2|     1|20214915412|     1|   5|     4|      1|    -9|         Male|      White| Never married|Missing/unknown/n...|Not of Hispanic o...|   4915412|       0.33333334|                   0.0|                  0.0|               1.0|                  0.0|                   0.0|                  0.0|                  0.0|              0.0|              0.0|                 0.0|                 0.0|                 0.0|                   0.0|        -0.36124235|             -0.49705252|            -0.54898864|           3.0367937|            -0.12376846|            -0.067576624|            -0.33764446|             -0.6159681|        -0.15623786|         -0.1296884|           -0.15841848|           -0.35239106|           -0.24917588|             -0.38783133|\n",
      "|2021|  6|  -9|         2|         1|         2|         2|         2|  7|  2| 11| -9|     1|  1|    -9|     -9|     -9|   3.0|        0.0|       1.0|    0.0|       0.0|        0.0|       0.0|       1.0|   0.0|   0.0|      0.0|      1.0|      0.0|        0.0|      42|       2|     1|20214915418|     1|   5|     4|      1|    -9|         Male|      White| Never married|Missing/unknown/n...|Not of Hispanic o...|   4915418|              1.0|                   0.0|                  1.0|               0.0|                  0.0|                   0.0|                  0.0|                  1.0|              0.0|              0.0|                 0.0|                 1.0|                 0.0|                   0.0|          2.1378973|             -0.49705252|               1.821531|         -0.32929462|            -0.12376846|            -0.067576624|            -0.33764446|              1.6234604|        -0.15623786|         -0.1296884|           -0.15841848|             2.8377562|           -0.24917588|             -0.38783133|\n",
      "|2021| 13|  -9|         2|         1|         2|         2|         2|  2| -9| -9| -9|     1|  1|    -9|     -9|     -9|   1.0|        0.0|       1.0|    0.0|       0.0|        0.0|       0.0|       0.0|   0.0|   0.0|      0.0|      0.0|      0.0|        0.0|      42|       2|     1|20214915422|     1|   5|     4|      1|    -9|         Male|      White| Never married|Missing/unknown/n...|Not of Hispanic o...|   4915422|       0.33333334|                   0.0|                  1.0|               0.0|                  0.0|                   0.0|                  0.0|                  0.0|              0.0|              0.0|                 0.0|                 0.0|                 0.0|                   0.0|        -0.36124235|             -0.49705252|               1.821531|         -0.32929462|            -0.12376846|            -0.067576624|            -0.33764446|             -0.6159681|        -0.15623786|         -0.1296884|           -0.15841848|           -0.35239106|           -0.24917588|             -0.38783133|\n",
      "|2021| 10|  -9|         2|         2|         1|         2|         2|  6| -9| -9| -9|     1|  1|    -9|     -9|     -9|   1.0|        0.0|       0.0|    0.0|       0.0|        0.0|       1.0|       0.0|   0.0|   0.0|      0.0|      0.0|      0.0|        0.0|      42|       2|     1|20214915425|     1|   5|     4|      1|    -9|         Male|      White| Never married|Missing/unknown/n...|Not of Hispanic o...|   4915425|       0.33333334|                   0.0|                  0.0|               0.0|                  0.0|                   0.0|                  1.0|                  0.0|              0.0|              0.0|                 0.0|                 0.0|                 0.0|                   0.0|        -0.36124235|             -0.49705252|            -0.54898864|         -0.32929462|            -0.12376846|            -0.067576624|               2.961695|             -0.6159681|        -0.15623786|         -0.1296884|           -0.15841848|           -0.35239106|           -0.24917588|             -0.38783133|\n",
      "|2021|  4|  -9|         2|         1|         2|         2|         2|  2| -9| -9| -9|     1|  2|    -9|     -9|     -9|   1.0|        0.0|       1.0|    0.0|       0.0|        0.0|       0.0|       0.0|   0.0|   0.0|      0.0|      0.0|      0.0|        0.0|      42|       2|     1|20214915426|     1|   5|     4|      1|    -9|         Male|      White| Never married|Missing/unknown/n...|Not of Hispanic o...|   4915426|       0.33333334|                   0.0|                  1.0|               0.0|                  0.0|                   0.0|                  0.0|                  0.0|              0.0|              0.0|                 0.0|                 0.0|                 0.0|                   0.0|        -0.36124235|             -0.49705252|               1.821531|         -0.32929462|            -0.12376846|            -0.067576624|            -0.33764446|             -0.6159681|        -0.15623786|         -0.1296884|           -0.15841848|           -0.35239106|           -0.24917588|             -0.38783133|\n",
      "|2021|  1|  -9|         2|         1|         2|         2|         2|  3| -9| -9| -9|     3|  1|    -9|     -9|     -9|   1.0|        0.0|       0.0|    1.0|       0.0|        0.0|       0.0|       0.0|   0.0|   0.0|      0.0|      0.0|      0.0|        0.0|      42|       2|     1|20214915428|     1|   5|     4|      1|    -9|         Male|      White| Never married|Missing/unknown/n...|Not of Hispanic o...|   4915428|       0.33333334|                   0.0|                  0.0|               1.0|                  0.0|                   0.0|                  0.0|                  0.0|              0.0|              0.0|                 0.0|                 0.0|                 0.0|                   0.0|        -0.36124235|             -0.49705252|            -0.54898864|           3.0367937|            -0.12376846|            -0.067576624|            -0.33764446|             -0.6159681|        -0.15623786|         -0.1296884|           -0.15841848|           -0.35239106|           -0.24917588|             -0.38783133|\n",
      "|2021|  9|  -9|         2|         1|         2|         2|         2| 11| -9| -9| -9|     1|  2|    -9|     -9|     -9|   1.0|        0.0|       0.0|    0.0|       0.0|        0.0|       0.0|       0.0|   0.0|   0.0|      0.0|      1.0|      0.0|        0.0|      42|       2|     1|20214915430|     1|   5|     4|      1|    -9|         Male|      White| Never married|Missing/unknown/n...|Not of Hispanic o...|   4915430|       0.33333334|                   0.0|                  0.0|               0.0|                  0.0|                   0.0|                  0.0|                  0.0|              0.0|              0.0|                 0.0|                 1.0|                 0.0|                   0.0|        -0.36124235|             -0.49705252|            -0.54898864|         -0.32929462|            -0.12376846|            -0.067576624|            -0.33764446|             -0.6159681|        -0.15623786|         -0.1296884|           -0.15841848|             2.8377562|           -0.24917588|             -0.38783133|\n",
      "|2021|  7|  -9|         2|         1|         2|         2|         2|  2| -9| -9| -9|     1|  1|    -9|     -9|     -9|   1.0|        0.0|       1.0|    0.0|       0.0|        0.0|       0.0|       0.0|   0.0|   0.0|      0.0|      0.0|      0.0|        0.0|      42|       2|     1|20214915441|     1|   5|     4|      1|    -9|         Male|      White| Never married|Missing/unknown/n...|Not of Hispanic o...|   4915441|       0.33333334|                   0.0|                  1.0|               0.0|                  0.0|                   0.0|                  0.0|                  0.0|              0.0|              0.0|                 0.0|                 0.0|                 0.0|                   0.0|        -0.36124235|             -0.49705252|               1.821531|         -0.32929462|            -0.12376846|            -0.067576624|            -0.33764446|             -0.6159681|        -0.15623786|         -0.1296884|           -0.15841848|           -0.35239106|           -0.24917588|             -0.38783133|\n",
      "|2021|  1|  -9|         2|         1|         2|         2|         2|  2| -9| -9| -9|     2|  1|    -9|     -9|     -9|   1.0|        0.0|       1.0|    0.0|       0.0|        0.0|       0.0|       0.0|   0.0|   0.0|      0.0|      0.0|      0.0|        0.0|      42|       2|     1|20214915443|     1|   5|     4|      1|    -9|         Male|      White| Never married|Missing/unknown/n...|Not of Hispanic o...|   4915443|       0.33333334|                   0.0|                  1.0|               0.0|                  0.0|                   0.0|                  0.0|                  0.0|              0.0|              0.0|                 0.0|                 0.0|                 0.0|                   0.0|        -0.36124235|             -0.49705252|               1.821531|         -0.32929462|            -0.12376846|            -0.067576624|            -0.33764446|             -0.6159681|        -0.15623786|         -0.1296884|           -0.15841848|           -0.35239106|           -0.24917588|             -0.38783133|\n",
      "|2021|  1|  -9|         2|         1|         2|         2|         2|  4|  3| -9| -9|     3|  1|    -9|     -9|     -9|   2.0|        0.0|       0.0|    1.0|       1.0|        0.0|       0.0|       0.0|   0.0|   0.0|      0.0|      0.0|      0.0|        0.0|      42|       2|     1|20214915448|     1|   5|     4|      1|    -9|         Male|      White| Never married|Missing/unknown/n...|Not of Hispanic o...|   4915448|        0.6666667|                   0.0|                  0.0|               1.0|                  1.0|                   0.0|                  0.0|                  0.0|              0.0|              0.0|                 0.0|                 0.0|                 0.0|                   0.0|          0.8883274|             -0.49705252|            -0.54898864|           3.0367937|               8.079602|            -0.067576624|            -0.33764446|             -0.6159681|        -0.15623786|         -0.1296884|           -0.15841848|           -0.35239106|           -0.24917588|             -0.38783133|\n",
      "|2021|  1|  -9|         2|         1|         2|         2|         2| 13| -9| -9| -9|     3|  1|    -9|     -9|     -9|   1.0|        0.0|       0.0|    0.0|       0.0|        0.0|       0.0|       0.0|   0.0|   0.0|      0.0|      0.0|      0.0|        1.0|      42|       2|     1|20214915463|     1|   5|     4|      1|    -9|         Male|      White| Never married|Missing/unknown/n...|Not of Hispanic o...|   4915463|       0.33333334|                   0.0|                  0.0|               0.0|                  0.0|                   0.0|                  0.0|                  0.0|              0.0|              0.0|                 0.0|                 0.0|                 0.0|                   1.0|        -0.36124235|             -0.49705252|            -0.54898864|         -0.32929462|            -0.12376846|            -0.067576624|            -0.33764446|             -0.6159681|        -0.15623786|         -0.1296884|           -0.15841848|           -0.35239106|           -0.24917588|               2.5784402|\n",
      "|2021|  1|  -9|         2|         1|         2|         2|         2|  4| -9| -9| -9|     2|  2|    -9|     -9|     -9|   1.0|        0.0|       0.0|    0.0|       1.0|        0.0|       0.0|       0.0|   0.0|   0.0|      0.0|      0.0|      0.0|        0.0|      42|       2|     1|20214915465|     1|   5|     4|      1|    -9|         Male|      White| Never married|Missing/unknown/n...|Not of Hispanic o...|   4915465|       0.33333334|                   0.0|                  0.0|               0.0|                  1.0|                   0.0|                  0.0|                  0.0|              0.0|              0.0|                 0.0|                 0.0|                 0.0|                   0.0|        -0.36124235|             -0.49705252|            -0.54898864|         -0.32929462|               8.079602|            -0.067576624|            -0.33764446|             -0.6159681|        -0.15623786|         -0.1296884|           -0.15841848|           -0.35239106|           -0.24917588|             -0.38783133|\n",
      "|2021|  9|  -9|         2|         1|         2|         2|         2| -9| -9| -9|  4|     3|  1|    -9|     -9|     -9|   0.0|        0.0|       0.0|    0.0|       0.0|        0.0|       0.0|       0.0|   0.0|   0.0|      0.0|      0.0|      0.0|        0.0|      42|       2|     1|20214915467|     1|   5|     4|      1|    -9|         Male|      White| Never married|Missing/unknown/n...|Not of Hispanic o...|   4915467|              0.0|                   0.0|                  0.0|               0.0|                  0.0|                   0.0|                  0.0|                  0.0|              0.0|              0.0|                 0.0|                 0.0|                 0.0|                   0.0|         -1.6108121|             -0.49705252|            -0.54898864|         -0.32929462|            -0.12376846|            -0.067576624|            -0.33764446|             -0.6159681|        -0.15623786|         -0.1296884|           -0.15841848|           -0.35239106|           -0.24917588|             -0.38783133|\n",
      "|2021|  3|  -9|         2|         1|         2|         2|         2|  1| -9| -9| -9|     3|  1|    -9|     -9|     -9|   1.0|        1.0|       0.0|    0.0|       0.0|        0.0|       0.0|       0.0|   0.0|   0.0|      0.0|      0.0|      0.0|        0.0|      42|       2|     1|20214915473|     1|   5|     4|      1|    -9|         Male|      White| Never married|Missing/unknown/n...|Not of Hispanic o...|   4915473|       0.33333334|                   1.0|                  0.0|               0.0|                  0.0|                   0.0|                  0.0|                  0.0|              0.0|              0.0|                 0.0|                 0.0|                 0.0|                   0.0|        -0.36124235|               2.0118594|            -0.54898864|         -0.32929462|            -0.12376846|            -0.067576624|            -0.33764446|             -0.6159681|        -0.15623786|         -0.1296884|           -0.15841848|           -0.35239106|           -0.24917588|             -0.38783133|\n",
      "|2021|  1|  -9|         2|         1|         2|         2|         2|  4| -9| -9| -9|     2|  2|    -9|     -9|     -9|   1.0|        0.0|       0.0|    0.0|       1.0|        0.0|       0.0|       0.0|   0.0|   0.0|      0.0|      0.0|      0.0|        0.0|      42|       2|     1|20214915474|     1|   5|     4|      1|    -9|         Male|      White| Never married|Missing/unknown/n...|Not of Hispanic o...|   4915474|       0.33333334|                   0.0|                  0.0|               0.0|                  1.0|                   0.0|                  0.0|                  0.0|              0.0|              0.0|                 0.0|                 0.0|                 0.0|                   0.0|        -0.36124235|             -0.49705252|            -0.54898864|         -0.32929462|               8.079602|            -0.067576624|            -0.33764446|             -0.6159681|        -0.15623786|         -0.1296884|           -0.15841848|           -0.35239106|           -0.24917588|             -0.38783133|\n",
      "|2021| 12|  -9|         2|         1|         2|         2|         2|  2| -9| -9| -9|     1|  2|    -9|     -9|     -9|   1.0|        0.0|       1.0|    0.0|       0.0|        0.0|       0.0|       0.0|   0.0|   0.0|      0.0|      0.0|      0.0|        0.0|      42|       2|     1|20214915477|     1|   5|     4|      1|    -9|         Male|      White| Never married|Missing/unknown/n...|Not of Hispanic o...|   4915477|       0.33333334|                   0.0|                  1.0|               0.0|                  0.0|                   0.0|                  0.0|                  0.0|              0.0|              0.0|                 0.0|                 0.0|                 0.0|                   0.0|        -0.36124235|             -0.49705252|               1.821531|         -0.32929462|            -0.12376846|            -0.067576624|            -0.33764446|             -0.6159681|        -0.15623786|         -0.1296884|           -0.15841848|           -0.35239106|           -0.24917588|             -0.38783133|\n",
      "|2021| 13|  -9|         2|         1|         2|         2|         2| -9| -9| -9| -9|     3|  1|    -9|     -9|     -9|   0.0|        0.0|       0.0|    0.0|       0.0|        0.0|       0.0|       0.0|   0.0|   0.0|      0.0|      0.0|      0.0|        0.0|      42|       2|     1|20214915482|     1|   5|     4|      1|    -9|         Male|      White| Never married|Missing/unknown/n...|Not of Hispanic o...|   4915482|              0.0|                   0.0|                  0.0|               0.0|                  0.0|                   0.0|                  0.0|                  0.0|              0.0|              0.0|                 0.0|                 0.0|                 0.0|                   0.0|         -1.6108121|             -0.49705252|            -0.54898864|         -0.32929462|            -0.12376846|            -0.067576624|            -0.33764446|             -0.6159681|        -0.15623786|         -0.1296884|           -0.15841848|           -0.35239106|           -0.24917588|             -0.38783133|\n",
      "|2021|  7|  -9|         2|         1|         2|         2|         2| 13| -9| -9| -9|     3|  1|    -9|     -9|     -9|   1.0|        0.0|       0.0|    0.0|       0.0|        0.0|       0.0|       0.0|   0.0|   0.0|      0.0|      0.0|      0.0|        1.0|      42|       2|     1|20214915493|     1|   5|     4|      1|    -9|         Male|      White| Never married|Missing/unknown/n...|Not of Hispanic o...|   4915493|       0.33333334|                   0.0|                  0.0|               0.0|                  0.0|                   0.0|                  0.0|                  0.0|              0.0|              0.0|                 0.0|                 0.0|                 0.0|                   1.0|        -0.36124235|             -0.49705252|            -0.54898864|         -0.32929462|            -0.12376846|            -0.067576624|            -0.33764446|             -0.6159681|        -0.15623786|         -0.1296884|           -0.15841848|           -0.35239106|           -0.24917588|               2.5784402|\n",
      "|2021|  2|  -9|         2|         1|         2|         2|         2|  3| -9| -9| -9|     3|  2|    -9|     -9|     -9|   1.0|        0.0|       0.0|    1.0|       0.0|        0.0|       0.0|       0.0|   0.0|   0.0|      0.0|      0.0|      0.0|        0.0|      42|       2|     1|20214915495|     1|   5|     4|      1|    -9|         Male|      White| Never married|Missing/unknown/n...|Not of Hispanic o...|   4915495|       0.33333334|                   0.0|                  0.0|               1.0|                  0.0|                   0.0|                  0.0|                  0.0|              0.0|              0.0|                 0.0|                 0.0|                 0.0|                   0.0|        -0.36124235|             -0.49705252|            -0.54898864|           3.0367937|            -0.12376846|            -0.067576624|            -0.33764446|             -0.6159681|        -0.15623786|         -0.1296884|           -0.15841848|           -0.35239106|           -0.24917588|             -0.38783133|\n",
      "+----+---+----+----------+----------+----------+----------+----------+---+---+---+---+------+---+------+-------+-------+------+-----------+----------+-------+----------+-----------+----------+----------+------+------+---------+---------+---------+-----------+--------+--------+------+-----------+------+----+------+-------+------+-------------+-----------+--------------+--------------------+--------------------+----------+-----------------+----------------------+---------------------+------------------+---------------------+----------------------+---------------------+---------------------+-----------------+-----------------+--------------------+--------------------+--------------------+----------------------+-------------------+------------------------+-----------------------+--------------------+-----------------------+------------------------+-----------------------+-----------------------+-------------------+-------------------+----------------------+----------------------+----------------------+------------------------+\n",
      "only showing top 20 rows\n",
      "\n"
     ]
    },
    {
     "name": "stderr",
     "output_type": "stream",
     "text": [
      "24/05/26 19:58:35 WARN PythonUDFRunner: Detected deadlock while completing task 0.0 in stage 197 (TID 19568): Attempting to kill Python Worker\n",
      "                                                                                \r"
     ]
    }
   ],
   "source": [
    "silver_df_part_2.show()"
   ]
  },
  {
   "cell_type": "markdown",
   "metadata": {},
   "source": [
    "3. Data Partitioning and Sampling\n",
    "- a. Split the dataset into training and testing sets, ensuring a representative split based on the demographic variables (GENDER, RACE, ETHNICITY, MARITAL, EMPLOY, INCOME).\n",
    "- b. Implement stratified sampling to create the training and testing sets, maintaining the same proportions of the demographic variables in both sets.\n",
    "- c. Create a validation set from the training set using a similar stratified sampling approach.\n",
    "- d. Ensure that the dataset splits are stored in separate files or data structures, with appropriate naming conventions and metadata.\n",
    "- e. Provide a detailed report on the data partitioning and sampling process, including the rationale for the chosen techniques and the characteristics of the resulting datasets."
   ]
  },
  {
   "cell_type": "code",
   "execution_count": null,
   "metadata": {},
   "outputs": [],
   "source": []
  },
  {
   "cell_type": "code",
   "execution_count": 33,
   "metadata": {},
   "outputs": [
    {
     "name": "stderr",
     "output_type": "stream",
     "text": [
      "                                                                                \r"
     ]
    }
   ],
   "source": [
    "SEED = 42\n",
    "from pyspark.ml.feature import StringIndexer\n",
    "from pyspark.ml import Pipeline\n",
    "from pyspark.ml.tuning import TrainValidationSplit\n",
    "from pyspark.ml.classification import LogisticRegression\n",
    "\n",
    "# Assume silver_df is your DataFrame\n",
    "\n",
    "# \"GENDER\", \"RACE\", \"ETHNIC\", \"MARSTAT\", \"EMPLOY\"\n",
    "silver_df_part_3 = silver_df_part_2.withColumn(\"demographic_strata\", F.concat_ws(\"_\", F.col(\"GENDER\"), F.col(\"RACE\"), F.col(\"ETHNIC\"), F.col(\"MARSTAT\"), F.col(\"EMPLOY\")))\n",
    "\n",
    "indexer = StringIndexer(inputCol=\"demographic_strata\", outputCol=\"strataIndex\")\n",
    "silver_df_part_3 = indexer.fit(silver_df_part_3).transform(silver_df_part_3)\n",
    "\n",
    "train, test = silver_df_part_3.randomSplit([0.8, 0.2], seed=SEED)\n",
    "train, validation = train.randomSplit([0.75, 0.25], seed=SEED)\n",
    "\n",
    "\n",
    "full_path = os.path.join(\"..\",\"data\",\"medallion_layers\",\"silver_part_3\",\"full\")\n",
    "train_path = os.path.join(\"..\",\"data\",\"medallion_layers\",\"silver_part_3\",\"train\")\n",
    "test_path = os.path.join(\"..\",\"data\",\"medallion_layers\",\"silver_part_3\",\"test\")\n",
    "validation_path = os.path.join(\"..\",\"data\",\"medallion_layers\",\"silver_part_3\",\"validation\")"
   ]
  },
  {
   "cell_type": "code",
   "execution_count": 35,
   "metadata": {},
   "outputs": [
    {
     "name": "stderr",
     "output_type": "stream",
     "text": [
      "24/05/26 20:09:20 WARN DAGScheduler: Broadcasting large task binary with size 1067.7 KiB\n",
      "ERROR:root:KeyboardInterrupt while sending command.              (53 + 8) / 341]\n",
      "Traceback (most recent call last):\n",
      "  File \"/Users/aymansulaiman/miniforge3/envs/crisis_text_line/lib/python3.10/site-packages/py4j/java_gateway.py\", line 1038, in send_command\n",
      "    response = connection.send_command(command)\n",
      "  File \"/Users/aymansulaiman/miniforge3/envs/crisis_text_line/lib/python3.10/site-packages/py4j/clientserver.py\", line 511, in send_command\n",
      "    answer = smart_decode(self.stream.readline()[:-1])\n",
      "  File \"/Users/aymansulaiman/miniforge3/envs/crisis_text_line/lib/python3.10/socket.py\", line 705, in readinto\n",
      "    return self._sock.recv_into(b)\n",
      "KeyboardInterrupt\n"
     ]
    },
    {
     "ename": "KeyboardInterrupt",
     "evalue": "",
     "output_type": "error",
     "traceback": [
      "\u001b[0;31m---------------------------------------------------------------------------\u001b[0m",
      "\u001b[0;31mKeyboardInterrupt\u001b[0m                         Traceback (most recent call last)",
      "Cell \u001b[0;32mIn[35], line 1\u001b[0m\n\u001b[0;32m----> 1\u001b[0m \u001b[43msilver_df_part_3\u001b[49m\u001b[38;5;241;43m.\u001b[39;49m\u001b[43mrepartition\u001b[49m\u001b[43m(\u001b[49m\u001b[38;5;241;43m16\u001b[39;49m\u001b[43m,\u001b[49m\u001b[43m \u001b[49m\u001b[38;5;124;43m\"\u001b[39;49m\u001b[38;5;124;43mRACE\u001b[39;49m\u001b[38;5;124;43m\"\u001b[39;49m\u001b[43m)\u001b[49m\u001b[38;5;241;43m.\u001b[39;49m\u001b[43mwrite\u001b[49m\u001b[38;5;241;43m.\u001b[39;49m\u001b[43mpartitionBy\u001b[49m\u001b[43m(\u001b[49m\u001b[38;5;124;43m\"\u001b[39;49m\u001b[38;5;124;43mGENDER\u001b[39;49m\u001b[38;5;124;43m\"\u001b[39;49m\u001b[43m,\u001b[49m\u001b[43m \u001b[49m\u001b[38;5;124;43m\"\u001b[39;49m\u001b[38;5;124;43mRACE\u001b[39;49m\u001b[38;5;124;43m\"\u001b[39;49m\u001b[43m,\u001b[49m\u001b[43m \u001b[49m\u001b[38;5;124;43m\"\u001b[39;49m\u001b[38;5;124;43mETHNIC\u001b[39;49m\u001b[38;5;124;43m\"\u001b[39;49m\u001b[43m,\u001b[49m\u001b[43m \u001b[49m\u001b[38;5;124;43m\"\u001b[39;49m\u001b[38;5;124;43mMARSTAT\u001b[39;49m\u001b[38;5;124;43m\"\u001b[39;49m\u001b[43m,\u001b[49m\u001b[43m \u001b[49m\u001b[38;5;124;43m\"\u001b[39;49m\u001b[38;5;124;43mEMPLOY\u001b[39;49m\u001b[38;5;124;43m\"\u001b[39;49m\u001b[43m)\u001b[49m\u001b[38;5;241;43m.\u001b[39;49m\u001b[43mmode\u001b[49m\u001b[43m(\u001b[49m\u001b[38;5;124;43m\"\u001b[39;49m\u001b[38;5;124;43moverwrite\u001b[39;49m\u001b[38;5;124;43m\"\u001b[39;49m\u001b[43m)\u001b[49m\u001b[38;5;241;43m.\u001b[39;49m\u001b[43mparquet\u001b[49m\u001b[43m(\u001b[49m\u001b[43mfull_path\u001b[49m\u001b[43m,\u001b[49m\u001b[43m \u001b[49m\u001b[43mcompression\u001b[49m\u001b[38;5;241;43m=\u001b[39;49m\u001b[38;5;124;43m\"\u001b[39;49m\u001b[38;5;124;43msnappy\u001b[39;49m\u001b[38;5;124;43m\"\u001b[39;49m\u001b[43m)\u001b[49m\n\u001b[1;32m      2\u001b[0m train\u001b[38;5;241m.\u001b[39mwrite\u001b[38;5;241m.\u001b[39mpartitionBy(\u001b[38;5;124m\"\u001b[39m\u001b[38;5;124mGENDER\u001b[39m\u001b[38;5;124m\"\u001b[39m, \u001b[38;5;124m\"\u001b[39m\u001b[38;5;124mRACE\u001b[39m\u001b[38;5;124m\"\u001b[39m, \u001b[38;5;124m\"\u001b[39m\u001b[38;5;124mETHNIC\u001b[39m\u001b[38;5;124m\"\u001b[39m, \u001b[38;5;124m\"\u001b[39m\u001b[38;5;124mMARSTAT\u001b[39m\u001b[38;5;124m\"\u001b[39m, \u001b[38;5;124m\"\u001b[39m\u001b[38;5;124mEMPLOY\u001b[39m\u001b[38;5;124m\"\u001b[39m)\u001b[38;5;241m.\u001b[39mmode(\u001b[38;5;124m\"\u001b[39m\u001b[38;5;124moverwrite\u001b[39m\u001b[38;5;124m\"\u001b[39m)\u001b[38;5;241m.\u001b[39mparquet(train_path, compression\u001b[38;5;241m=\u001b[39m\u001b[38;5;124m\"\u001b[39m\u001b[38;5;124msnappy\u001b[39m\u001b[38;5;124m\"\u001b[39m)\n\u001b[1;32m      3\u001b[0m test\u001b[38;5;241m.\u001b[39mwrite\u001b[38;5;241m.\u001b[39mpartitionBy(\u001b[38;5;124m\"\u001b[39m\u001b[38;5;124mGENDER\u001b[39m\u001b[38;5;124m\"\u001b[39m, \u001b[38;5;124m\"\u001b[39m\u001b[38;5;124mRACE\u001b[39m\u001b[38;5;124m\"\u001b[39m, \u001b[38;5;124m\"\u001b[39m\u001b[38;5;124mETHNIC\u001b[39m\u001b[38;5;124m\"\u001b[39m, \u001b[38;5;124m\"\u001b[39m\u001b[38;5;124mMARSTAT\u001b[39m\u001b[38;5;124m\"\u001b[39m, \u001b[38;5;124m\"\u001b[39m\u001b[38;5;124mEMPLOY\u001b[39m\u001b[38;5;124m\"\u001b[39m)\u001b[38;5;241m.\u001b[39mmode(\u001b[38;5;124m\"\u001b[39m\u001b[38;5;124moverwrite\u001b[39m\u001b[38;5;124m\"\u001b[39m)\u001b[38;5;241m.\u001b[39mparquet(test_path, compression\u001b[38;5;241m=\u001b[39m\u001b[38;5;124m\"\u001b[39m\u001b[38;5;124msnappy\u001b[39m\u001b[38;5;124m\"\u001b[39m)\n",
      "File \u001b[0;32m~/miniforge3/envs/crisis_text_line/lib/python3.10/site-packages/pyspark/sql/readwriter.py:1721\u001b[0m, in \u001b[0;36mDataFrameWriter.parquet\u001b[0;34m(self, path, mode, partitionBy, compression)\u001b[0m\n\u001b[1;32m   1719\u001b[0m     \u001b[38;5;28mself\u001b[39m\u001b[38;5;241m.\u001b[39mpartitionBy(partitionBy)\n\u001b[1;32m   1720\u001b[0m \u001b[38;5;28mself\u001b[39m\u001b[38;5;241m.\u001b[39m_set_opts(compression\u001b[38;5;241m=\u001b[39mcompression)\n\u001b[0;32m-> 1721\u001b[0m \u001b[38;5;28;43mself\u001b[39;49m\u001b[38;5;241;43m.\u001b[39;49m\u001b[43m_jwrite\u001b[49m\u001b[38;5;241;43m.\u001b[39;49m\u001b[43mparquet\u001b[49m\u001b[43m(\u001b[49m\u001b[43mpath\u001b[49m\u001b[43m)\u001b[49m\n",
      "File \u001b[0;32m~/miniforge3/envs/crisis_text_line/lib/python3.10/site-packages/py4j/java_gateway.py:1321\u001b[0m, in \u001b[0;36mJavaMember.__call__\u001b[0;34m(self, *args)\u001b[0m\n\u001b[1;32m   1314\u001b[0m args_command, temp_args \u001b[38;5;241m=\u001b[39m \u001b[38;5;28mself\u001b[39m\u001b[38;5;241m.\u001b[39m_build_args(\u001b[38;5;241m*\u001b[39margs)\n\u001b[1;32m   1316\u001b[0m command \u001b[38;5;241m=\u001b[39m proto\u001b[38;5;241m.\u001b[39mCALL_COMMAND_NAME \u001b[38;5;241m+\u001b[39m\\\n\u001b[1;32m   1317\u001b[0m     \u001b[38;5;28mself\u001b[39m\u001b[38;5;241m.\u001b[39mcommand_header \u001b[38;5;241m+\u001b[39m\\\n\u001b[1;32m   1318\u001b[0m     args_command \u001b[38;5;241m+\u001b[39m\\\n\u001b[1;32m   1319\u001b[0m     proto\u001b[38;5;241m.\u001b[39mEND_COMMAND_PART\n\u001b[0;32m-> 1321\u001b[0m answer \u001b[38;5;241m=\u001b[39m \u001b[38;5;28;43mself\u001b[39;49m\u001b[38;5;241;43m.\u001b[39;49m\u001b[43mgateway_client\u001b[49m\u001b[38;5;241;43m.\u001b[39;49m\u001b[43msend_command\u001b[49m\u001b[43m(\u001b[49m\u001b[43mcommand\u001b[49m\u001b[43m)\u001b[49m\n\u001b[1;32m   1322\u001b[0m return_value \u001b[38;5;241m=\u001b[39m get_return_value(\n\u001b[1;32m   1323\u001b[0m     answer, \u001b[38;5;28mself\u001b[39m\u001b[38;5;241m.\u001b[39mgateway_client, \u001b[38;5;28mself\u001b[39m\u001b[38;5;241m.\u001b[39mtarget_id, \u001b[38;5;28mself\u001b[39m\u001b[38;5;241m.\u001b[39mname)\n\u001b[1;32m   1325\u001b[0m \u001b[38;5;28;01mfor\u001b[39;00m temp_arg \u001b[38;5;129;01min\u001b[39;00m temp_args:\n",
      "File \u001b[0;32m~/miniforge3/envs/crisis_text_line/lib/python3.10/site-packages/py4j/java_gateway.py:1038\u001b[0m, in \u001b[0;36mGatewayClient.send_command\u001b[0;34m(self, command, retry, binary)\u001b[0m\n\u001b[1;32m   1036\u001b[0m connection \u001b[38;5;241m=\u001b[39m \u001b[38;5;28mself\u001b[39m\u001b[38;5;241m.\u001b[39m_get_connection()\n\u001b[1;32m   1037\u001b[0m \u001b[38;5;28;01mtry\u001b[39;00m:\n\u001b[0;32m-> 1038\u001b[0m     response \u001b[38;5;241m=\u001b[39m \u001b[43mconnection\u001b[49m\u001b[38;5;241;43m.\u001b[39;49m\u001b[43msend_command\u001b[49m\u001b[43m(\u001b[49m\u001b[43mcommand\u001b[49m\u001b[43m)\u001b[49m\n\u001b[1;32m   1039\u001b[0m     \u001b[38;5;28;01mif\u001b[39;00m binary:\n\u001b[1;32m   1040\u001b[0m         \u001b[38;5;28;01mreturn\u001b[39;00m response, \u001b[38;5;28mself\u001b[39m\u001b[38;5;241m.\u001b[39m_create_connection_guard(connection)\n",
      "File \u001b[0;32m~/miniforge3/envs/crisis_text_line/lib/python3.10/site-packages/py4j/clientserver.py:511\u001b[0m, in \u001b[0;36mClientServerConnection.send_command\u001b[0;34m(self, command)\u001b[0m\n\u001b[1;32m    509\u001b[0m \u001b[38;5;28;01mtry\u001b[39;00m:\n\u001b[1;32m    510\u001b[0m     \u001b[38;5;28;01mwhile\u001b[39;00m \u001b[38;5;28;01mTrue\u001b[39;00m:\n\u001b[0;32m--> 511\u001b[0m         answer \u001b[38;5;241m=\u001b[39m smart_decode(\u001b[38;5;28;43mself\u001b[39;49m\u001b[38;5;241;43m.\u001b[39;49m\u001b[43mstream\u001b[49m\u001b[38;5;241;43m.\u001b[39;49m\u001b[43mreadline\u001b[49m\u001b[43m(\u001b[49m\u001b[43m)\u001b[49m[:\u001b[38;5;241m-\u001b[39m\u001b[38;5;241m1\u001b[39m])\n\u001b[1;32m    512\u001b[0m         logger\u001b[38;5;241m.\u001b[39mdebug(\u001b[38;5;124m\"\u001b[39m\u001b[38;5;124mAnswer received: \u001b[39m\u001b[38;5;132;01m{0}\u001b[39;00m\u001b[38;5;124m\"\u001b[39m\u001b[38;5;241m.\u001b[39mformat(answer))\n\u001b[1;32m    513\u001b[0m         \u001b[38;5;66;03m# Happens when a the other end is dead. There might be an empty\u001b[39;00m\n\u001b[1;32m    514\u001b[0m         \u001b[38;5;66;03m# answer before the socket raises an error.\u001b[39;00m\n",
      "File \u001b[0;32m~/miniforge3/envs/crisis_text_line/lib/python3.10/socket.py:705\u001b[0m, in \u001b[0;36mSocketIO.readinto\u001b[0;34m(self, b)\u001b[0m\n\u001b[1;32m    703\u001b[0m \u001b[38;5;28;01mwhile\u001b[39;00m \u001b[38;5;28;01mTrue\u001b[39;00m:\n\u001b[1;32m    704\u001b[0m     \u001b[38;5;28;01mtry\u001b[39;00m:\n\u001b[0;32m--> 705\u001b[0m         \u001b[38;5;28;01mreturn\u001b[39;00m \u001b[38;5;28;43mself\u001b[39;49m\u001b[38;5;241;43m.\u001b[39;49m\u001b[43m_sock\u001b[49m\u001b[38;5;241;43m.\u001b[39;49m\u001b[43mrecv_into\u001b[49m\u001b[43m(\u001b[49m\u001b[43mb\u001b[49m\u001b[43m)\u001b[49m\n\u001b[1;32m    706\u001b[0m     \u001b[38;5;28;01mexcept\u001b[39;00m timeout:\n\u001b[1;32m    707\u001b[0m         \u001b[38;5;28mself\u001b[39m\u001b[38;5;241m.\u001b[39m_timeout_occurred \u001b[38;5;241m=\u001b[39m \u001b[38;5;28;01mTrue\u001b[39;00m\n",
      "\u001b[0;31mKeyboardInterrupt\u001b[0m: "
     ]
    },
    {
     "name": "stderr",
     "output_type": "stream",
     "text": [
      "[Stage 202:=========>                                            (60 + 8) / 341]\r"
     ]
    }
   ],
   "source": [
    "silver_df_part_3.repartition(16, \"RACE\").write.partitionBy(\"GENDER\", \"RACE\", \"ETHNIC\", \"MARSTAT\", \"EMPLOY\").mode(\"overwrite\").parquet(full_path, compression=\"snappy\")\n",
    "train.write.partitionBy(\"GENDER\", \"RACE\", \"ETHNIC\", \"MARSTAT\", \"EMPLOY\").mode(\"overwrite\").parquet(train_path, compression=\"snappy\")\n",
    "test.write.partitionBy(\"GENDER\", \"RACE\", \"ETHNIC\", \"MARSTAT\", \"EMPLOY\").mode(\"overwrite\").parquet(test_path, compression=\"snappy\")\n",
    "validation.write.partitionBy(\"GENDER\", \"RACE\", \"ETHNIC\", \"MARSTAT\", \"EMPLOY\").mode(\"overwrite\").parquet(validation_path, compression=\"snappy\")"
   ]
  },
  {
   "cell_type": "code",
   "execution_count": null,
   "metadata": {},
   "outputs": [],
   "source": [
    "silver_df_part_3.printSchema()"
   ]
  },
  {
   "cell_type": "code",
   "execution_count": null,
   "metadata": {},
   "outputs": [],
   "source": [
    "silver_df_part_3.show()"
   ]
  },
  {
   "cell_type": "code",
   "execution_count": null,
   "metadata": {},
   "outputs": [],
   "source": [
    "train.show()"
   ]
  },
  {
   "cell_type": "code",
   "execution_count": null,
   "metadata": {},
   "outputs": [],
   "source": [
    "validation.show()"
   ]
  },
  {
   "cell_type": "code",
   "execution_count": null,
   "metadata": {},
   "outputs": [],
   "source": [
    "test.show()"
   ]
  },
  {
   "cell_type": "markdown",
   "metadata": {},
   "source": [
    "Business (Gold) Layer\n",
    "- i. Create a gold table to store the final, curated data.\n",
    "- ii. Perform additional transformations and calculations to create\n",
    "business-ready datasets.\n",
    "- iii. Partition the gold table by an appropriate column(s) to improve query performance.\n",
    "- iv. Prepare to discuss how you would handle schema checks to ensure the\n",
    "final data meets the expected schema.\n",
    "- v. Prepare to discuss how you would handle monitoring to track the success\n",
    "and failure of the gold layer processing"
   ]
  },
  {
   "cell_type": "code",
   "execution_count": null,
   "metadata": {},
   "outputs": [],
   "source": [
    "\n",
    "\n",
    "gold_df = silver_df_part_3\n",
    "\n",
    "\n"
   ]
  },
  {
   "cell_type": "code",
   "execution_count": null,
   "metadata": {},
   "outputs": [],
   "source": [
    "gold_df.printSchema()"
   ]
  },
  {
   "cell_type": "code",
   "execution_count": null,
   "metadata": {},
   "outputs": [],
   "source": [
    "expected_schema = T.StructType([\n",
    "    T.StructField(\"YEAR\", T.IntegerType(), True),\n",
    "    T.StructField(\"AGE\", T.IntegerType(), True),\n",
    "    T.StructField(\"EDUC\", T.IntegerType(), True),\n",
    "    T.StructField(\"SPHSERVICE\", T.IntegerType(), True),\n",
    "    T.StructField(\"CMPSERVICE\", T.IntegerType(), True),\n",
    "    T.StructField(\"OPISERVICE\", T.IntegerType(), True),\n",
    "    T.StructField(\"RTCSERVICE\", T.IntegerType(), True),\n",
    "    T.StructField(\"IJSSERVICE\", T.IntegerType(), True),\n",
    "    T.StructField(\"MH1\", T.IntegerType(), True),\n",
    "    T.StructField(\"MH2\", T.IntegerType(), True),\n",
    "    T.StructField(\"MH3\", T.IntegerType(), True),\n",
    "    T.StructField(\"SUB\", T.IntegerType(), True),\n",
    "    T.StructField(\"SMISED\", T.IntegerType(), True),\n",
    "    T.StructField(\"SAP\", T.IntegerType(), True),\n",
    "    T.StructField(\"DETNLF\", T.IntegerType(), True),\n",
    "    T.StructField(\"VETERAN\", T.IntegerType(), True),\n",
    "    T.StructField(\"LIVARAG\", T.IntegerType(), True),\n",
    "    T.StructField(\"NUMMHS\", T.FloatType(), True),\n",
    "    T.StructField(\"TRAUSTREFLG\", T.FloatType(), True),\n",
    "    T.StructField(\"ANXIETYFLG\", T.FloatType(), True),\n",
    "    T.StructField(\"ADHDFLG\", T.FloatType(), True),\n",
    "    T.StructField(\"CONDUCTFLG\", T.FloatType(), True),\n",
    "    T.StructField(\"DELIRDEMFLG\", T.FloatType(), True),\n",
    "    T.StructField(\"BIPOLARFLG\", T.FloatType(), True),\n",
    "    T.StructField(\"DEPRESSFLG\", T.FloatType(), True),\n",
    "    T.StructField(\"ODDFLG\", T.FloatType(), True),\n",
    "    T.StructField(\"PDDFLG\", T.FloatType(), True),\n",
    "    T.StructField(\"PERSONFLG\", T.FloatType(), True),\n",
    "    T.StructField(\"SCHIZOFLG\", T.FloatType(), True),\n",
    "    T.StructField(\"ALCSUBFLG\", T.FloatType(), True),\n",
    "    T.StructField(\"OTHERDISFLG\", T.FloatType(), True),\n",
    "    T.StructField(\"STATEFIP\", T.IntegerType(), True),\n",
    "    T.StructField(\"DIVISION\", T.IntegerType(), True),\n",
    "    T.StructField(\"REGION\", T.IntegerType(), True),\n",
    "    T.StructField(\"CASEID\", T.LongType(), True),\n",
    "    T.StructField(\"GENDER\", T.IntegerType(), True),\n",
    "    T.StructField(\"RACE\", T.IntegerType(), True),\n",
    "    T.StructField(\"ETHNIC\", T.IntegerType(), True),\n",
    "    T.StructField(\"MARSTAT\", T.IntegerType(), True),\n",
    "    T.StructField(\"EMPLOY\", T.IntegerType(), True),\n",
    "    T.StructField(\"GENDER_mapped\", T.StringType(), True),\n",
    "    T.StructField(\"RACE_mapped\", T.StringType(), True),\n",
    "    T.StructField(\"MARSTAT_mapped\", T.StringType(), True),\n",
    "    T.StructField(\"EMPLOY_mapped\", T.StringType(), True),\n",
    "    T.StructField(\"ETHNIC_mapped\", T.StringType(), True),\n",
    "    T.StructField(\"CASEID_int\", T.IntegerType(), True),\n",
    "    T.StructField(\"NUMMHS_normalized\", T.FloatType(), True),\n",
    "    T.StructField(\"TRAUSTREFLG_normalized\", T.FloatType(), True),\n",
    "    T.StructField(\"ANXIETYFLG_normalized\", T.FloatType(), True),\n",
    "    T.StructField(\"ADHDFLG_normalized\", T.FloatType(), True),\n",
    "    T.StructField(\"CONDUCTFLG_normalized\", T.FloatType(), True),\n",
    "    T.StructField(\"DELIRDEMFLG_normalized\", T.FloatType(), True),\n",
    "    T.StructField(\"BIPOLARFLG_normalized\", T.FloatType(), True),\n",
    "    T.StructField(\"DEPRESSFLG_normalized\", T.FloatType(), True),\n",
    "    T.StructField(\"ODDFLG_normalized\", T.FloatType(), True),\n",
    "    T.StructField(\"PDDFLG_normalized\", T.FloatType(), True),\n",
    "    T.StructField(\"PERSONFLG_normalized\", T.FloatType(), True),\n",
    "    T.StructField(\"SCHIZOFLG_normalized\", T.FloatType(), True),\n",
    "    T.StructField(\"ALCSUBFLG_normalized\", T.FloatType(), True),\n",
    "    T.StructField(\"OTHERDISFLG_normalized\", T.FloatType(), True),\n",
    "    T.StructField(\"NUMMHS_standardized\", T.FloatType(), True),\n",
    "    T.StructField(\"TRAUSTREFLG_standardized\", T.FloatType(), True),\n",
    "    T.StructField(\"ANXIETYFLG_standardized\", T.FloatType(), True),\n",
    "    T.StructField(\"ADHDFLG_standardized\", T.FloatType(), True),\n",
    "    T.StructField(\"CONDUCTFLG_standardized\", T.FloatType(), True),\n",
    "    T.StructField(\"DELIRDEMFLG_standardized\", T.FloatType(), True),\n",
    "    T.StructField(\"BIPOLARFLG_standardized\", T.FloatType(), True),\n",
    "    T.StructField(\"DEPRESSFLG_standardized\", T.FloatType(), True),\n",
    "    T.StructField(\"ODDFLG_standardized\", T.FloatType(), True),\n",
    "    T.StructField(\"PDDFLG_standardized\", T.FloatType(), True),\n",
    "    T.StructField(\"PERSONFLG_standardized\", T.FloatType(), True),\n",
    "    T.StructField(\"SCHIZOFLG_standardized\", T.FloatType(), True),\n",
    "    T.StructField(\"ALCSUBFLG_standardized\", T.FloatType(), True),\n",
    "    T.StructField(\"OTHERDISFLG_standardized\", T.FloatType(), True)\n",
    "])\n",
    "\n",
    "# gold_df = gold_df.withColumn(\"strataIndex\", F.col(\"strataIndex\").cast(T.DoubleType()).alias(\"strataIndex\", metadata={\"nullable\": \"false\"}))\n",
    "\n",
    "gold_df = gold_df.drop(\"demographic_strata\")\n",
    "\n",
    "gold_df = gold_df.drop(\"strataIndex\")\n",
    "\n",
    "def validate_schema(df, expected_schema):\n",
    "    return df.schema == expected_schema\n",
    "\n",
    "validate_schema(gold_df, expected_schema)"
   ]
  },
  {
   "cell_type": "markdown",
   "metadata": {},
   "source": [
    "Write SQL Queries (Live Code):\n",
    "- a. Write SQL queries to retrieve data from the bronze, silver, and gold tables.\n",
    "- b. Demonstrate your understanding of the data and the transformations performed"
   ]
  },
  {
   "cell_type": "markdown",
   "metadata": {},
   "source": [
    "Documentation and Presentation:\n",
    "- a. Document in a Readme the entire process, including the data sources, transformations, and the rationale behind the Medallion Architecture implementation.\n",
    "- b. Prepare to speak about the schema checks, monitoring, logging, and exception handling mechanisms implemented throughout the process.\n",
    "- c. Please send a github-link to the notebook/code you used for the exercise & all documentation 24 hours before your interview.\n",
    "- d. Document how we can run & test your code/notebook"
   ]
  },
  {
   "cell_type": "code",
   "execution_count": 45,
   "metadata": {},
   "outputs": [],
   "source": [
    "spark.stop()"
   ]
  },
  {
   "cell_type": "markdown",
   "metadata": {},
   "source": []
  },
  {
   "cell_type": "markdown",
   "metadata": {},
   "source": []
  }
 ],
 "metadata": {
  "kernelspec": {
   "display_name": "crisis_text_line",
   "language": "python",
   "name": "python3"
  },
  "language_info": {
   "codemirror_mode": {
    "name": "ipython",
    "version": 3
   },
   "file_extension": ".py",
   "mimetype": "text/x-python",
   "name": "python",
   "nbconvert_exporter": "python",
   "pygments_lexer": "ipython3",
   "version": "3.10.14"
  }
 },
 "nbformat": 4,
 "nbformat_minor": 2
}
